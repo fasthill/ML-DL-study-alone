{
  "cells": [
    {
      "cell_type": "markdown",
      "metadata": {
        "id": "view-in-github",
        "colab_type": "text"
      },
      "source": [
        "<a href=\"https://colab.research.google.com/github/fasthill/ML-DL-study-alone/blob/main/9-3%20LSTM%EA%B3%BC%20GRU%20%EC%85%80.ipynb\" target=\"_parent\"><img src=\"https://colab.research.google.com/assets/colab-badge.svg\" alt=\"Open In Colab\"/></a>"
      ]
    },
    {
      "cell_type": "markdown",
      "metadata": {
        "id": "AlaMdWF26k2H"
      },
      "source": [
        "# LSTM과 GRU 셀"
      ]
    },
    {
      "cell_type": "markdown",
      "source": [
        "## 데이터 정리 및 모델 생성"
      ],
      "metadata": {
        "id": "4VLhkTK-MrTi"
      }
    },
    {
      "cell_type": "code",
      "source": [
        "import numpy as np\n",
        "import matplotlib.pyplot as plt\n",
        "\n",
        "from sklearn.model_selection import train_test_split\n",
        "from tensorflow import keras\n",
        "from tensorflow.keras.datasets import imdb\n",
        "from tensorflow.keras.layers import Embedding, Dense, Dropout, LSTM, GRU\n",
        "from tensorflow.keras import Sequential\n",
        "from tensorflow.keras.preprocessing.sequence import pad_sequences\n",
        "from tensorflow.keras.callbacks import ModelCheckpoint, EarlyStopping\n",
        "from tensorflow.keras.optimizers import RMSprop"
      ],
      "metadata": {
        "id": "xVhvOGL2MzEq"
      },
      "execution_count": 1,
      "outputs": []
    },
    {
      "cell_type": "code",
      "source": [
        "(train_input, train_target), (test_input, test_target) = imdb.load_data(num_words=500)"
      ],
      "metadata": {
        "id": "hQnmr9F-MzJE",
        "outputId": "eb35a467-c37d-4b10-91fa-8f35cebe8bf2",
        "colab": {
          "base_uri": "https://localhost:8080/"
        }
      },
      "execution_count": 2,
      "outputs": [
        {
          "output_type": "stream",
          "name": "stdout",
          "text": [
            "Downloading data from https://storage.googleapis.com/tensorflow/tf-keras-datasets/imdb.npz\n",
            "17465344/17464789 [==============================] - 1s 0us/step\n",
            "17473536/17464789 [==============================] - 1s 0us/step\n"
          ]
        }
      ]
    },
    {
      "cell_type": "code",
      "source": [
        "train_input, val_input, train_target, val_target = train_test_split(train_input, train_target, test_size=0.2, random_state=42)"
      ],
      "metadata": {
        "id": "ir8k7qVEMzMN"
      },
      "execution_count": 3,
      "outputs": []
    },
    {
      "cell_type": "code",
      "source": [
        "train_seq = pad_sequences(train_input, maxlen=100)\n",
        "val_seq = pad_sequences(val_input, maxlen=100)"
      ],
      "metadata": {
        "id": "gUYJS6kIdt2r"
      },
      "execution_count": 4,
      "outputs": []
    },
    {
      "cell_type": "markdown",
      "source": [
        "## LSTM 신경망 훈련하기"
      ],
      "metadata": {
        "id": "pcExqKHyMnDH"
      }
    },
    {
      "cell_type": "code",
      "source": [
        "model = Sequential()\n",
        "model.add(Embedding(500, 16, input_length=100))\n",
        "model.add(LSTM(8))\n",
        "model.add(Dense(1, activation='sigmoid'))"
      ],
      "metadata": {
        "id": "P8GNeei2JpG9"
      },
      "execution_count": 5,
      "outputs": []
    },
    {
      "cell_type": "code",
      "source": [
        "model.summary()"
      ],
      "metadata": {
        "id": "2rc5jmvDc9N5",
        "outputId": "5eab783a-6361-4199-b697-21eca3deaa12",
        "colab": {
          "base_uri": "https://localhost:8080/"
        }
      },
      "execution_count": 6,
      "outputs": [
        {
          "output_type": "stream",
          "name": "stdout",
          "text": [
            "Model: \"sequential\"\n",
            "_________________________________________________________________\n",
            " Layer (type)                Output Shape              Param #   \n",
            "=================================================================\n",
            " embedding (Embedding)       (None, 100, 16)           8000      \n",
            "                                                                 \n",
            " lstm (LSTM)                 (None, 8)                 800       \n",
            "                                                                 \n",
            " dense (Dense)               (None, 1)                 9         \n",
            "                                                                 \n",
            "=================================================================\n",
            "Total params: 8,809\n",
            "Trainable params: 8,809\n",
            "Non-trainable params: 0\n",
            "_________________________________________________________________\n"
          ]
        }
      ]
    },
    {
      "cell_type": "code",
      "source": [
        "rmsprop = RMSprop(learning_rate=0.0001)\n",
        "model.compile(optimizer=rmsprop, loss='binary_crossentropy', metrics=['accuracy'])"
      ],
      "metadata": {
        "id": "-lD8PD3ldCFy"
      },
      "execution_count": 7,
      "outputs": []
    },
    {
      "cell_type": "code",
      "source": [
        "checkpoint_cb = ModelCheckpoint('best_lstm_model.h5', save_best_only=True)\n",
        "early_stopping_cb = EarlyStopping(patience=3, restore_best_weights=True)"
      ],
      "metadata": {
        "id": "ldmfAykGdl2Y"
      },
      "execution_count": 8,
      "outputs": []
    },
    {
      "cell_type": "code",
      "source": [
        "history = model.fit(train_seq, train_target,\n",
        "                    epochs=100, batch_size=64, verbose=1,\n",
        "                    validation_data=(val_seq, val_target),\n",
        "                    callbacks=[checkpoint_cb, early_stopping_cb])"
      ],
      "metadata": {
        "id": "KeC8OGo1dl6K",
        "outputId": "c2a19e64-a797-462a-cc80-f21d19ddb6e6",
        "colab": {
          "base_uri": "https://localhost:8080/"
        }
      },
      "execution_count": 9,
      "outputs": [
        {
          "output_type": "stream",
          "name": "stdout",
          "text": [
            "Epoch 1/100\n",
            "313/313 [==============================] - 14s 23ms/step - loss: 0.6926 - accuracy: 0.5487 - val_loss: 0.6920 - val_accuracy: 0.5590\n",
            "Epoch 2/100\n",
            "313/313 [==============================] - 7s 21ms/step - loss: 0.6906 - accuracy: 0.6065 - val_loss: 0.6892 - val_accuracy: 0.6160\n",
            "Epoch 3/100\n",
            "313/313 [==============================] - 6s 21ms/step - loss: 0.6854 - accuracy: 0.6378 - val_loss: 0.6812 - val_accuracy: 0.6534\n",
            "Epoch 4/100\n",
            "313/313 [==============================] - 6s 21ms/step - loss: 0.6685 - accuracy: 0.6591 - val_loss: 0.6509 - val_accuracy: 0.6670\n",
            "Epoch 5/100\n",
            "313/313 [==============================] - 6s 21ms/step - loss: 0.6106 - accuracy: 0.7072 - val_loss: 0.5888 - val_accuracy: 0.7360\n",
            "Epoch 6/100\n",
            "313/313 [==============================] - 7s 21ms/step - loss: 0.5700 - accuracy: 0.7413 - val_loss: 0.5617 - val_accuracy: 0.7486\n",
            "Epoch 7/100\n",
            "313/313 [==============================] - 7s 21ms/step - loss: 0.5446 - accuracy: 0.7566 - val_loss: 0.5394 - val_accuracy: 0.7540\n",
            "Epoch 8/100\n",
            "313/313 [==============================] - 7s 21ms/step - loss: 0.5223 - accuracy: 0.7674 - val_loss: 0.5178 - val_accuracy: 0.7692\n",
            "Epoch 9/100\n",
            "313/313 [==============================] - 7s 21ms/step - loss: 0.5025 - accuracy: 0.7767 - val_loss: 0.5056 - val_accuracy: 0.7674\n",
            "Epoch 10/100\n",
            "313/313 [==============================] - 7s 21ms/step - loss: 0.4859 - accuracy: 0.7833 - val_loss: 0.4869 - val_accuracy: 0.7806\n",
            "Epoch 11/100\n",
            "313/313 [==============================] - 6s 21ms/step - loss: 0.4731 - accuracy: 0.7882 - val_loss: 0.4812 - val_accuracy: 0.7844\n",
            "Epoch 12/100\n",
            "313/313 [==============================] - 6s 21ms/step - loss: 0.4632 - accuracy: 0.7939 - val_loss: 0.4699 - val_accuracy: 0.7832\n",
            "Epoch 13/100\n",
            "313/313 [==============================] - 6s 21ms/step - loss: 0.4552 - accuracy: 0.7992 - val_loss: 0.4637 - val_accuracy: 0.7870\n",
            "Epoch 14/100\n",
            "313/313 [==============================] - 6s 21ms/step - loss: 0.4488 - accuracy: 0.8016 - val_loss: 0.4594 - val_accuracy: 0.7884\n",
            "Epoch 15/100\n",
            "313/313 [==============================] - 6s 21ms/step - loss: 0.4435 - accuracy: 0.8040 - val_loss: 0.4547 - val_accuracy: 0.7930\n",
            "Epoch 16/100\n",
            "313/313 [==============================] - 7s 21ms/step - loss: 0.4390 - accuracy: 0.8048 - val_loss: 0.4528 - val_accuracy: 0.7924\n",
            "Epoch 17/100\n",
            "313/313 [==============================] - 7s 21ms/step - loss: 0.4353 - accuracy: 0.8077 - val_loss: 0.4508 - val_accuracy: 0.7936\n",
            "Epoch 18/100\n",
            "313/313 [==============================] - 7s 21ms/step - loss: 0.4325 - accuracy: 0.8078 - val_loss: 0.4475 - val_accuracy: 0.7952\n",
            "Epoch 19/100\n",
            "313/313 [==============================] - 6s 21ms/step - loss: 0.4295 - accuracy: 0.8104 - val_loss: 0.4477 - val_accuracy: 0.7934\n",
            "Epoch 20/100\n",
            "313/313 [==============================] - 6s 21ms/step - loss: 0.4271 - accuracy: 0.8108 - val_loss: 0.4459 - val_accuracy: 0.7986\n",
            "Epoch 21/100\n",
            "313/313 [==============================] - 6s 21ms/step - loss: 0.4254 - accuracy: 0.8105 - val_loss: 0.4448 - val_accuracy: 0.7962\n",
            "Epoch 22/100\n",
            "313/313 [==============================] - 6s 21ms/step - loss: 0.4236 - accuracy: 0.8117 - val_loss: 0.4423 - val_accuracy: 0.7958\n",
            "Epoch 23/100\n",
            "313/313 [==============================] - 6s 21ms/step - loss: 0.4220 - accuracy: 0.8131 - val_loss: 0.4453 - val_accuracy: 0.7968\n",
            "Epoch 24/100\n",
            "313/313 [==============================] - 6s 21ms/step - loss: 0.4212 - accuracy: 0.8131 - val_loss: 0.4399 - val_accuracy: 0.7974\n",
            "Epoch 25/100\n",
            "313/313 [==============================] - 7s 21ms/step - loss: 0.4193 - accuracy: 0.8146 - val_loss: 0.4386 - val_accuracy: 0.7974\n",
            "Epoch 26/100\n",
            "313/313 [==============================] - 7s 21ms/step - loss: 0.4185 - accuracy: 0.8142 - val_loss: 0.4382 - val_accuracy: 0.7972\n",
            "Epoch 27/100\n",
            "313/313 [==============================] - 6s 21ms/step - loss: 0.4174 - accuracy: 0.8145 - val_loss: 0.4384 - val_accuracy: 0.7976\n",
            "Epoch 28/100\n",
            "313/313 [==============================] - 6s 21ms/step - loss: 0.4167 - accuracy: 0.8141 - val_loss: 0.4382 - val_accuracy: 0.7986\n",
            "Epoch 29/100\n",
            "313/313 [==============================] - 6s 21ms/step - loss: 0.4160 - accuracy: 0.8156 - val_loss: 0.4381 - val_accuracy: 0.7956\n",
            "Epoch 30/100\n",
            "313/313 [==============================] - 7s 21ms/step - loss: 0.4151 - accuracy: 0.8155 - val_loss: 0.4377 - val_accuracy: 0.7958\n",
            "Epoch 31/100\n",
            "313/313 [==============================] - 6s 20ms/step - loss: 0.4143 - accuracy: 0.8148 - val_loss: 0.4400 - val_accuracy: 0.7988\n",
            "Epoch 32/100\n",
            "313/313 [==============================] - 6s 21ms/step - loss: 0.4139 - accuracy: 0.8152 - val_loss: 0.4352 - val_accuracy: 0.7994\n",
            "Epoch 33/100\n",
            "313/313 [==============================] - 6s 21ms/step - loss: 0.4129 - accuracy: 0.8163 - val_loss: 0.4361 - val_accuracy: 0.8008\n",
            "Epoch 34/100\n",
            "313/313 [==============================] - 7s 21ms/step - loss: 0.4126 - accuracy: 0.8148 - val_loss: 0.4340 - val_accuracy: 0.8016\n",
            "Epoch 35/100\n",
            "313/313 [==============================] - 6s 21ms/step - loss: 0.4118 - accuracy: 0.8169 - val_loss: 0.4332 - val_accuracy: 0.8032\n",
            "Epoch 36/100\n",
            "313/313 [==============================] - 6s 20ms/step - loss: 0.4110 - accuracy: 0.8176 - val_loss: 0.4341 - val_accuracy: 0.7992\n",
            "Epoch 37/100\n",
            "313/313 [==============================] - 6s 21ms/step - loss: 0.4110 - accuracy: 0.8159 - val_loss: 0.4343 - val_accuracy: 0.8028\n",
            "Epoch 38/100\n",
            "313/313 [==============================] - 6s 21ms/step - loss: 0.4105 - accuracy: 0.8156 - val_loss: 0.4335 - val_accuracy: 0.8008\n"
          ]
        }
      ]
    },
    {
      "cell_type": "code",
      "source": [
        "plt.plot(history.history['loss'])\n",
        "plt.plot(history.history['val_loss'])\n",
        "plt.xlabel('epoch')\n",
        "plt.ylabel('loss')\n",
        "plt.legend(['train loss', 'val loss'])\n",
        "plt.show()"
      ],
      "metadata": {
        "id": "sFJ3c9Abe4Ka",
        "outputId": "1d5e2cc2-e3eb-48f9-a3f5-accec7b7446e",
        "colab": {
          "base_uri": "https://localhost:8080/",
          "height": 278
        }
      },
      "execution_count": 10,
      "outputs": [
        {
          "output_type": "display_data",
          "data": {
            "image/png": "[encoded data removed]",
            "text/plain": [
              "<Figure size 432x288 with 1 Axes>"
            ]
          },
          "metadata": {
            "needs_background": "light"
          }
        }
      ]
    },
    {
      "cell_type": "code",
      "source": [
        "plt.plot(history.history['accuracy'])\n",
        "plt.plot(history.history['val_accuracy'])\n",
        "plt.xlabel('epoch')\n",
        "plt.ylabel('accuracy')\n",
        "plt.legend(['train accuracy', 'val accuracy'])\n",
        "plt.show()"
      ],
      "metadata": {
        "id": "gKxZiO7Ke4N5",
        "outputId": "3d0c5e13-68dd-4e43-cc3c-3d23c0151b27",
        "colab": {
          "base_uri": "https://localhost:8080/",
          "height": 278
        }
      },
      "execution_count": 11,
      "outputs": [
        {
          "output_type": "display_data",
          "data": {
            "image/png": "[encoded data removed]",
            "text/plain": [
              "<Figure size 432x288 with 1 Axes>"
            ]
          },
          "metadata": {
            "needs_background": "light"
          }
        }
      ]
    },
    {
      "cell_type": "markdown",
      "source": [
        "## 순환 층에 드롭아웃 적용하기"
      ],
      "metadata": {
        "id": "EjzPzs7ujY1_"
      }
    },
    {
      "cell_type": "code",
      "source": [
        "model2 = Sequential()\n",
        "model2.add(Embedding(500, 16, input_length=100))\n",
        "model2.add(LSTM(8, dropout=0.3))\n",
        "model2.add(Dense(1, activation='sigmoid'))"
      ],
      "metadata": {
        "id": "UiRNLzFojavK"
      },
      "execution_count": 12,
      "outputs": []
    },
    {
      "cell_type": "code",
      "source": [
        "rmsprop = RMSprop(learning_rate=0.0001)\n",
        "model2.compile(optimizer=rmsprop, loss='binary_crossentropy', metrics=['accuracy'])"
      ],
      "metadata": {
        "id": "8rqP4yOsjay4"
      },
      "execution_count": 13,
      "outputs": []
    },
    {
      "cell_type": "code",
      "source": [
        "checkpoint_cb = ModelCheckpoint('best_lstm_dropout_model.h5', save_best_only=True)\n",
        "early_stopping_cb = EarlyStopping(patience=3, restore_best_weights=True)"
      ],
      "metadata": {
        "id": "IZUTTUi0kDa6"
      },
      "execution_count": 14,
      "outputs": []
    },
    {
      "cell_type": "code",
      "source": [
        "history2 = model2.fit(train_seq, train_target,\n",
        "                    epochs=100, batch_size=64, verbose=1,\n",
        "                    validation_data=(val_seq, val_target),\n",
        "                    callbacks=[checkpoint_cb, early_stopping_cb])"
      ],
      "metadata": {
        "id": "gwZmS5pDja1k",
        "outputId": "a875c92f-52b2-4ac1-e2c2-09ee4f62504c",
        "colab": {
          "base_uri": "https://localhost:8080/"
        }
      },
      "execution_count": 15,
      "outputs": [
        {
          "output_type": "stream",
          "name": "stdout",
          "text": [
            "Epoch 1/100\n",
            "313/313 [==============================] - 10s 22ms/step - loss: 0.6927 - accuracy: 0.5250 - val_loss: 0.6923 - val_accuracy: 0.5488\n",
            "Epoch 2/100\n",
            "313/313 [==============================] - 6s 21ms/step - loss: 0.6916 - accuracy: 0.5741 - val_loss: 0.6909 - val_accuracy: 0.5930\n",
            "Epoch 3/100\n",
            "313/313 [==============================] - 6s 21ms/step - loss: 0.6893 - accuracy: 0.6068 - val_loss: 0.6880 - val_accuracy: 0.6180\n",
            "Epoch 4/100\n",
            "313/313 [==============================] - 7s 21ms/step - loss: 0.6846 - accuracy: 0.6353 - val_loss: 0.6816 - val_accuracy: 0.6288\n",
            "Epoch 5/100\n",
            "313/313 [==============================] - 7s 21ms/step - loss: 0.6712 - accuracy: 0.6444 - val_loss: 0.6581 - val_accuracy: 0.6586\n",
            "Epoch 6/100\n",
            "313/313 [==============================] - 6s 21ms/step - loss: 0.6200 - accuracy: 0.7053 - val_loss: 0.5945 - val_accuracy: 0.7328\n",
            "Epoch 7/100\n",
            "313/313 [==============================] - 6s 21ms/step - loss: 0.5789 - accuracy: 0.7386 - val_loss: 0.5674 - val_accuracy: 0.7386\n",
            "Epoch 8/100\n",
            "313/313 [==============================] - 6s 21ms/step - loss: 0.5528 - accuracy: 0.7463 - val_loss: 0.5417 - val_accuracy: 0.7546\n",
            "Epoch 9/100\n",
            "313/313 [==============================] - 6s 21ms/step - loss: 0.5292 - accuracy: 0.7615 - val_loss: 0.5208 - val_accuracy: 0.7622\n",
            "Epoch 10/100\n",
            "313/313 [==============================] - 6s 21ms/step - loss: 0.5105 - accuracy: 0.7685 - val_loss: 0.5035 - val_accuracy: 0.7716\n",
            "Epoch 11/100\n",
            "313/313 [==============================] - 6s 21ms/step - loss: 0.4976 - accuracy: 0.7768 - val_loss: 0.4926 - val_accuracy: 0.7788\n",
            "Epoch 12/100\n",
            "313/313 [==============================] - 7s 21ms/step - loss: 0.4880 - accuracy: 0.7818 - val_loss: 0.4833 - val_accuracy: 0.7840\n",
            "Epoch 13/100\n",
            "313/313 [==============================] - 6s 21ms/step - loss: 0.4792 - accuracy: 0.7836 - val_loss: 0.4771 - val_accuracy: 0.7880\n",
            "Epoch 14/100\n",
            "313/313 [==============================] - 6s 21ms/step - loss: 0.4709 - accuracy: 0.7899 - val_loss: 0.4704 - val_accuracy: 0.7880\n",
            "Epoch 15/100\n",
            "313/313 [==============================] - 7s 21ms/step - loss: 0.4655 - accuracy: 0.7912 - val_loss: 0.4653 - val_accuracy: 0.7906\n",
            "Epoch 16/100\n",
            "313/313 [==============================] - 7s 21ms/step - loss: 0.4573 - accuracy: 0.7990 - val_loss: 0.4605 - val_accuracy: 0.7916\n",
            "Epoch 17/100\n",
            "313/313 [==============================] - 7s 21ms/step - loss: 0.4536 - accuracy: 0.7976 - val_loss: 0.4566 - val_accuracy: 0.7942\n",
            "Epoch 18/100\n",
            "313/313 [==============================] - 6s 21ms/step - loss: 0.4501 - accuracy: 0.7955 - val_loss: 0.4544 - val_accuracy: 0.7968\n",
            "Epoch 19/100\n",
            "313/313 [==============================] - 6s 21ms/step - loss: 0.4471 - accuracy: 0.7993 - val_loss: 0.4511 - val_accuracy: 0.7948\n",
            "Epoch 20/100\n",
            "313/313 [==============================] - 6s 21ms/step - loss: 0.4429 - accuracy: 0.8010 - val_loss: 0.4484 - val_accuracy: 0.7972\n",
            "Epoch 21/100\n",
            "313/313 [==============================] - 7s 21ms/step - loss: 0.4392 - accuracy: 0.8023 - val_loss: 0.4473 - val_accuracy: 0.7944\n",
            "Epoch 22/100\n",
            "313/313 [==============================] - 6s 21ms/step - loss: 0.4369 - accuracy: 0.8037 - val_loss: 0.4473 - val_accuracy: 0.7918\n",
            "Epoch 23/100\n",
            "313/313 [==============================] - 6s 21ms/step - loss: 0.4365 - accuracy: 0.8044 - val_loss: 0.4460 - val_accuracy: 0.8008\n",
            "Epoch 24/100\n",
            "313/313 [==============================] - 6s 21ms/step - loss: 0.4349 - accuracy: 0.8015 - val_loss: 0.4436 - val_accuracy: 0.8018\n",
            "Epoch 25/100\n",
            "313/313 [==============================] - 6s 21ms/step - loss: 0.4308 - accuracy: 0.8067 - val_loss: 0.4428 - val_accuracy: 0.7994\n",
            "Epoch 26/100\n",
            "313/313 [==============================] - 6s 21ms/step - loss: 0.4307 - accuracy: 0.8055 - val_loss: 0.4424 - val_accuracy: 0.7966\n",
            "Epoch 27/100\n",
            "313/313 [==============================] - 6s 21ms/step - loss: 0.4300 - accuracy: 0.8061 - val_loss: 0.4401 - val_accuracy: 0.7966\n",
            "Epoch 28/100\n",
            "313/313 [==============================] - 7s 21ms/step - loss: 0.4274 - accuracy: 0.8057 - val_loss: 0.4393 - val_accuracy: 0.7976\n",
            "Epoch 29/100\n",
            "313/313 [==============================] - 7s 21ms/step - loss: 0.4251 - accuracy: 0.8067 - val_loss: 0.4400 - val_accuracy: 0.7998\n",
            "Epoch 30/100\n",
            "313/313 [==============================] - 6s 21ms/step - loss: 0.4242 - accuracy: 0.8098 - val_loss: 0.4392 - val_accuracy: 0.7958\n",
            "Epoch 31/100\n",
            "313/313 [==============================] - 6s 21ms/step - loss: 0.4245 - accuracy: 0.8076 - val_loss: 0.4410 - val_accuracy: 0.8014\n",
            "Epoch 32/100\n",
            "313/313 [==============================] - 7s 21ms/step - loss: 0.4225 - accuracy: 0.8105 - val_loss: 0.4366 - val_accuracy: 0.7990\n",
            "Epoch 33/100\n",
            "313/313 [==============================] - 7s 21ms/step - loss: 0.4218 - accuracy: 0.8080 - val_loss: 0.4360 - val_accuracy: 0.7988\n",
            "Epoch 34/100\n",
            "313/313 [==============================] - 7s 21ms/step - loss: 0.4202 - accuracy: 0.8092 - val_loss: 0.4356 - val_accuracy: 0.7998\n",
            "Epoch 35/100\n",
            "313/313 [==============================] - 6s 21ms/step - loss: 0.4203 - accuracy: 0.8110 - val_loss: 0.4350 - val_accuracy: 0.7992\n",
            "Epoch 36/100\n",
            "313/313 [==============================] - 7s 21ms/step - loss: 0.4191 - accuracy: 0.8109 - val_loss: 0.4354 - val_accuracy: 0.8030\n",
            "Epoch 37/100\n",
            "313/313 [==============================] - 6s 20ms/step - loss: 0.4172 - accuracy: 0.8089 - val_loss: 0.4379 - val_accuracy: 0.7956\n",
            "Epoch 38/100\n",
            "313/313 [==============================] - 6s 20ms/step - loss: 0.4176 - accuracy: 0.8094 - val_loss: 0.4384 - val_accuracy: 0.7922\n"
          ]
        }
      ]
    },
    {
      "cell_type": "code",
      "source": [
        "plt.plot(history2.history['loss'])\n",
        "plt.plot(history2.history['val_loss'])\n",
        "plt.xlabel('epoch')\n",
        "plt.ylabel('loss')\n",
        "plt.legend(['train loss', 'val loss'])\n",
        "plt.show()"
      ],
      "metadata": {
        "id": "Gcg8nyW6joIh",
        "outputId": "c0c0883b-68e6-44ee-f0f3-e18fee85463d",
        "colab": {
          "base_uri": "https://localhost:8080/",
          "height": 278
        }
      },
      "execution_count": 16,
      "outputs": [
        {
          "output_type": "display_data",
          "data": {
            "image/png": "[encoded data removed]",
            "text/plain": [
              "<Figure size 432x288 with 1 Axes>"
            ]
          },
          "metadata": {
            "needs_background": "light"
          }
        }
      ]
    },
    {
      "cell_type": "code",
      "source": [
        "plt.plot(history2.history['accuracy'])\n",
        "plt.plot(history2.history['val_accuracy'])\n",
        "plt.xlabel('epoch')\n",
        "plt.ylabel('accuracy')\n",
        "plt.legend(['train accuracy', 'val accuracy'])\n",
        "plt.show()"
      ],
      "metadata": {
        "id": "qxv1SSr9joOX",
        "outputId": "858a391b-07ca-42f2-9fea-d79193ec546c",
        "colab": {
          "base_uri": "https://localhost:8080/",
          "height": 278
        }
      },
      "execution_count": 17,
      "outputs": [
        {
          "output_type": "display_data",
          "data": {
            "image/png": "[encoded data removed]",
            "text/plain": [
              "<Figure size 432x288 with 1 Axes>"
            ]
          },
          "metadata": {
            "needs_background": "light"
          }
        }
      ]
    },
    {
      "cell_type": "code",
      "source": [
        "train_seq.nbytes, train_input.nbytes "
      ],
      "metadata": {
        "id": "pc5T_lHPja45",
        "outputId": "48b97f15-ab7a-442c-ebef-25af869dc345",
        "colab": {
          "base_uri": "https://localhost:8080/"
        }
      },
      "execution_count": 18,
      "outputs": [
        {
          "output_type": "execute_result",
          "data": {
            "text/plain": [
              "(8000000, 160000)"
            ]
          },
          "metadata": {},
          "execution_count": 18
        }
      ]
    },
    {
      "cell_type": "markdown",
      "source": [
        "## 2개의 층을 연결하기"
      ],
      "metadata": {
        "id": "wD82Uyi5lrtK"
      }
    },
    {
      "cell_type": "code",
      "source": [
        "model3 = Sequential()\n",
        "model3.add(Embedding(500, 16, input_length=100))\n",
        "model3.add(LSTM(8, dropout=0.3, return_sequences=True)) # 다 층일 경우, return_sequences 를 정의해 주어야 함.\n",
        "model3.add(LSTM(8, dropout=0.3))\n",
        "model3.add(Dense(1, activation='sigmoid'))"
      ],
      "metadata": {
        "id": "Nd3vnK8Oltkj"
      },
      "execution_count": 19,
      "outputs": []
    },
    {
      "cell_type": "code",
      "source": [
        "model3.summary()"
      ],
      "metadata": {
        "id": "Y4n7FSrGltrV",
        "outputId": "2d3dda62-e28b-4200-df97-0736b71a07b6",
        "colab": {
          "base_uri": "https://localhost:8080/"
        }
      },
      "execution_count": 20,
      "outputs": [
        {
          "output_type": "stream",
          "name": "stdout",
          "text": [
            "Model: \"sequential_2\"\n",
            "_________________________________________________________________\n",
            " Layer (type)                Output Shape              Param #   \n",
            "=================================================================\n",
            " embedding_2 (Embedding)     (None, 100, 16)           8000      \n",
            "                                                                 \n",
            " lstm_2 (LSTM)               (None, 100, 8)            800       \n",
            "                                                                 \n",
            " lstm_3 (LSTM)               (None, 8)                 544       \n",
            "                                                                 \n",
            " dense_2 (Dense)             (None, 1)                 9         \n",
            "                                                                 \n",
            "=================================================================\n",
            "Total params: 9,353\n",
            "Trainable params: 9,353\n",
            "Non-trainable params: 0\n",
            "_________________________________________________________________\n"
          ]
        }
      ]
    },
    {
      "cell_type": "markdown",
      "metadata": {
        "id": "DKtQByM96k2S"
      },
      "source": [
        "## 2개의 층을 연결하기"
      ]
    },
    {
      "cell_type": "code",
      "execution_count": 21,
      "metadata": {
        "colab": {
          "base_uri": "https://localhost:8080/"
        },
        "execution": {
          "iopub.execute_input": "2022-01-08T06:50:43.420502Z",
          "iopub.status.busy": "2022-01-08T06:50:43.419839Z",
          "iopub.status.idle": "2022-01-08T06:50:43.869743Z",
          "shell.execute_reply": "2022-01-08T06:50:43.869180Z"
        },
        "id": "YkQboCpD6k2S",
        "outputId": "c62e5ff1-596b-463d-e81d-24a99f8fb764"
      },
      "outputs": [
        {
          "output_type": "stream",
          "name": "stdout",
          "text": [
            "Model: \"sequential_3\"\n",
            "_________________________________________________________________\n",
            " Layer (type)                Output Shape              Param #   \n",
            "=================================================================\n",
            " embedding_3 (Embedding)     (None, 100, 16)           8000      \n",
            "                                                                 \n",
            " lstm_4 (LSTM)               (None, 100, 8)            800       \n",
            "                                                                 \n",
            " lstm_5 (LSTM)               (None, 8)                 544       \n",
            "                                                                 \n",
            " dense_3 (Dense)             (None, 1)                 9         \n",
            "                                                                 \n",
            "=================================================================\n",
            "Total params: 9,353\n",
            "Trainable params: 9,353\n",
            "Non-trainable params: 0\n",
            "_________________________________________________________________\n"
          ]
        }
      ],
      "source": [
        "model3 = keras.Sequential()\n",
        "\n",
        "model3.add(keras.layers.Embedding(500, 16, input_length=100))\n",
        "model3.add(keras.layers.LSTM(8, dropout=0.3, return_sequences=True))\n",
        "model3.add(keras.layers.LSTM(8, dropout=0.3))\n",
        "model3.add(keras.layers.Dense(1, activation='sigmoid'))\n",
        "\n",
        "model3.summary()"
      ]
    },
    {
      "cell_type": "code",
      "source": [
        "rmsprop = RMSprop(learning_rate=1e-4)\n",
        "model3.compile(optimizer=rmsprop, loss='binary_crossentropy', metrics=['accuracy'])\n",
        "\n",
        "checkpoint_cb = ModelCheckpoint('best-2rnn-model.h5', save_best_only=True)\n",
        "early_stopping_cb = EarlyStopping(patience=3, restore_best_weights=True)\n",
        "\n",
        "history3 = model3.fit(train_seq, train_target, epochs=100, batch_size=64, \n",
        "                     validation_data=(val_seq, val_target),\n",
        "                     callbacks=[checkpoint_cb, early_stopping_cb])"
      ],
      "metadata": {
        "id": "xLpnlkzFmaP1",
        "outputId": "68c6a523-9fd6-493f-e52c-0f9b6a40f376",
        "colab": {
          "base_uri": "https://localhost:8080/"
        }
      },
      "execution_count": 22,
      "outputs": [
        {
          "output_type": "stream",
          "name": "stdout",
          "text": [
            "Epoch 1/100\n",
            "313/313 [==============================] - 18s 45ms/step - loss: 0.6926 - accuracy: 0.5271 - val_loss: 0.6917 - val_accuracy: 0.5762\n",
            "Epoch 2/100\n",
            "313/313 [==============================] - 13s 42ms/step - loss: 0.6888 - accuracy: 0.6051 - val_loss: 0.6846 - val_accuracy: 0.6168\n",
            "Epoch 3/100\n",
            "313/313 [==============================] - 13s 42ms/step - loss: 0.6612 - accuracy: 0.6597 - val_loss: 0.6167 - val_accuracy: 0.6908\n",
            "Epoch 4/100\n",
            "313/313 [==============================] - 13s 42ms/step - loss: 0.5723 - accuracy: 0.7139 - val_loss: 0.5460 - val_accuracy: 0.7364\n",
            "Epoch 5/100\n",
            "313/313 [==============================] - 13s 42ms/step - loss: 0.5337 - accuracy: 0.7427 - val_loss: 0.5176 - val_accuracy: 0.7506\n",
            "Epoch 6/100\n",
            "313/313 [==============================] - 13s 42ms/step - loss: 0.5125 - accuracy: 0.7544 - val_loss: 0.4988 - val_accuracy: 0.7648\n",
            "Epoch 7/100\n",
            "313/313 [==============================] - 13s 42ms/step - loss: 0.4963 - accuracy: 0.7638 - val_loss: 0.4843 - val_accuracy: 0.7738\n",
            "Epoch 8/100\n",
            "313/313 [==============================] - 14s 45ms/step - loss: 0.4862 - accuracy: 0.7714 - val_loss: 0.4747 - val_accuracy: 0.7782\n",
            "Epoch 9/100\n",
            "313/313 [==============================] - 13s 42ms/step - loss: 0.4751 - accuracy: 0.7788 - val_loss: 0.4713 - val_accuracy: 0.7808\n",
            "Epoch 10/100\n",
            "313/313 [==============================] - 13s 42ms/step - loss: 0.4685 - accuracy: 0.7804 - val_loss: 0.4672 - val_accuracy: 0.7812\n",
            "Epoch 11/100\n",
            "313/313 [==============================] - 13s 42ms/step - loss: 0.4645 - accuracy: 0.7860 - val_loss: 0.4602 - val_accuracy: 0.7846\n",
            "Epoch 12/100\n",
            "313/313 [==============================] - 13s 42ms/step - loss: 0.4576 - accuracy: 0.7872 - val_loss: 0.4561 - val_accuracy: 0.7866\n",
            "Epoch 13/100\n",
            "313/313 [==============================] - 13s 42ms/step - loss: 0.4519 - accuracy: 0.7903 - val_loss: 0.4501 - val_accuracy: 0.7896\n",
            "Epoch 14/100\n",
            "313/313 [==============================] - 13s 43ms/step - loss: 0.4480 - accuracy: 0.7948 - val_loss: 0.4480 - val_accuracy: 0.7892\n",
            "Epoch 15/100\n",
            "313/313 [==============================] - 13s 42ms/step - loss: 0.4458 - accuracy: 0.7950 - val_loss: 0.4461 - val_accuracy: 0.7924\n",
            "Epoch 16/100\n",
            "313/313 [==============================] - 13s 42ms/step - loss: 0.4418 - accuracy: 0.7964 - val_loss: 0.4538 - val_accuracy: 0.7838\n",
            "Epoch 17/100\n",
            "313/313 [==============================] - 13s 42ms/step - loss: 0.4401 - accuracy: 0.7977 - val_loss: 0.4420 - val_accuracy: 0.7930\n",
            "Epoch 18/100\n",
            "313/313 [==============================] - 13s 42ms/step - loss: 0.4366 - accuracy: 0.8012 - val_loss: 0.4409 - val_accuracy: 0.7928\n",
            "Epoch 19/100\n",
            "313/313 [==============================] - 13s 42ms/step - loss: 0.4362 - accuracy: 0.8016 - val_loss: 0.4393 - val_accuracy: 0.7954\n",
            "Epoch 20/100\n",
            "313/313 [==============================] - 13s 42ms/step - loss: 0.4350 - accuracy: 0.8025 - val_loss: 0.4387 - val_accuracy: 0.7948\n",
            "Epoch 21/100\n",
            "313/313 [==============================] - 13s 42ms/step - loss: 0.4328 - accuracy: 0.8026 - val_loss: 0.4380 - val_accuracy: 0.7930\n",
            "Epoch 22/100\n",
            "313/313 [==============================] - 13s 43ms/step - loss: 0.4323 - accuracy: 0.8008 - val_loss: 0.4361 - val_accuracy: 0.7954\n",
            "Epoch 23/100\n",
            "313/313 [==============================] - 13s 43ms/step - loss: 0.4308 - accuracy: 0.8034 - val_loss: 0.4363 - val_accuracy: 0.7964\n",
            "Epoch 24/100\n",
            "313/313 [==============================] - 13s 43ms/step - loss: 0.4304 - accuracy: 0.8044 - val_loss: 0.4358 - val_accuracy: 0.7984\n",
            "Epoch 25/100\n",
            "313/313 [==============================] - 13s 43ms/step - loss: 0.4297 - accuracy: 0.8030 - val_loss: 0.4344 - val_accuracy: 0.7980\n",
            "Epoch 26/100\n",
            "313/313 [==============================] - 13s 42ms/step - loss: 0.4270 - accuracy: 0.8031 - val_loss: 0.4374 - val_accuracy: 0.8000\n",
            "Epoch 27/100\n",
            "313/313 [==============================] - 13s 43ms/step - loss: 0.4259 - accuracy: 0.8031 - val_loss: 0.4331 - val_accuracy: 0.7984\n",
            "Epoch 28/100\n",
            "313/313 [==============================] - 13s 43ms/step - loss: 0.4261 - accuracy: 0.8045 - val_loss: 0.4356 - val_accuracy: 0.7906\n",
            "Epoch 29/100\n",
            "313/313 [==============================] - 13s 42ms/step - loss: 0.4243 - accuracy: 0.8083 - val_loss: 0.4319 - val_accuracy: 0.7980\n",
            "Epoch 30/100\n",
            "313/313 [==============================] - 13s 42ms/step - loss: 0.4246 - accuracy: 0.8056 - val_loss: 0.4347 - val_accuracy: 0.7934\n",
            "Epoch 31/100\n",
            "313/313 [==============================] - 13s 42ms/step - loss: 0.4230 - accuracy: 0.8050 - val_loss: 0.4335 - val_accuracy: 0.7960\n",
            "Epoch 32/100\n",
            "313/313 [==============================] - 13s 43ms/step - loss: 0.4219 - accuracy: 0.8051 - val_loss: 0.4311 - val_accuracy: 0.8008\n",
            "Epoch 33/100\n",
            "313/313 [==============================] - 13s 43ms/step - loss: 0.4210 - accuracy: 0.8068 - val_loss: 0.4314 - val_accuracy: 0.7986\n",
            "Epoch 34/100\n",
            "313/313 [==============================] - 13s 42ms/step - loss: 0.4200 - accuracy: 0.8084 - val_loss: 0.4307 - val_accuracy: 0.8026\n",
            "Epoch 35/100\n",
            "313/313 [==============================] - 13s 42ms/step - loss: 0.4200 - accuracy: 0.8069 - val_loss: 0.4298 - val_accuracy: 0.8012\n",
            "Epoch 36/100\n",
            "313/313 [==============================] - 13s 42ms/step - loss: 0.4204 - accuracy: 0.8076 - val_loss: 0.4319 - val_accuracy: 0.8018\n",
            "Epoch 37/100\n",
            "313/313 [==============================] - 13s 42ms/step - loss: 0.4183 - accuracy: 0.8091 - val_loss: 0.4328 - val_accuracy: 0.7964\n",
            "Epoch 38/100\n",
            "313/313 [==============================] - 13s 42ms/step - loss: 0.4174 - accuracy: 0.8100 - val_loss: 0.4289 - val_accuracy: 0.8018\n",
            "Epoch 39/100\n",
            "313/313 [==============================] - 13s 42ms/step - loss: 0.4182 - accuracy: 0.8084 - val_loss: 0.4287 - val_accuracy: 0.8036\n",
            "Epoch 40/100\n",
            "313/313 [==============================] - 13s 42ms/step - loss: 0.4161 - accuracy: 0.8111 - val_loss: 0.4293 - val_accuracy: 0.8028\n",
            "Epoch 41/100\n",
            "313/313 [==============================] - 13s 43ms/step - loss: 0.4140 - accuracy: 0.8099 - val_loss: 0.4355 - val_accuracy: 0.7954\n",
            "Epoch 42/100\n",
            "313/313 [==============================] - 13s 43ms/step - loss: 0.4142 - accuracy: 0.8088 - val_loss: 0.4276 - val_accuracy: 0.8040\n",
            "Epoch 43/100\n",
            "313/313 [==============================] - 13s 42ms/step - loss: 0.4141 - accuracy: 0.8102 - val_loss: 0.4317 - val_accuracy: 0.8036\n",
            "Epoch 44/100\n",
            "313/313 [==============================] - 13s 43ms/step - loss: 0.4121 - accuracy: 0.8108 - val_loss: 0.4276 - val_accuracy: 0.8046\n",
            "Epoch 45/100\n",
            "313/313 [==============================] - 13s 43ms/step - loss: 0.4109 - accuracy: 0.8099 - val_loss: 0.4280 - val_accuracy: 0.8042\n",
            "Epoch 46/100\n",
            "313/313 [==============================] - 13s 43ms/step - loss: 0.4124 - accuracy: 0.8119 - val_loss: 0.4277 - val_accuracy: 0.8050\n",
            "Epoch 47/100\n",
            "313/313 [==============================] - 13s 43ms/step - loss: 0.4121 - accuracy: 0.8116 - val_loss: 0.4282 - val_accuracy: 0.7994\n"
          ]
        }
      ]
    },
    {
      "cell_type": "code",
      "source": [
        "plt.plot(history3.history['loss'])\n",
        "plt.plot(history3.history['val_loss'])\n",
        "plt.xlabel('epoch')\n",
        "plt.ylabel('loss')\n",
        "plt.legend(['train loss', 'val loss'])\n",
        "plt.show()"
      ],
      "metadata": {
        "id": "5X1INi0cmp_k",
        "outputId": "81ee6875-614f-4fa3-afe6-9a527dc05a7b",
        "colab": {
          "base_uri": "https://localhost:8080/",
          "height": 278
        }
      },
      "execution_count": 23,
      "outputs": [
        {
          "output_type": "display_data",
          "data": {
            "image/png": "[encoded data removed]",
            "text/plain": [
              "<Figure size 432x288 with 1 Axes>"
            ]
          },
          "metadata": {
            "needs_background": "light"
          }
        }
      ]
    },
    {
      "cell_type": "code",
      "source": [
        "plt.plot(history3.history['accuracy'])\n",
        "plt.plot(history3.history['val_accuracy'])\n",
        "plt.xlabel('epoch')\n",
        "plt.ylabel('accuracy')\n",
        "plt.legend(['train accuracy', 'val accuracy'])\n",
        "plt.show()"
      ],
      "metadata": {
        "id": "RYapZk_HmqEJ",
        "outputId": "3860d477-2942-4d76-ec81-c01e6d2d30c4",
        "colab": {
          "base_uri": "https://localhost:8080/",
          "height": 278
        }
      },
      "execution_count": 24,
      "outputs": [
        {
          "output_type": "display_data",
          "data": {
            "image/png": "[encoded data removed]",
            "text/plain": [
              "<Figure size 432x288 with 1 Axes>"
            ]
          },
          "metadata": {
            "needs_background": "light"
          }
        }
      ]
    },
    {
      "cell_type": "code",
      "source": [
        "test_seq = pad_sequences(test_input, maxlen=100)\n",
        "model3.predict(test_seq)"
      ],
      "metadata": {
        "id": "Qit2ymUomqHN",
        "outputId": "4937eef7-51bf-4d1e-a95b-38d0b273674d",
        "colab": {
          "base_uri": "https://localhost:8080/"
        }
      },
      "execution_count": 25,
      "outputs": [
        {
          "output_type": "execute_result",
          "data": {
            "text/plain": [
              "array([[0.3959093 ],\n",
              "       [0.33369282],\n",
              "       [0.3478585 ],\n",
              "       ...,\n",
              "       [0.03961051],\n",
              "       [0.1024263 ],\n",
              "       [0.6658033 ]], dtype=float32)"
            ]
          },
          "metadata": {},
          "execution_count": 25
        }
      ]
    },
    {
      "cell_type": "code",
      "source": [
        "model3.evaluate(test_seq, test_target)"
      ],
      "metadata": {
        "id": "DPpNGe9smqKP",
        "outputId": "dd27795c-2aff-42a7-b4e1-7d832941b43f",
        "colab": {
          "base_uri": "https://localhost:8080/"
        }
      },
      "execution_count": 26,
      "outputs": [
        {
          "output_type": "stream",
          "name": "stdout",
          "text": [
            "782/782 [==============================] - 12s 16ms/step - loss: 0.4231 - accuracy: 0.8034\n"
          ]
        },
        {
          "output_type": "execute_result",
          "data": {
            "text/plain": [
              "[0.4231336712837219, 0.8034399747848511]"
            ]
          },
          "metadata": {},
          "execution_count": 26
        }
      ]
    },
    {
      "cell_type": "markdown",
      "metadata": {
        "id": "Jisn0P9h6k2T"
      },
      "source": [
        "## GRU 신경망 훈련하기"
      ]
    },
    {
      "cell_type": "code",
      "execution_count": 27,
      "metadata": {
        "colab": {
          "base_uri": "https://localhost:8080/"
        },
        "execution": {
          "iopub.execute_input": "2022-01-08T07:03:47.580725Z",
          "iopub.status.busy": "2022-01-08T07:03:47.580053Z",
          "iopub.status.idle": "2022-01-08T07:03:47.802422Z",
          "shell.execute_reply": "2022-01-08T07:03:47.802844Z"
        },
        "id": "dwYF578d6k2T",
        "outputId": "e51a7ce4-cf3c-4932-95e8-cc2b42125f58"
      },
      "outputs": [
        {
          "output_type": "stream",
          "name": "stdout",
          "text": [
            "Model: \"sequential_4\"\n",
            "_________________________________________________________________\n",
            " Layer (type)                Output Shape              Param #   \n",
            "=================================================================\n",
            " embedding_4 (Embedding)     (None, 100, 16)           8000      \n",
            "                                                                 \n",
            " gru (GRU)                   (None, 8)                 624       \n",
            "                                                                 \n",
            " dense_4 (Dense)             (None, 1)                 9         \n",
            "                                                                 \n",
            "=================================================================\n",
            "Total params: 8,633\n",
            "Trainable params: 8,633\n",
            "Non-trainable params: 0\n",
            "_________________________________________________________________\n"
          ]
        }
      ],
      "source": [
        "model4 = keras.Sequential()\n",
        "\n",
        "model4.add(keras.layers.Embedding(500, 16, input_length=100))\n",
        "model4.add(keras.layers.GRU(8))\n",
        "model4.add(keras.layers.Dense(1, activation='sigmoid'))\n",
        "\n",
        "model4.summary()"
      ]
    },
    {
      "cell_type": "code",
      "execution_count": 28,
      "metadata": {
        "colab": {
          "base_uri": "https://localhost:8080/"
        },
        "execution": {
          "iopub.execute_input": "2022-01-08T07:03:47.818690Z",
          "iopub.status.busy": "2022-01-08T07:03:47.812276Z",
          "iopub.status.idle": "2022-01-08T07:10:35.067892Z",
          "shell.execute_reply": "2022-01-08T07:10:35.068361Z"
        },
        "id": "j2SfOZ3v6k2U",
        "outputId": "f601284f-5175-44e3-f0b9-3278b81ddc30"
      },
      "outputs": [
        {
          "output_type": "stream",
          "name": "stdout",
          "text": [
            "Epoch 1/100\n",
            "313/313 [==============================] - 10s 23ms/step - loss: 0.6923 - accuracy: 0.5343 - val_loss: 0.6916 - val_accuracy: 0.5386\n",
            "Epoch 2/100\n",
            "313/313 [==============================] - 7s 21ms/step - loss: 0.6901 - accuracy: 0.5685 - val_loss: 0.6893 - val_accuracy: 0.5674\n",
            "Epoch 3/100\n",
            "313/313 [==============================] - 6s 21ms/step - loss: 0.6868 - accuracy: 0.5920 - val_loss: 0.6856 - val_accuracy: 0.5872\n",
            "Epoch 4/100\n",
            "313/313 [==============================] - 7s 21ms/step - loss: 0.6817 - accuracy: 0.6069 - val_loss: 0.6799 - val_accuracy: 0.6026\n",
            "Epoch 5/100\n",
            "313/313 [==============================] - 6s 21ms/step - loss: 0.6740 - accuracy: 0.6180 - val_loss: 0.6720 - val_accuracy: 0.6092\n",
            "Epoch 6/100\n",
            "313/313 [==============================] - 7s 21ms/step - loss: 0.6633 - accuracy: 0.6352 - val_loss: 0.6608 - val_accuracy: 0.6196\n",
            "Epoch 7/100\n",
            "313/313 [==============================] - 6s 21ms/step - loss: 0.6483 - accuracy: 0.6453 - val_loss: 0.6452 - val_accuracy: 0.6366\n",
            "Epoch 8/100\n",
            "313/313 [==============================] - 7s 21ms/step - loss: 0.6280 - accuracy: 0.6623 - val_loss: 0.6237 - val_accuracy: 0.6552\n",
            "Epoch 9/100\n",
            "313/313 [==============================] - 7s 21ms/step - loss: 0.5980 - accuracy: 0.6842 - val_loss: 0.5924 - val_accuracy: 0.6880\n",
            "Epoch 10/100\n",
            "313/313 [==============================] - 7s 21ms/step - loss: 0.5556 - accuracy: 0.7164 - val_loss: 0.5501 - val_accuracy: 0.7212\n",
            "Epoch 11/100\n",
            "313/313 [==============================] - 7s 21ms/step - loss: 0.5166 - accuracy: 0.7469 - val_loss: 0.5226 - val_accuracy: 0.7426\n",
            "Epoch 12/100\n",
            "313/313 [==============================] - 7s 21ms/step - loss: 0.4959 - accuracy: 0.7628 - val_loss: 0.5071 - val_accuracy: 0.7544\n",
            "Epoch 13/100\n",
            "313/313 [==============================] - 6s 21ms/step - loss: 0.4838 - accuracy: 0.7707 - val_loss: 0.4962 - val_accuracy: 0.7644\n",
            "Epoch 14/100\n",
            "313/313 [==============================] - 6s 21ms/step - loss: 0.4750 - accuracy: 0.7754 - val_loss: 0.4882 - val_accuracy: 0.7718\n",
            "Epoch 15/100\n",
            "313/313 [==============================] - 6s 21ms/step - loss: 0.4673 - accuracy: 0.7812 - val_loss: 0.4809 - val_accuracy: 0.7710\n",
            "Epoch 16/100\n",
            "313/313 [==============================] - 6s 21ms/step - loss: 0.4603 - accuracy: 0.7847 - val_loss: 0.4746 - val_accuracy: 0.7748\n",
            "Epoch 17/100\n",
            "313/313 [==============================] - 6s 21ms/step - loss: 0.4544 - accuracy: 0.7890 - val_loss: 0.4692 - val_accuracy: 0.7800\n",
            "Epoch 18/100\n",
            "313/313 [==============================] - 7s 21ms/step - loss: 0.4489 - accuracy: 0.7937 - val_loss: 0.4653 - val_accuracy: 0.7788\n",
            "Epoch 19/100\n",
            "313/313 [==============================] - 6s 21ms/step - loss: 0.4444 - accuracy: 0.7972 - val_loss: 0.4611 - val_accuracy: 0.7828\n",
            "Epoch 20/100\n",
            "313/313 [==============================] - 6s 21ms/step - loss: 0.4401 - accuracy: 0.7999 - val_loss: 0.4633 - val_accuracy: 0.7812\n",
            "Epoch 21/100\n",
            "313/313 [==============================] - 7s 21ms/step - loss: 0.4364 - accuracy: 0.8016 - val_loss: 0.4584 - val_accuracy: 0.7812\n",
            "Epoch 22/100\n",
            "313/313 [==============================] - 6s 21ms/step - loss: 0.4334 - accuracy: 0.8026 - val_loss: 0.4519 - val_accuracy: 0.7892\n",
            "Epoch 23/100\n",
            "313/313 [==============================] - 6s 21ms/step - loss: 0.4300 - accuracy: 0.8063 - val_loss: 0.4513 - val_accuracy: 0.7910\n",
            "Epoch 24/100\n",
            "313/313 [==============================] - 6s 21ms/step - loss: 0.4280 - accuracy: 0.8069 - val_loss: 0.4519 - val_accuracy: 0.7910\n",
            "Epoch 25/100\n",
            "313/313 [==============================] - 6s 21ms/step - loss: 0.4260 - accuracy: 0.8091 - val_loss: 0.4493 - val_accuracy: 0.7884\n",
            "Epoch 26/100\n",
            "313/313 [==============================] - 7s 21ms/step - loss: 0.4244 - accuracy: 0.8102 - val_loss: 0.4465 - val_accuracy: 0.7940\n",
            "Epoch 27/100\n",
            "313/313 [==============================] - 7s 21ms/step - loss: 0.4229 - accuracy: 0.8109 - val_loss: 0.4451 - val_accuracy: 0.7954\n",
            "Epoch 28/100\n",
            "313/313 [==============================] - 7s 21ms/step - loss: 0.4215 - accuracy: 0.8111 - val_loss: 0.4450 - val_accuracy: 0.7920\n",
            "Epoch 29/100\n",
            "313/313 [==============================] - 6s 21ms/step - loss: 0.4201 - accuracy: 0.8127 - val_loss: 0.4475 - val_accuracy: 0.7960\n",
            "Epoch 30/100\n",
            "313/313 [==============================] - 7s 21ms/step - loss: 0.4193 - accuracy: 0.8124 - val_loss: 0.4440 - val_accuracy: 0.7912\n",
            "Epoch 31/100\n",
            "313/313 [==============================] - 6s 21ms/step - loss: 0.4185 - accuracy: 0.8123 - val_loss: 0.4445 - val_accuracy: 0.7978\n",
            "Epoch 32/100\n",
            "313/313 [==============================] - 6s 21ms/step - loss: 0.4180 - accuracy: 0.8134 - val_loss: 0.4430 - val_accuracy: 0.7916\n",
            "Epoch 33/100\n",
            "313/313 [==============================] - 6s 21ms/step - loss: 0.4172 - accuracy: 0.8132 - val_loss: 0.4446 - val_accuracy: 0.7964\n",
            "Epoch 34/100\n",
            "313/313 [==============================] - 6s 21ms/step - loss: 0.4165 - accuracy: 0.8145 - val_loss: 0.4434 - val_accuracy: 0.7922\n",
            "Epoch 35/100\n",
            "313/313 [==============================] - 6s 21ms/step - loss: 0.4160 - accuracy: 0.8163 - val_loss: 0.4415 - val_accuracy: 0.7950\n",
            "Epoch 36/100\n",
            "313/313 [==============================] - 7s 21ms/step - loss: 0.4154 - accuracy: 0.8156 - val_loss: 0.4453 - val_accuracy: 0.7922\n",
            "Epoch 37/100\n",
            "313/313 [==============================] - 7s 21ms/step - loss: 0.4151 - accuracy: 0.8156 - val_loss: 0.4404 - val_accuracy: 0.7944\n",
            "Epoch 38/100\n",
            "313/313 [==============================] - 7s 21ms/step - loss: 0.4144 - accuracy: 0.8156 - val_loss: 0.4411 - val_accuracy: 0.7944\n",
            "Epoch 39/100\n",
            "313/313 [==============================] - 7s 21ms/step - loss: 0.4138 - accuracy: 0.8155 - val_loss: 0.4396 - val_accuracy: 0.7954\n",
            "Epoch 40/100\n",
            "313/313 [==============================] - 6s 21ms/step - loss: 0.4136 - accuracy: 0.8149 - val_loss: 0.4423 - val_accuracy: 0.7962\n",
            "Epoch 41/100\n",
            "313/313 [==============================] - 6s 21ms/step - loss: 0.4136 - accuracy: 0.8158 - val_loss: 0.4393 - val_accuracy: 0.7958\n",
            "Epoch 42/100\n",
            "313/313 [==============================] - 6s 21ms/step - loss: 0.4127 - accuracy: 0.8166 - val_loss: 0.4420 - val_accuracy: 0.7924\n",
            "Epoch 43/100\n",
            "313/313 [==============================] - 7s 21ms/step - loss: 0.4125 - accuracy: 0.8174 - val_loss: 0.4384 - val_accuracy: 0.7986\n",
            "Epoch 44/100\n",
            "313/313 [==============================] - 6s 21ms/step - loss: 0.4123 - accuracy: 0.8156 - val_loss: 0.4382 - val_accuracy: 0.7984\n",
            "Epoch 45/100\n",
            "313/313 [==============================] - 7s 21ms/step - loss: 0.4120 - accuracy: 0.8156 - val_loss: 0.4388 - val_accuracy: 0.7982\n",
            "Epoch 46/100\n",
            "313/313 [==============================] - 6s 21ms/step - loss: 0.4118 - accuracy: 0.8160 - val_loss: 0.4382 - val_accuracy: 0.7968\n",
            "Epoch 47/100\n",
            "313/313 [==============================] - 7s 21ms/step - loss: 0.4114 - accuracy: 0.8164 - val_loss: 0.4373 - val_accuracy: 0.7996\n",
            "Epoch 48/100\n",
            "313/313 [==============================] - 6s 21ms/step - loss: 0.4115 - accuracy: 0.8163 - val_loss: 0.4381 - val_accuracy: 0.7986\n",
            "Epoch 49/100\n",
            "313/313 [==============================] - 6s 21ms/step - loss: 0.4111 - accuracy: 0.8167 - val_loss: 0.4372 - val_accuracy: 0.7976\n",
            "Epoch 50/100\n",
            "313/313 [==============================] - 6s 21ms/step - loss: 0.4104 - accuracy: 0.8168 - val_loss: 0.4383 - val_accuracy: 0.7974\n",
            "Epoch 51/100\n",
            "313/313 [==============================] - 6s 21ms/step - loss: 0.4109 - accuracy: 0.8155 - val_loss: 0.4357 - val_accuracy: 0.8000\n",
            "Epoch 52/100\n",
            "313/313 [==============================] - 6s 21ms/step - loss: 0.4105 - accuracy: 0.8167 - val_loss: 0.4414 - val_accuracy: 0.7980\n",
            "Epoch 53/100\n",
            "313/313 [==============================] - 6s 21ms/step - loss: 0.4100 - accuracy: 0.8153 - val_loss: 0.4351 - val_accuracy: 0.8008\n",
            "Epoch 54/100\n",
            "313/313 [==============================] - 6s 21ms/step - loss: 0.4096 - accuracy: 0.8176 - val_loss: 0.4358 - val_accuracy: 0.7992\n",
            "Epoch 55/100\n",
            "313/313 [==============================] - 6s 21ms/step - loss: 0.4095 - accuracy: 0.8171 - val_loss: 0.4381 - val_accuracy: 0.7946\n",
            "Epoch 56/100\n",
            "313/313 [==============================] - 7s 21ms/step - loss: 0.4094 - accuracy: 0.8176 - val_loss: 0.4348 - val_accuracy: 0.7994\n",
            "Epoch 57/100\n",
            "313/313 [==============================] - 6s 21ms/step - loss: 0.4096 - accuracy: 0.8173 - val_loss: 0.4349 - val_accuracy: 0.7984\n",
            "Epoch 58/100\n",
            "313/313 [==============================] - 7s 21ms/step - loss: 0.4089 - accuracy: 0.8180 - val_loss: 0.4348 - val_accuracy: 0.7986\n",
            "Epoch 59/100\n",
            "313/313 [==============================] - 7s 21ms/step - loss: 0.4086 - accuracy: 0.8167 - val_loss: 0.4352 - val_accuracy: 0.7994\n"
          ]
        }
      ],
      "source": [
        "rmsprop = keras.optimizers.RMSprop(learning_rate=1e-4)\n",
        "model4.compile(optimizer=rmsprop, loss='binary_crossentropy', metrics=['accuracy'])\n",
        "\n",
        "checkpoint_cb = keras.callbacks.ModelCheckpoint('best-gru-model.h5', save_best_only=True)\n",
        "early_stopping_cb = keras.callbacks.EarlyStopping(patience=3, restore_best_weights=True)\n",
        "\n",
        "history4 = model4.fit(train_seq, train_target, epochs=100, batch_size=64,\n",
        "                     validation_data=(val_seq, val_target),\n",
        "                     callbacks=[checkpoint_cb, early_stopping_cb])"
      ]
    },
    {
      "cell_type": "code",
      "execution_count": 29,
      "metadata": {
        "colab": {
          "base_uri": "https://localhost:8080/",
          "height": 278
        },
        "execution": {
          "iopub.execute_input": "2022-01-08T07:10:35.080183Z",
          "iopub.status.busy": "2022-01-08T07:10:35.079530Z",
          "iopub.status.idle": "2022-01-08T07:10:35.200033Z",
          "shell.execute_reply": "2022-01-08T07:10:35.200930Z"
        },
        "id": "3yUJM4nA6k2U",
        "outputId": "1e22c164-cff7-4614-b395-530d04bffa97"
      },
      "outputs": [
        {
          "output_type": "display_data",
          "data": {
            "image/png": "[encoded data removed]",
            "text/plain": [
              "<Figure size 432x288 with 1 Axes>"
            ]
          },
          "metadata": {
            "needs_background": "light"
          }
        }
      ],
      "source": [
        "plt.plot(history4.history['loss'])\n",
        "plt.plot(history4.history['val_loss'])\n",
        "plt.xlabel('epoch')\n",
        "plt.ylabel('loss')\n",
        "plt.legend(['train loss', 'val loss'])\n",
        "plt.show()"
      ]
    },
    {
      "cell_type": "code",
      "source": [
        "plt.plot(history4.history['accuracy'])\n",
        "plt.plot(history4.history['val_accuracy'])\n",
        "plt.xlabel('epoch')\n",
        "plt.ylabel('accuracy')\n",
        "plt.legend(['train accuracy', 'val accuracy'])\n",
        "plt.show()"
      ],
      "metadata": {
        "id": "lFA5ymEPpxCS",
        "outputId": "0475442e-5309-4da3-c2ec-00bbf47b4297",
        "colab": {
          "base_uri": "https://localhost:8080/",
          "height": 278
        }
      },
      "execution_count": 30,
      "outputs": [
        {
          "output_type": "display_data",
          "data": {
            "image/png": "[encoded data removed]",
            "text/plain": [
              "<Figure size 432x288 with 1 Axes>"
            ]
          },
          "metadata": {
            "needs_background": "light"
          }
        }
      ]
    },
    {
      "cell_type": "code",
      "source": [
        "model3.evaluate(test_seq, test_target)"
      ],
      "metadata": {
        "id": "OI0fQSTWp3GA",
        "outputId": "e0eb02a6-8f41-47a2-8e58-69bb2cdef1c5",
        "colab": {
          "base_uri": "https://localhost:8080/"
        }
      },
      "execution_count": 31,
      "outputs": [
        {
          "output_type": "stream",
          "name": "stdout",
          "text": [
            "782/782 [==============================] - 12s 16ms/step - loss: 0.4231 - accuracy: 0.8034\n"
          ]
        },
        {
          "output_type": "execute_result",
          "data": {
            "text/plain": [
              "[0.4231336712837219, 0.8034399747848511]"
            ]
          },
          "metadata": {},
          "execution_count": 31
        }
      ]
    },
    {
      "cell_type": "markdown",
      "metadata": {
        "id": "Ja3-116b6k2V"
      },
      "source": [
        "## 마무리"
      ]
    },
    {
      "cell_type": "code",
      "execution_count": 32,
      "metadata": {
        "colab": {
          "base_uri": "https://localhost:8080/"
        },
        "execution": {
          "iopub.execute_input": "2022-01-08T07:10:35.206304Z",
          "iopub.status.busy": "2022-01-08T07:10:35.205183Z",
          "iopub.status.idle": "2022-01-08T07:10:47.638916Z",
          "shell.execute_reply": "2022-01-08T07:10:47.638313Z"
        },
        "id": "-5WtFRN-6k2V",
        "outputId": "425d602c-0058-42c6-a746-1b30dd8bd1a3"
      },
      "outputs": [
        {
          "output_type": "stream",
          "name": "stdout",
          "text": [
            "782/782 [==============================] - 13s 16ms/step - loss: 0.4231 - accuracy: 0.8034\n"
          ]
        },
        {
          "output_type": "execute_result",
          "data": {
            "text/plain": [
              "[0.4231336712837219, 0.8034399747848511]"
            ]
          },
          "metadata": {},
          "execution_count": 32
        }
      ],
      "source": [
        "test_seq = pad_sequences(test_input, maxlen=100)\n",
        "\n",
        "rnn_model = keras.models.load_model('best-2rnn-model.h5')\n",
        "\n",
        "rnn_model.evaluate(test_seq, test_target)"
      ]
    },
    {
      "cell_type": "code",
      "source": [
        "early_stopping_cb.best_epoch, early_stopping_cb.stopped_epoch"
      ],
      "metadata": {
        "id": "IN9_ncgQxgfH",
        "outputId": "06151f59-12e6-4d71-f94b-f5930f89f990",
        "colab": {
          "base_uri": "https://localhost:8080/"
        }
      },
      "execution_count": 33,
      "outputs": [
        {
          "output_type": "execute_result",
          "data": {
            "text/plain": [
              "(55, 58)"
            ]
          },
          "metadata": {},
          "execution_count": 33
        }
      ]
    }
  ],
  "metadata": {
    "accelerator": "GPU",
    "colab": {
      "name": "9-3.ipynb",
      "provenance": [],
      "include_colab_link": true
    },
    "kernelspec": {
      "display_name": "Python 3 (ipykernel)",
      "language": "python",
      "name": "python3"
    },
    "language_info": {
      "codemirror_mode": {
        "name": "ipython",
        "version": 3
      },
      "file_extension": ".py",
      "mimetype": "text/x-python",
      "name": "python",
      "nbconvert_exporter": "python",
      "pygments_lexer": "ipython3",
      "version": "3.7.3"
    }
  },
  "nbformat": 4,
  "nbformat_minor": 0
}
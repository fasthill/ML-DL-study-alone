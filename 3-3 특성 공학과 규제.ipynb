{
  "cells": [
    {
      "cell_type": "markdown",
      "metadata": {
        "id": "view-in-github",
        "colab_type": "text"
      },
      "source": [
        "<a href=\"https://colab.research.google.com/github/fasthill/ML-DL-study-alone/blob/main/3-3%20%ED%8A%B9%EC%84%B1%20%EA%B3%B5%ED%95%99%EA%B3%BC%20%EA%B7%9C%EC%A0%9C.ipynb\" target=\"_parent\"><img src=\"https://colab.research.google.com/assets/colab-badge.svg\" alt=\"Open In Colab\"/></a>"
      ]
    },
    {
      "cell_type": "markdown",
      "metadata": {
        "id": "XjTc5n2flYUu"
      },
      "source": [
        "# 특성 공학(feature engineering)과 규제"
      ]
    },
    {
      "cell_type": "markdown",
      "source": [
        "## 데이터 준비"
      ],
      "metadata": {
        "id": "NR59w_pYRdA8"
      }
    },
    {
      "cell_type": "code",
      "source": [
        "import pandas as pd\n",
        "import numpy as np\n",
        "import matplotlib.pyplot as plt\n",
        "\n",
        "from sklearn.preprocessing import PolynomialFeatures\n",
        "from sklearn.model_selection import train_test_split\n",
        "from sklearn.linear_model import LinearRegression\n",
        "from sklearn.preprocessing import StandardScaler\n",
        "from sklearn.linear_model import Ridge, Lasso"
      ],
      "metadata": {
        "id": "C9_6EvqWN0Pl"
      },
      "execution_count": 1,
      "outputs": []
    },
    {
      "cell_type": "code",
      "source": [
        "df = pd.read_csv('https://bit.ly/perch_csv')"
      ],
      "metadata": {
        "id": "lMgbaRnGN0Sw"
      },
      "execution_count": 2,
      "outputs": []
    },
    {
      "cell_type": "code",
      "source": [
        "perch_full = df.to_numpy() # == df.values"
      ],
      "metadata": {
        "id": "PY0B0SymN0We"
      },
      "execution_count": 3,
      "outputs": []
    },
    {
      "cell_type": "code",
      "source": [
        "ppf = df.values"
      ],
      "metadata": {
        "id": "g1OWopS_N0ei"
      },
      "execution_count": 4,
      "outputs": []
    },
    {
      "cell_type": "code",
      "source": [
        "np.array_equal(ppf, perch_full)"
      ],
      "metadata": {
        "id": "6mlgL6HVN0hP",
        "outputId": "5e9cce79-7bab-497d-c5ea-e8724b3b4c3a",
        "colab": {
          "base_uri": "https://localhost:8080/"
        }
      },
      "execution_count": 5,
      "outputs": [
        {
          "output_type": "execute_result",
          "data": {
            "text/plain": [
              "True"
            ]
          },
          "metadata": {},
          "execution_count": 5
        }
      ]
    },
    {
      "cell_type": "code",
      "source": [
        "perch_full.shape"
      ],
      "metadata": {
        "id": "ecRmv6L3N0ad",
        "outputId": "c5c30830-35ed-4c71-e6dc-c9901bb12862",
        "colab": {
          "base_uri": "https://localhost:8080/"
        }
      },
      "execution_count": 6,
      "outputs": [
        {
          "output_type": "execute_result",
          "data": {
            "text/plain": [
              "(56, 3)"
            ]
          },
          "metadata": {},
          "execution_count": 6
        }
      ]
    },
    {
      "cell_type": "code",
      "source": [
        "perch_full"
      ],
      "metadata": {
        "id": "o1bwD5LtN0kW",
        "outputId": "04d6f714-bb19-44a2-9120-98e0f3e39cf4",
        "colab": {
          "base_uri": "https://localhost:8080/"
        }
      },
      "execution_count": 7,
      "outputs": [
        {
          "output_type": "execute_result",
          "data": {
            "text/plain": [
              "array([[ 8.4 ,  2.11,  1.41],\n",
              "       [13.7 ,  3.53,  2.  ],\n",
              "       [15.  ,  3.82,  2.43],\n",
              "       [16.2 ,  4.59,  2.63],\n",
              "       [17.4 ,  4.59,  2.94],\n",
              "       [18.  ,  5.22,  3.32],\n",
              "       [18.7 ,  5.2 ,  3.12],\n",
              "       [19.  ,  5.64,  3.05],\n",
              "       [19.6 ,  5.14,  3.04],\n",
              "       [20.  ,  5.08,  2.77],\n",
              "       [21.  ,  5.69,  3.56],\n",
              "       [21.  ,  5.92,  3.31],\n",
              "       [21.  ,  5.69,  3.67],\n",
              "       [21.3 ,  6.38,  3.53],\n",
              "       [22.  ,  6.11,  3.41],\n",
              "       [22.  ,  5.64,  3.52],\n",
              "       [22.  ,  6.11,  3.52],\n",
              "       [22.  ,  5.88,  3.52],\n",
              "       [22.  ,  5.52,  4.  ],\n",
              "       [22.5 ,  5.86,  3.62],\n",
              "       [22.5 ,  6.79,  3.62],\n",
              "       [22.7 ,  5.95,  3.63],\n",
              "       [23.  ,  5.22,  3.63],\n",
              "       [23.5 ,  6.28,  3.72],\n",
              "       [24.  ,  7.29,  3.72],\n",
              "       [24.  ,  6.38,  3.82],\n",
              "       [24.6 ,  6.73,  4.17],\n",
              "       [25.  ,  6.44,  3.68],\n",
              "       [25.6 ,  6.56,  4.24],\n",
              "       [26.5 ,  7.17,  4.14],\n",
              "       [27.3 ,  8.32,  5.14],\n",
              "       [27.5 ,  7.17,  4.34],\n",
              "       [27.5 ,  7.05,  4.34],\n",
              "       [27.5 ,  7.28,  4.57],\n",
              "       [28.  ,  7.82,  4.2 ],\n",
              "       [28.7 ,  7.59,  4.64],\n",
              "       [30.  ,  7.62,  4.77],\n",
              "       [32.8 , 10.03,  6.02],\n",
              "       [34.5 , 10.26,  6.39],\n",
              "       [35.  , 11.49,  7.8 ],\n",
              "       [36.5 , 10.88,  6.86],\n",
              "       [36.  , 10.61,  6.74],\n",
              "       [37.  , 10.84,  6.26],\n",
              "       [37.  , 10.57,  6.37],\n",
              "       [39.  , 11.14,  7.49],\n",
              "       [39.  , 11.14,  6.  ],\n",
              "       [39.  , 12.43,  7.35],\n",
              "       [40.  , 11.93,  7.11],\n",
              "       [40.  , 11.73,  7.22],\n",
              "       [40.  , 12.38,  7.46],\n",
              "       [40.  , 11.14,  6.63],\n",
              "       [42.  , 12.8 ,  6.87],\n",
              "       [43.  , 11.93,  7.28],\n",
              "       [43.  , 12.51,  7.42],\n",
              "       [43.5 , 12.6 ,  8.14],\n",
              "       [44.  , 12.49,  7.6 ]])"
            ]
          },
          "metadata": {},
          "execution_count": 7
        }
      ]
    },
    {
      "cell_type": "code",
      "execution_count": 8,
      "metadata": {
        "id": "N2heqTNGRyxp"
      },
      "outputs": [],
      "source": [
        "perch_weight = np.array(\n",
        "    [5.9, 32.0, 40.0, 51.5, 70.0, 100.0, 78.0, 80.0, 85.0, 85.0, \n",
        "     110.0, 115.0, 125.0, 130.0, 120.0, 120.0, 130.0, 135.0, 110.0, \n",
        "     130.0, 150.0, 145.0, 150.0, 170.0, 225.0, 145.0, 188.0, 180.0, \n",
        "     197.0, 218.0, 300.0, 260.0, 265.0, 250.0, 250.0, 300.0, 320.0, \n",
        "     514.0, 556.0, 840.0, 685.0, 700.0, 700.0, 690.0, 900.0, 650.0, \n",
        "     820.0, 850.0, 900.0, 1015.0, 820.0, 1100.0, 1000.0, 1100.0, \n",
        "     1000.0, 1000.0]\n",
        "     )"
      ]
    },
    {
      "cell_type": "code",
      "source": [
        "train_input, test_input, train_target, test_target = train_test_split(perch_full, perch_weight, random_state=42)"
      ],
      "metadata": {
        "id": "l0hHcyFiS0f-"
      },
      "execution_count": 9,
      "outputs": []
    },
    {
      "cell_type": "markdown",
      "source": [
        "### 사이킷런의 변환기"
      ],
      "metadata": {
        "id": "t2AtoDbiYlvP"
      }
    },
    {
      "cell_type": "code",
      "source": [
        "# degree = 2. 제곱\n",
        "poly = PolynomialFeatures()\n",
        "new = poly.fit_transform([[2, 3]]) \n",
        "new\n",
        "#  array([[1., 2., 3., 4., 6., 9.]])  => 1: bias, 2, 3, 4 (2 **2), 6(2*3), 9 (3**2) 으로 처리"
      ],
      "metadata": {
        "id": "4Cx9LEKXS0co",
        "outputId": "4631762c-b6ae-4c98-ef76-827f65565bd8",
        "colab": {
          "base_uri": "https://localhost:8080/"
        }
      },
      "execution_count": 10,
      "outputs": [
        {
          "output_type": "execute_result",
          "data": {
            "text/plain": [
              "array([[1., 2., 3., 4., 6., 9.]])"
            ]
          },
          "metadata": {},
          "execution_count": 10
        }
      ]
    },
    {
      "cell_type": "code",
      "source": [
        "poly = PolynomialFeatures(include_bias=False) # bias(1) 제외하고 특성 추가, degree= 2 default value\n",
        "poly.fit(train_input)\n",
        "train_poly = poly.transform(train_input)"
      ],
      "metadata": {
        "id": "quxU6Ed3UBof"
      },
      "execution_count": 11,
      "outputs": []
    },
    {
      "cell_type": "code",
      "source": [
        "train_poly.shape"
      ],
      "metadata": {
        "id": "FrukqO4gUBrv",
        "outputId": "c341a31f-d409-4416-b40e-df698f88da78",
        "colab": {
          "base_uri": "https://localhost:8080/"
        }
      },
      "execution_count": 12,
      "outputs": [
        {
          "output_type": "execute_result",
          "data": {
            "text/plain": [
              "(42, 9)"
            ]
          },
          "metadata": {},
          "execution_count": 12
        }
      ]
    },
    {
      "cell_type": "code",
      "source": [
        "poly.get_feature_names_out() # polynomial feature로 생성된 feature의 구성내용을 보여 줌 <= .get_feature_names 는 depreciated."
      ],
      "metadata": {
        "id": "YGclC-_xUBvM",
        "outputId": "368a126c-5ec0-461c-eeaf-c983cd56ac76",
        "colab": {
          "base_uri": "https://localhost:8080/"
        }
      },
      "execution_count": 13,
      "outputs": [
        {
          "output_type": "execute_result",
          "data": {
            "text/plain": [
              "array(['x0', 'x1', 'x2', 'x0^2', 'x0 x1', 'x0 x2', 'x1^2', 'x1 x2',\n",
              "       'x2^2'], dtype=object)"
            ]
          },
          "metadata": {},
          "execution_count": 13
        }
      ]
    },
    {
      "cell_type": "code",
      "source": [
        "test_poly = poly.transform(test_input)"
      ],
      "metadata": {
        "id": "DZUhU17IWB8o"
      },
      "execution_count": 14,
      "outputs": []
    },
    {
      "cell_type": "markdown",
      "source": [
        "### 다중 회귀 모델 훈련하기"
      ],
      "metadata": {
        "id": "AIcO4CSeYyeE"
      }
    },
    {
      "cell_type": "code",
      "source": [
        "lr = LinearRegression()\n",
        "lr.fit(train_poly, train_target)"
      ],
      "metadata": {
        "id": "s3SssYYKWB_w",
        "outputId": "438d6f93-b12c-4e45-e3fb-caaebeceb9ba",
        "colab": {
          "base_uri": "https://localhost:8080/"
        }
      },
      "execution_count": 15,
      "outputs": [
        {
          "output_type": "execute_result",
          "data": {
            "text/plain": [
              "LinearRegression()"
            ]
          },
          "metadata": {},
          "execution_count": 15
        }
      ]
    },
    {
      "cell_type": "code",
      "source": [
        "train_score = lr.score(train_poly, train_target)\n",
        "test_score = lr.score(test_poly, test_target)\n",
        "print('train score: {:.4f} \\n test score: {:.4f}'.format(train_score, test_score))"
      ],
      "metadata": {
        "id": "UZ-IhvKcWCDR",
        "outputId": "05945f9e-39c9-4775-e6eb-0686b7781a25",
        "colab": {
          "base_uri": "https://localhost:8080/"
        }
      },
      "execution_count": 16,
      "outputs": [
        {
          "output_type": "stream",
          "name": "stdout",
          "text": [
            "train score: 0.9903 \n",
            " test score: 0.9715\n"
          ]
        }
      ]
    },
    {
      "cell_type": "markdown",
      "source": [
        "### 다중회귀 차원 올려서 만들어 보기"
      ],
      "metadata": {
        "id": "tCc1Wi2jbHXD"
      }
    },
    {
      "cell_type": "code",
      "source": [
        "poly = PolynomialFeatures(degree=5, include_bias=False)\n",
        "poly.fit(train_input)\n",
        "train_poly = poly.transform(train_input)\n",
        "test_poly = poly.transform(test_input)"
      ],
      "metadata": {
        "id": "045VtyslbFyF"
      },
      "execution_count": 17,
      "outputs": []
    },
    {
      "cell_type": "code",
      "source": [
        "train_poly.shape, test_poly.shape"
      ],
      "metadata": {
        "id": "Aq5R36tdbF1R",
        "outputId": "eb432970-ddea-430a-822a-a70838cf4c17",
        "colab": {
          "base_uri": "https://localhost:8080/"
        }
      },
      "execution_count": 18,
      "outputs": [
        {
          "output_type": "execute_result",
          "data": {
            "text/plain": [
              "((42, 55), (14, 55))"
            ]
          },
          "metadata": {},
          "execution_count": 18
        }
      ]
    },
    {
      "cell_type": "code",
      "source": [
        "poly.get_feature_names_out().shape"
      ],
      "metadata": {
        "id": "92DxJrZfbF4y",
        "outputId": "65ccc6c2-71c1-44af-b61c-5cda4a738645",
        "colab": {
          "base_uri": "https://localhost:8080/"
        }
      },
      "execution_count": 19,
      "outputs": [
        {
          "output_type": "execute_result",
          "data": {
            "text/plain": [
              "(55,)"
            ]
          },
          "metadata": {},
          "execution_count": 19
        }
      ]
    },
    {
      "cell_type": "code",
      "source": [
        "lr.fit(train_poly, train_target)"
      ],
      "metadata": {
        "id": "1z30dPkobF7p",
        "outputId": "5c0138f5-fe22-4e3b-c596-d198fb3c0a8b",
        "colab": {
          "base_uri": "https://localhost:8080/"
        }
      },
      "execution_count": 20,
      "outputs": [
        {
          "output_type": "execute_result",
          "data": {
            "text/plain": [
              "LinearRegression()"
            ]
          },
          "metadata": {},
          "execution_count": 20
        }
      ]
    },
    {
      "cell_type": "code",
      "source": [
        "train_score = lr.score(train_poly, train_target)\n",
        "test_score = lr.score(test_poly, test_target)\n",
        "print('train score: {:.4f} \\n test score: {:.4f}'.format(train_score, test_score))"
      ],
      "metadata": {
        "id": "WAHuJUgCbF_C",
        "outputId": "cac935a2-cf26-4ea7-b3a4-c9d12994b4d4",
        "colab": {
          "base_uri": "https://localhost:8080/"
        }
      },
      "execution_count": 21,
      "outputs": [
        {
          "output_type": "stream",
          "name": "stdout",
          "text": [
            "train score: 1.0000 \n",
            " test score: -144.4058\n"
          ]
        }
      ]
    },
    {
      "cell_type": "markdown",
      "source": [
        "어마하게 과대적합이 되었음. 훈련은 완벽한데, 테스트는 결정계수가 음수가 나왔음."
      ],
      "metadata": {
        "id": "pieZ3t_QfwVX"
      }
    },
    {
      "cell_type": "markdown",
      "metadata": {
        "id": "K2YMPSelQBpO"
      },
      "source": [
        "## 규제"
      ]
    },
    {
      "cell_type": "markdown",
      "source": [
        "### 선형회귀에서는 표준화를 사용하지 않아도 되었지만 규제를 위하여는 반드시 진행해야 함. "
      ],
      "metadata": {
        "id": "hBngXlE4iaF8"
      }
    },
    {
      "cell_type": "code",
      "source": [
        "from sklearn.preprocessing import StandardScaler"
      ],
      "metadata": {
        "id": "_c-nqh6Tiq76"
      },
      "execution_count": 22,
      "outputs": []
    },
    {
      "cell_type": "code",
      "source": [
        "ss = StandardScaler()\n",
        "ss.fit(train_poly)\n",
        "train_scaled = ss.transform(train_poly)\n",
        "test_scaled = ss.transform(test_poly)"
      ],
      "metadata": {
        "id": "EKZ3s32qiq_O"
      },
      "execution_count": 23,
      "outputs": []
    },
    {
      "cell_type": "markdown",
      "source": [
        "## 릿지\n",
        "가중치 square에 벌칙, L2규제"
      ],
      "metadata": {
        "id": "k9M_aWbuj6Yb"
      }
    },
    {
      "cell_type": "code",
      "source": [
        "from sklearn.linear_model import Ridge"
      ],
      "metadata": {
        "id": "9_uwvQldirCh"
      },
      "execution_count": 24,
      "outputs": []
    },
    {
      "cell_type": "code",
      "source": [
        "ridge = Ridge()  # Ridge(alpha=1) alpha 가 1이면 강화되고, 적으면 약화됨. alpha값을 변화시키면서 가장 좋은 결과를 찾아냄, 하이퍼파라미터 탐색과정\n",
        "ridge.fit(train_scaled, train_target)"
      ],
      "metadata": {
        "id": "b3PMD4o3irFM",
        "outputId": "ec191859-f824-4a3c-a460-85e9a6d59046",
        "colab": {
          "base_uri": "https://localhost:8080/"
        }
      },
      "execution_count": 25,
      "outputs": [
        {
          "output_type": "execute_result",
          "data": {
            "text/plain": [
              "Ridge()"
            ]
          },
          "metadata": {},
          "execution_count": 25
        }
      ]
    },
    {
      "cell_type": "code",
      "source": [
        "train_score = ridge.score(train_scaled, train_target)\n",
        "test_score = ridge.score(test_scaled, test_target)\n",
        "print('train score: {:.4f} \\n test score: {:.4f}'.format(train_score, test_score))"
      ],
      "metadata": {
        "id": "NnzC9B_MjvVQ",
        "outputId": "13916a7e-7caf-4a82-b097-83fbea725a91",
        "colab": {
          "base_uri": "https://localhost:8080/"
        }
      },
      "execution_count": 26,
      "outputs": [
        {
          "output_type": "stream",
          "name": "stdout",
          "text": [
            "train score: 0.9896 \n",
            " test score: 0.9791\n"
          ]
        }
      ]
    },
    {
      "cell_type": "markdown",
      "source": [
        "규제적용전 위 결과와 비교하여 과대 적합이 사라졌음. (결정계수 비교)"
      ],
      "metadata": {
        "id": "bA3zWkIzkalA"
      }
    },
    {
      "cell_type": "markdown",
      "source": [
        "## 적절한 규제 강도 찾기"
      ],
      "metadata": {
        "id": "6YAT_RMElxsI"
      }
    },
    {
      "cell_type": "code",
      "source": [
        "alpha_list = [0.001, 0.01, 0.1, 1, 10, 100]\n",
        "train_score_l = []\n",
        "test_score_l = []\n",
        "for alpha in alpha_list:\n",
        "  ridge = Ridge(alpha=alpha)\n",
        "  ridge.fit(train_scaled, train_target)\n",
        "  train_score_l.append(ridge.score(train_scaled, train_target))\n",
        "  test_score_l.append(ridge.score(test_scaled, test_target))"
      ],
      "metadata": {
        "id": "T_XQmX38jvY9"
      },
      "execution_count": 27,
      "outputs": []
    },
    {
      "cell_type": "code",
      "source": [
        "plt.plot(np.log10(alpha_list), train_score_l, c='red')\n",
        "plt.plot(np.log10(alpha_list), test_score_l)\n",
        "plt.xlabel('alpha(log10)')\n",
        "plt.ylabel('R^2')"
      ],
      "metadata": {
        "id": "psNM2M-uirIe",
        "outputId": "e98d922b-7bf2-4bbd-fa47-df0f2f66b9af",
        "colab": {
          "base_uri": "https://localhost:8080/",
          "height": 297
        }
      },
      "execution_count": 28,
      "outputs": [
        {
          "output_type": "execute_result",
          "data": {
            "text/plain": [
              "Text(0, 0.5, 'R^2')"
            ]
          },
          "metadata": {},
          "execution_count": 28
        },
        {
          "output_type": "display_data",
          "data": {
            "image/png": "[encoded data removed]",
            "text/plain": [
              "<Figure size 432x288 with 1 Axes>"
            ]
          },
          "metadata": {
            "needs_background": "light"
          }
        }
      ]
    },
    {
      "cell_type": "code",
      "source": [
        "ridge = Ridge(alpha=0.1)\n",
        "ridge.fit(train_scaled, train_target)\n",
        "train_score = ridge.score(train_scaled, train_target)\n",
        "test_score = ridge.score(test_scaled, test_target)\n",
        "print('train score: {:.4f} \\n test score: {:.4f}'.format(train_score, test_score))"
      ],
      "metadata": {
        "id": "mJSswj_woSQT",
        "outputId": "79405263-9fa1-45cc-9137-e7db9b6d0f0e",
        "colab": {
          "base_uri": "https://localhost:8080/"
        }
      },
      "execution_count": 29,
      "outputs": [
        {
          "output_type": "stream",
          "name": "stdout",
          "text": [
            "train score: 0.9904 \n",
            " test score: 0.9828\n"
          ]
        }
      ]
    },
    {
      "cell_type": "markdown",
      "source": [
        "## Lasso\n",
        "가중치 절대값에 벌칙, L1규제\n"
      ],
      "metadata": {
        "id": "QtFjevktpFE1"
      }
    },
    {
      "cell_type": "code",
      "source": [
        "from sklearn.linear_model import Lasso"
      ],
      "metadata": {
        "id": "7mng_VWWprt2"
      },
      "execution_count": 30,
      "outputs": []
    },
    {
      "cell_type": "code",
      "source": [
        "lasso = Lasso()\n",
        "lasso.fit(train_scaled, train_target)\n",
        "train_score = lasso.score(train_scaled, train_target)\n",
        "test_score = lasso.score(test_scaled, test_target)\n",
        "print('train score: {:.4f} \\n test score: {:.4f}'.format(train_score, test_score))"
      ],
      "metadata": {
        "id": "p2OBF3iRoSE5",
        "outputId": "8e5a774e-201d-4584-bcdb-1f1e0daa637b",
        "colab": {
          "base_uri": "https://localhost:8080/"
        }
      },
      "execution_count": 31,
      "outputs": [
        {
          "output_type": "stream",
          "name": "stdout",
          "text": [
            "train score: 0.9898 \n",
            " test score: 0.9801\n"
          ]
        }
      ]
    },
    {
      "cell_type": "code",
      "source": [
        "alpha_list = [0.001, 0.01, 0.1, 1, 10, 100]\n",
        "train_score_l = []\n",
        "test_score_l = []\n",
        "for alpha in alpha_list:\n",
        "  lasso = Lasso(alpha=alpha)\n",
        "  lasso.fit(train_scaled, train_target)\n",
        "  train_score_l.append(lasso.score(train_scaled, train_target))\n",
        "  test_score_l.append(lasso.score(test_scaled, test_target))"
      ],
      "metadata": {
        "id": "P_SfFbXJoR01",
        "outputId": "ae5b5e5d-7abb-4da7-ab1c-da213c77ed56",
        "colab": {
          "base_uri": "https://localhost:8080/"
        }
      },
      "execution_count": 32,
      "outputs": [
        {
          "output_type": "stream",
          "name": "stderr",
          "text": [
            "/usr/local/lib/python3.7/dist-packages/sklearn/linear_model/_coordinate_descent.py:648: ConvergenceWarning: Objective did not converge. You might want to increase the number of iterations, check the scale of the features or consider increasing regularisation. Duality gap: 2.336e+04, tolerance: 5.183e+02\n",
            "  coef_, l1_reg, l2_reg, X, y, max_iter, tol, rng, random, positive\n",
            "/usr/local/lib/python3.7/dist-packages/sklearn/linear_model/_coordinate_descent.py:648: ConvergenceWarning: Objective did not converge. You might want to increase the number of iterations, check the scale of the features or consider increasing regularisation. Duality gap: 2.025e+04, tolerance: 5.183e+02\n",
            "  coef_, l1_reg, l2_reg, X, y, max_iter, tol, rng, random, positive\n",
            "/usr/local/lib/python3.7/dist-packages/sklearn/linear_model/_coordinate_descent.py:648: ConvergenceWarning: Objective did not converge. You might want to increase the number of iterations, check the scale of the features or consider increasing regularisation. Duality gap: 8.062e+02, tolerance: 5.183e+02\n",
            "  coef_, l1_reg, l2_reg, X, y, max_iter, tol, rng, random, positive\n"
          ]
        }
      ]
    },
    {
      "cell_type": "code",
      "source": [
        "plt.plot(np.log10(alpha_list), train_score_l, c='red')\n",
        "plt.plot(np.log10(alpha_list), test_score_l)\n",
        "plt.xlabel('alpha(log10)')\n",
        "plt.ylabel('R^2')"
      ],
      "metadata": {
        "id": "0nCcfRipqHLs",
        "outputId": "ac8868e5-736e-437d-c2c7-bbda97292868",
        "colab": {
          "base_uri": "https://localhost:8080/",
          "height": 297
        }
      },
      "execution_count": 33,
      "outputs": [
        {
          "output_type": "execute_result",
          "data": {
            "text/plain": [
              "Text(0, 0.5, 'R^2')"
            ]
          },
          "metadata": {},
          "execution_count": 33
        },
        {
          "output_type": "display_data",
          "data": {
            "image/png": "[encoded data removed]",
            "text/plain": [
              "<Figure size 432x288 with 1 Axes>"
            ]
          },
          "metadata": {
            "needs_background": "light"
          }
        }
      ]
    },
    {
      "cell_type": "code",
      "source": [
        "lasso = Lasso(alpha=10) # 위 그래프에서 10이 가장 좋은 결과를 보임\n",
        "lasso.fit(train_scaled, train_target)\n",
        "train_score = lasso.score(train_scaled, train_target)\n",
        "test_score = lasso.score(test_scaled, test_target)\n",
        "print('train score: {:.4f} \\n test score: {:.4f}'.format(train_score, test_score))"
      ],
      "metadata": {
        "id": "Q-N2GepvqHP0",
        "outputId": "c05e1dad-5f44-4683-c451-aac9d0c96f77",
        "colab": {
          "base_uri": "https://localhost:8080/"
        }
      },
      "execution_count": 34,
      "outputs": [
        {
          "output_type": "stream",
          "name": "stdout",
          "text": [
            "train score: 0.9888 \n",
            " test score: 0.9824\n"
          ]
        }
      ]
    },
    {
      "cell_type": "markdown",
      "source": [
        "일반적으로 Ridge가 좋은 결과를 보임. (L1보다는 L2규제)"
      ],
      "metadata": {
        "id": "DweAA0TMrEUD"
      }
    },
    {
      "cell_type": "code",
      "source": [
        "np.sum(lasso.coef_ == 0) # L1에서는 특성을 사용하지 않은 경우가 발생? 가중치가 0이 되는 특성을 찾으면 40개가 나옴."
      ],
      "metadata": {
        "id": "XaXazjIKoRxV",
        "outputId": "5431c0c7-5ae1-4c6d-ef31-3ea774a8eb7d",
        "colab": {
          "base_uri": "https://localhost:8080/"
        }
      },
      "execution_count": 35,
      "outputs": [
        {
          "output_type": "execute_result",
          "data": {
            "text/plain": [
              "40"
            ]
          },
          "metadata": {},
          "execution_count": 35
        }
      ]
    },
    {
      "cell_type": "markdown",
      "source": [
        "55개중에서 40개를 사용하지 않음."
      ],
      "metadata": {
        "id": "NJRs5KABr9-R"
      }
    },
    {
      "cell_type": "markdown",
      "source": [
        "사용하지 않는 feature 확인하고 추출하기"
      ],
      "metadata": {
        "id": "rZ9BX5zpucE9"
      }
    },
    {
      "cell_type": "code",
      "source": [
        "column_name = poly.get_feature_names_out()"
      ],
      "metadata": {
        "id": "N_7mJQGFtJxR"
      },
      "execution_count": 36,
      "outputs": []
    },
    {
      "cell_type": "code",
      "source": [
        "index = lasso.coef_ != 0 # 가중치가 0이 아닌 feature index 추출"
      ],
      "metadata": {
        "id": "JeHA7Nm1tPFo"
      },
      "execution_count": 37,
      "outputs": []
    },
    {
      "cell_type": "code",
      "source": [
        "column = column_name[index]  # 가중치가 0이 아닌 feature"
      ],
      "metadata": {
        "id": "-kBwoROwtqSe"
      },
      "execution_count": 38,
      "outputs": []
    },
    {
      "cell_type": "code",
      "source": [
        "len(column)"
      ],
      "metadata": {
        "id": "rlWuY1Uvt00_",
        "outputId": "493e3249-0922-48e8-eaaf-bf878657bda4",
        "colab": {
          "base_uri": "https://localhost:8080/"
        }
      },
      "execution_count": 39,
      "outputs": [
        {
          "output_type": "execute_result",
          "data": {
            "text/plain": [
              "15"
            ]
          },
          "metadata": {},
          "execution_count": 39
        }
      ]
    }
  ],
  "metadata": {
    "colab": {
      "collapsed_sections": [],
      "name": "3-3 특성 공학과 규제.ipynb",
      "provenance": [],
      "include_colab_link": true
    },
    "kernelspec": {
      "display_name": "Python 3 (ipykernel)",
      "language": "python",
      "name": "python3"
    },
    "language_info": {
      "codemirror_mode": {
        "name": "ipython",
        "version": 3
      },
      "file_extension": ".py",
      "mimetype": "text/x-python",
      "name": "python",
      "nbconvert_exporter": "python",
      "pygments_lexer": "ipython3",
      "version": "3.7.3"
    }
  },
  "nbformat": 4,
  "nbformat_minor": 0
}
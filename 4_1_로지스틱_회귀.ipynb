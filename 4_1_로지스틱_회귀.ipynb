{
 "cells": [
  {
   "cell_type": "markdown",
   "metadata": {
    "id": "LlS4gyYqJVpn"
   },
   "source": [
    "# 로지스틱 회귀"
   ]
  },
  {
   "cell_type": "markdown",
   "metadata": {
    "id": "tQBDVUjBbIsL"
   },
   "source": [
    "## 럭키백의 확률"
   ]
  },
  {
   "cell_type": "markdown",
   "metadata": {
    "id": "ILi_LPl9JVpw"
   },
   "source": [
    "### 데이터 준비하기"
   ]
  },
  {
   "cell_type": "code",
   "execution_count": 1,
   "metadata": {
    "id": "EwImyTS9S3QQ"
   },
   "outputs": [],
   "source": [
    "import pandas as pd\n",
    "import numpy as np\n",
    "import matplotlib.pyplot as plt\n",
    "\n",
    "from sklearn.preprocessing import StandardScaler\n",
    "from sklearn.model_selection import train_test_split\n",
    "from sklearn.neighbors import KNeighborsClassifier\n",
    "from sklearn.linear_model import LogisticRegression"
   ]
  },
  {
   "cell_type": "code",
   "execution_count": 2,
   "metadata": {
    "colab": {
     "base_uri": "https://localhost:8080/",
     "height": 206
    },
    "id": "U0kHJfqTS9Gx",
    "outputId": "00a4851a-52fd-4664-9741-4754b0c265ee"
   },
   "outputs": [
    {
     "data": {
      "text/html": [
       "<div>\n",
       "<style scoped>\n",
       "    .dataframe tbody tr th:only-of-type {\n",
       "        vertical-align: middle;\n",
       "    }\n",
       "\n",
       "    .dataframe tbody tr th {\n",
       "        vertical-align: top;\n",
       "    }\n",
       "\n",
       "    .dataframe thead th {\n",
       "        text-align: right;\n",
       "    }\n",
       "</style>\n",
       "<table border=\"1\" class=\"dataframe\">\n",
       "  <thead>\n",
       "    <tr style=\"text-align: right;\">\n",
       "      <th></th>\n",
       "      <th>Species</th>\n",
       "      <th>Weight</th>\n",
       "      <th>Length</th>\n",
       "      <th>Diagonal</th>\n",
       "      <th>Height</th>\n",
       "      <th>Width</th>\n",
       "    </tr>\n",
       "  </thead>\n",
       "  <tbody>\n",
       "    <tr>\n",
       "      <th>0</th>\n",
       "      <td>Bream</td>\n",
       "      <td>242.0</td>\n",
       "      <td>25.4</td>\n",
       "      <td>30.0</td>\n",
       "      <td>11.5200</td>\n",
       "      <td>4.0200</td>\n",
       "    </tr>\n",
       "    <tr>\n",
       "      <th>1</th>\n",
       "      <td>Bream</td>\n",
       "      <td>290.0</td>\n",
       "      <td>26.3</td>\n",
       "      <td>31.2</td>\n",
       "      <td>12.4800</td>\n",
       "      <td>4.3056</td>\n",
       "    </tr>\n",
       "    <tr>\n",
       "      <th>2</th>\n",
       "      <td>Bream</td>\n",
       "      <td>340.0</td>\n",
       "      <td>26.5</td>\n",
       "      <td>31.1</td>\n",
       "      <td>12.3778</td>\n",
       "      <td>4.6961</td>\n",
       "    </tr>\n",
       "    <tr>\n",
       "      <th>3</th>\n",
       "      <td>Bream</td>\n",
       "      <td>363.0</td>\n",
       "      <td>29.0</td>\n",
       "      <td>33.5</td>\n",
       "      <td>12.7300</td>\n",
       "      <td>4.4555</td>\n",
       "    </tr>\n",
       "    <tr>\n",
       "      <th>4</th>\n",
       "      <td>Bream</td>\n",
       "      <td>430.0</td>\n",
       "      <td>29.0</td>\n",
       "      <td>34.0</td>\n",
       "      <td>12.4440</td>\n",
       "      <td>5.1340</td>\n",
       "    </tr>\n",
       "  </tbody>\n",
       "</table>\n",
       "</div>"
      ],
      "text/plain": [
       "  Species  Weight  Length  Diagonal   Height   Width\n",
       "0   Bream   242.0    25.4      30.0  11.5200  4.0200\n",
       "1   Bream   290.0    26.3      31.2  12.4800  4.3056\n",
       "2   Bream   340.0    26.5      31.1  12.3778  4.6961\n",
       "3   Bream   363.0    29.0      33.5  12.7300  4.4555\n",
       "4   Bream   430.0    29.0      34.0  12.4440  5.1340"
      ]
     },
     "execution_count": 2,
     "metadata": {},
     "output_type": "execute_result"
    }
   ],
   "source": [
    "fish = pd.read_csv('https://bit.ly/fish_csv_data')\n",
    "fish.head()"
   ]
  },
  {
   "cell_type": "code",
   "execution_count": 3,
   "metadata": {
    "id": "roy-G84BTL1g"
   },
   "outputs": [],
   "source": [
    "input_column, target_column = fish.columns[1:], fish.columns[0]\n",
    "fish_input = fish[input_column].values # == .to_numpy()\n",
    "fish_target = fish[target_column].values"
   ]
  },
  {
   "cell_type": "code",
   "execution_count": 4,
   "metadata": {
    "id": "0U1lMfl7WoHw"
   },
   "outputs": [],
   "source": [
    "train_input, test_input, train_target, test_target = train_test_split(fish_input, fish_target, random_state=42)"
   ]
  },
  {
   "cell_type": "code",
   "execution_count": 5,
   "metadata": {
    "id": "3IhHUKAnXNkI"
   },
   "outputs": [],
   "source": [
    "ss = StandardScaler()\n",
    "ss.fit(train_input)\n",
    "train_scaled = ss.transform(train_input)\n",
    "test_scaled = ss.transform(test_input)"
   ]
  },
  {
   "cell_type": "code",
   "execution_count": 6,
   "metadata": {
    "colab": {
     "base_uri": "https://localhost:8080/"
    },
    "id": "mfXMiQLdS3Zw",
    "outputId": "0072f1a9-d43a-4f05-d379-a69b6efd279f"
   },
   "outputs": [
    {
     "data": {
      "text/plain": [
       "KNeighborsClassifier(n_neighbors=3)"
      ]
     },
     "execution_count": 6,
     "metadata": {},
     "output_type": "execute_result"
    }
   ],
   "source": [
    "kn = KNeighborsClassifier(n_neighbors=3)\n",
    "kn.fit(train_scaled, train_target)"
   ]
  },
  {
   "cell_type": "markdown",
   "metadata": {
    "id": "BJlLAStFX4zu"
   },
   "source": [
    "scikit learn에서는 target 걊을 문자로 넣어도 내부에서 숫자로 변환하여 사용하고 결과를 내어 준다 <br> **알파벳 순서대로 label이 지정됨.** <br> kn.classes_ 문자로 변환된 class 리스트 순서 확인 <br>\n",
    "classes_ 여기서 언더바는 모델에서 학습한 내용 결과를 보여주는 변수이름형식으로 사용됨."
   ]
  },
  {
   "cell_type": "code",
   "execution_count": 7,
   "metadata": {
    "colab": {
     "base_uri": "https://localhost:8080/"
    },
    "id": "3Rhi4UNdS3dB",
    "outputId": "1610f015-2e19-4147-e45d-8b774aeab54c"
   },
   "outputs": [
    {
     "name": "stdout",
     "output_type": "stream",
     "text": [
      "['Bream' 'Parkki' 'Perch' 'Pike' 'Roach' 'Smelt' 'Whitefish']\n"
     ]
    },
    {
     "data": {
      "text/plain": [
       "(None,\n",
       " array(['Bream', 'Parkki', 'Perch', 'Pike', 'Roach', 'Smelt', 'Whitefish'],\n",
       "       dtype=object))"
      ]
     },
     "execution_count": 7,
     "metadata": {},
     "output_type": "execute_result"
    }
   ],
   "source": [
    "print(kn.classes_), kn.classes_"
   ]
  },
  {
   "cell_type": "code",
   "execution_count": 8,
   "metadata": {
    "colab": {
     "base_uri": "https://localhost:8080/"
    },
    "id": "WXMM6EyiS3gH",
    "outputId": "854fd320-7176-418d-8997-4c321ce866b3"
   },
   "outputs": [
    {
     "data": {
      "text/plain": [
       "array(['Perch', 'Smelt', 'Pike', 'Perch', 'Perch'], dtype=object)"
      ]
     },
     "execution_count": 8,
     "metadata": {},
     "output_type": "execute_result"
    }
   ],
   "source": [
    "kn.predict(test_scaled[:5])  # 이름으로 바뀌어서 나옴"
   ]
  },
  {
   "cell_type": "code",
   "execution_count": 9,
   "metadata": {
    "id": "Ywr0x2umaGUO"
   },
   "outputs": [],
   "source": [
    "proba = kn.predict_proba(test_scaled[:5])  # 각 확률을 보여줌"
   ]
  },
  {
   "cell_type": "code",
   "execution_count": 10,
   "metadata": {
    "colab": {
     "base_uri": "https://localhost:8080/"
    },
    "id": "gpbrV7mma-rW",
    "outputId": "74811259-fecd-44e8-dd5f-9d903353827b"
   },
   "outputs": [
    {
     "name": "stdout",
     "output_type": "stream",
     "text": [
      "[[0.     0.     1.     0.     0.     0.     0.    ]\n",
      " [0.     0.     0.     0.     0.     1.     0.    ]\n",
      " [0.     0.     0.     1.     0.     0.     0.    ]\n",
      " [0.     0.     0.6667 0.     0.3333 0.     0.    ]\n",
      " [0.     0.     0.6667 0.     0.3333 0.     0.    ]]\n"
     ]
    }
   ],
   "source": [
    "print(np.round(proba, decimals=4))"
   ]
  },
  {
   "cell_type": "markdown",
   "metadata": {
    "id": "YRFQLIiubm9s"
   },
   "source": [
    "네번째 생선의 경우는 'Perch'일 가능성이 0.6667이고, 'Roach'일 가능성이 0.3333으로 결과가 나옴. 결국 최종은 Perch로 판단함. <br> 저 위에서 n_neighbors=3으로 지정하여 모델을 정의했가 때문에 확률은 0, 1/3, 2/3, 1로 밖에 나오지 않음."
   ]
  },
  {
   "cell_type": "code",
   "execution_count": 11,
   "metadata": {
    "colab": {
     "base_uri": "https://localhost:8080/"
    },
    "id": "ihi_5X36aGXV",
    "outputId": "229f2e47-48cf-4883-8868-81c68fa56eef"
   },
   "outputs": [
    {
     "data": {
      "text/plain": [
       "(array([[0.20774583, 0.24862983, 0.33682411, 0.36163059, 0.36662895]]),\n",
       " array([[104, 115, 106,  42,  23]], dtype=int64))"
      ]
     },
     "execution_count": 11,
     "metadata": {},
     "output_type": "execute_result"
    }
   ],
   "source": [
    "distances, indexes = kn.kneighbors(test_scaled[3:4], n_neighbors=5)\n",
    "distances, indexes"
   ]
  },
  {
   "cell_type": "code",
   "execution_count": 12,
   "metadata": {
    "colab": {
     "base_uri": "https://localhost:8080/"
    },
    "id": "RaSQmVuIaGa3",
    "outputId": "98916292-88f9-479a-ca98-4fd2960005e9"
   },
   "outputs": [
    {
     "name": "stdout",
     "output_type": "stream",
     "text": [
      "[['Roach' 'Perch' 'Perch' 'Perch' 'Perch']]\n"
     ]
    }
   ],
   "source": [
    "print(train_target[indexes])  # 가까운 이웃 5개중 4개가 perch. 확률: 80%"
   ]
  },
  {
   "cell_type": "markdown",
   "metadata": {
    "id": "Q9_wuI_0tEqL"
   },
   "source": [
    "## 로지스틱 회귀"
   ]
  },
  {
   "cell_type": "code",
   "execution_count": 13,
   "metadata": {
    "colab": {
     "base_uri": "https://localhost:8080/",
     "height": 296
    },
    "id": "YWXzBwZxpdXq",
    "outputId": "0568edf8-b130-4a8c-fa7f-b73ae079efd9"
   },
   "outputs": [
    {
     "data": {
      "text/plain": [
       "Text(0, 0.5, 'phi')"
      ]
     },
     "execution_count": 13,
     "metadata": {},
     "output_type": "execute_result"
    },
    {
     "data": {
      "image/png": "[encoded data removed]",
      "text/plain": [
       "<Figure size 432x288 with 1 Axes>"
      ]
     },
     "metadata": {
      "needs_background": "light"
     },
     "output_type": "display_data"
    }
   ],
   "source": [
    "z = np.arange(-5, 5, 0.1)\n",
    "phi = 1 / (1 + np.exp(-z))\n",
    "\n",
    "plt.plot(z, phi)\n",
    "plt.plot([-5.2, 5.2], [1, 1], c='k', linewidth=0.5)\n",
    "plt.plot([0, 0], [0, 1.], c='k', linewidth=0.5)\n",
    "plt.plot([-5.2, 5.2], [0, 0], c='k', linewidth=0.5)\n",
    "plt.xlabel('z')\n",
    "plt.ylabel('phi')"
   ]
  },
  {
   "cell_type": "markdown",
   "metadata": {
    "id": "cTD0nxuI-pn-"
   },
   "source": [
    "로지스틱 회귀로 이중 분류 수행하기"
   ]
  },
  {
   "cell_type": "code",
   "execution_count": 14,
   "metadata": {
    "id": "v0WghOP8s4UG"
   },
   "outputs": [],
   "source": [
    "bream_smelt_indexes = (train_target == 'Bream') | (train_target == 'Smelt')\n",
    "train_bream_smelt = train_scaled[bream_smelt_indexes]\n",
    "target_bream_smelt = train_target[bream_smelt_indexes]"
   ]
  },
  {
   "cell_type": "code",
   "execution_count": 15,
   "metadata": {
    "id": "7fqxS__4u-FH"
   },
   "outputs": [],
   "source": [
    "from sklearn.linear_model import LogisticRegression"
   ]
  },
  {
   "cell_type": "code",
   "execution_count": 16,
   "metadata": {
    "colab": {
     "base_uri": "https://localhost:8080/"
    },
    "id": "41x9FsIyu-IP",
    "outputId": "c61698e9-6f92-45c7-f824-b42a547ffe4c"
   },
   "outputs": [
    {
     "data": {
      "text/plain": [
       "LogisticRegression()"
      ]
     },
     "execution_count": 16,
     "metadata": {},
     "output_type": "execute_result"
    }
   ],
   "source": [
    "lr = LogisticRegression()\n",
    "lr.fit(train_bream_smelt, target_bream_smelt)"
   ]
  },
  {
   "cell_type": "code",
   "execution_count": 17,
   "metadata": {
    "colab": {
     "base_uri": "https://localhost:8080/"
    },
    "id": "OuWv5OlSu-L9",
    "outputId": "82281938-4be9-4dbb-90a9-81c949eb3803"
   },
   "outputs": [
    {
     "name": "stdout",
     "output_type": "stream",
     "text": [
      "['Bream' 'Smelt' 'Bream' 'Bream' 'Bream']\n"
     ]
    }
   ],
   "source": [
    "print(lr.predict(train_bream_smelt[:5]))"
   ]
  },
  {
   "cell_type": "code",
   "execution_count": 18,
   "metadata": {
    "colab": {
     "base_uri": "https://localhost:8080/"
    },
    "id": "PQMIaSNJvf7Q",
    "outputId": "6f3db439-be80-4ea5-9659-59cda448e1cc"
   },
   "outputs": [
    {
     "name": "stdout",
     "output_type": "stream",
     "text": [
      "[[0.99759855 0.00240145]\n",
      " [0.02735183 0.97264817]\n",
      " [0.99486072 0.00513928]\n",
      " [0.98584202 0.01415798]\n",
      " [0.99767269 0.00232731]]\n"
     ]
    }
   ],
   "source": [
    "print(lr.predict_proba(train_bream_smelt[:5]))"
   ]
  },
  {
   "cell_type": "code",
   "execution_count": 19,
   "metadata": {
    "colab": {
     "base_uri": "https://localhost:8080/"
    },
    "id": "mqR3QKQlxpss",
    "outputId": "db8e5bb1-88d4-4504-9565-d4bc2c643611"
   },
   "outputs": [
    {
     "data": {
      "text/plain": [
       "(array([[-0.4037798 , -0.57620209, -0.66280298, -1.01290277, -0.73168947]]),\n",
       " array([-2.16155132]))"
      ]
     },
     "execution_count": 19,
     "metadata": {},
     "output_type": "execute_result"
    }
   ],
   "source": [
    "lr.coef_, lr.intercept_"
   ]
  },
  {
   "cell_type": "code",
   "execution_count": 20,
   "metadata": {
    "colab": {
     "base_uri": "https://localhost:8080/"
    },
    "id": "iCXyBuWMxppc",
    "outputId": "74a08d8c-0272-44ba-e0f4-a9bd1a00bcdd"
   },
   "outputs": [
    {
     "data": {
      "text/plain": [
       "array([[-6.02927744]])"
      ]
     },
     "execution_count": 20,
     "metadata": {},
     "output_type": "execute_result"
    }
   ],
   "source": [
    "Weight, Length, Diagonal, Height, Width = 0.91965782, 0.60943175, 0.81041221, 1.85194896, 1.00075672  # scaled된 변환값 입력\n",
    "x = np.array([Weight, Length, Diagonal, Height, Width]).reshape(5,1)\n",
    "coef = lr.coef_\n",
    "z = np.matmul(coef, x) + lr.intercept_\n",
    "z"
   ]
  },
  {
   "cell_type": "code",
   "execution_count": 21,
   "metadata": {
    "id": "Tqibbv85xplL"
   },
   "outputs": [],
   "source": [
    "decisions = lr.decision_function(train_bream_smelt[:5]) # 위 z 값을 계산하여 반환함."
   ]
  },
  {
   "cell_type": "code",
   "execution_count": 22,
   "metadata": {
    "colab": {
     "base_uri": "https://localhost:8080/"
    },
    "id": "Tfc-b8voxphz",
    "outputId": "e044a26e-f716-4e63-cbfb-475eb0fe18ae"
   },
   "outputs": [
    {
     "name": "stdout",
     "output_type": "stream",
     "text": [
      "[-6.02927744  3.57123907 -5.26568906 -4.24321775 -6.0607117 ]\n"
     ]
    }
   ],
   "source": [
    "print(decisions)"
   ]
  },
  {
   "cell_type": "code",
   "execution_count": 23,
   "metadata": {
    "colab": {
     "base_uri": "https://localhost:8080/"
    },
    "id": "QQx5hMc41IOt",
    "outputId": "41cee96c-b76d-4bbb-af00-f421efe5ce87"
   },
   "outputs": [
    {
     "name": "stdout",
     "output_type": "stream",
     "text": [
      "[0.00240145 0.97264817 0.00513928 0.01415798 0.00232731]\n"
     ]
    }
   ],
   "source": [
    "from scipy.special import expit # sigmoid함수 계산\n",
    "print(expit(decisions)) # decision값을 시그모이드에 대입하여 계산함."
   ]
  },
  {
   "cell_type": "markdown",
   "metadata": {
    "id": "00p2JkI01ZVy"
   },
   "source": [
    "위에서 계산된 predict_proba 결과와 동일함."
   ]
  },
  {
   "cell_type": "markdown",
   "metadata": {
    "id": "6ee-s4l7EuVo"
   },
   "source": [
    "### 로지스틱 회귀로 다중 분류 수행하기"
   ]
  },
  {
   "cell_type": "markdown",
   "metadata": {
    "id": "KTiVS9Kc-7cE"
   },
   "source": [
    "L2 norm 규제 내부 동작. C 값으로 규제강화 조정. 올라가면 약하게 하고, 내려가면 강해짐. linearregression Ridge, Lasso의 alpha와 반대로 지정.<br> 규제의 역수로 인식. 기본값: 1"
   ]
  },
  {
   "cell_type": "code",
   "execution_count": 24,
   "metadata": {
    "colab": {
     "base_uri": "https://localhost:8080/"
    },
    "id": "yYEGAWpm-t_P",
    "outputId": "7361a399-056e-480a-92f4-d014f65471e6"
   },
   "outputs": [
    {
     "data": {
      "text/plain": [
       "LogisticRegression(C=20, max_iter=1000)"
      ]
     },
     "execution_count": 24,
     "metadata": {},
     "output_type": "execute_result"
    }
   ],
   "source": [
    "lr = LogisticRegression(C=20, max_iter=1000) # max_iter default 100, \n",
    "lr.fit(train_scaled, train_target)"
   ]
  },
  {
   "cell_type": "code",
   "execution_count": 25,
   "metadata": {
    "colab": {
     "base_uri": "https://localhost:8080/"
    },
    "id": "KlCaow84_uNH",
    "outputId": "cfb37ecd-a4fd-4ddd-add0-a8dfe3dbb23b"
   },
   "outputs": [
    {
     "name": "stdout",
     "output_type": "stream",
     "text": [
      "train score: 0.9328 \n",
      " test score; 0.9250\n"
     ]
    }
   ],
   "source": [
    "train_score = lr.score(train_scaled, train_target)\n",
    "test_score = lr.score(test_scaled, test_target)\n",
    "print(f'train score: {train_score:.4f} \\n test score; {test_score:.4f}')"
   ]
  },
  {
   "cell_type": "code",
   "execution_count": 26,
   "metadata": {
    "colab": {
     "base_uri": "https://localhost:8080/"
    },
    "id": "Ty5_AmMI-uCP",
    "outputId": "98f5fae5-26ed-4422-e57c-9b2396508bed"
   },
   "outputs": [
    {
     "name": "stdout",
     "output_type": "stream",
     "text": [
      "[[0.    0.014 0.841 0.    0.136 0.007 0.003]\n",
      " [0.    0.003 0.044 0.    0.007 0.946 0.   ]\n",
      " [0.    0.    0.034 0.935 0.015 0.016 0.   ]\n",
      " [0.011 0.034 0.306 0.007 0.567 0.    0.076]\n",
      " [0.    0.    0.904 0.002 0.089 0.002 0.001]]\n"
     ]
    }
   ],
   "source": [
    "proba = lr.predict_proba(test_scaled[:5])\n",
    "print(np.round(proba, decimals=3))"
   ]
  },
  {
   "cell_type": "code",
   "execution_count": 27,
   "metadata": {
    "colab": {
     "base_uri": "https://localhost:8080/"
    },
    "id": "mZiSGk6c-uFu",
    "outputId": "edac0a9e-cae7-4786-a7f7-281541e1841c"
   },
   "outputs": [
    {
     "name": "stdout",
     "output_type": "stream",
     "text": [
      "[[-1.49003129 -1.02922799  2.59354384  7.70352261 -1.20066865]\n",
      " [ 0.19620005 -2.01055961 -3.77985793  6.50489546 -1.99488339]\n",
      " [ 3.56277562  6.34363762 -8.4897457  -5.75755723  3.7930993 ]\n",
      " [-0.10459208  3.60315022  3.93067151 -3.61728572 -1.75071354]\n",
      " [-1.40057602 -6.07506279  5.25966666 -0.8722428   1.86043913]\n",
      " [-1.38530137  1.49218754  1.39229417 -5.67731989 -4.40095238]\n",
      " [ 0.62152509 -2.32412498 -0.90657255  1.71598756  3.69367954]] [-0.09204741 -0.26290659  3.25100726 -0.147412    2.65494595 -6.78780103\n",
      "  1.38421383]\n"
     ]
    }
   ],
   "source": [
    "print(lr.coef_, lr.intercept_)"
   ]
  },
  {
   "cell_type": "markdown",
   "metadata": {
    "id": "BpteuL_-CFwj"
   },
   "source": [
    "클라스마다 선형함수가 하나씩 만들어 짐. 각 클래스마다 2진분류를 7번하여 선형함수를 생성함. <br> 예을 들어 4번째 클라스에서 선형함수를 학습할때는 2진 분류처럼 학습함. 4번째 클라스는 양성클라스로 두고 나머지는 음성클라스로 두고 진행. 대표적인 다중분류의 한 방법 (OvR : One vs. Rest)"
   ]
  },
  {
   "cell_type": "markdown",
   "metadata": {
    "id": "uCnOeHkNEMpz"
   },
   "source": [
    "7개 분류를 위하여는 sigmoid함수 를 사용하지 않고 softmax함수를 이용"
   ]
  },
  {
   "cell_type": "code",
   "execution_count": 28,
   "metadata": {
    "colab": {
     "base_uri": "https://localhost:8080/"
    },
    "id": "pi48O__XEWW9",
    "outputId": "4dab70a8-b854-4872-86d9-a247c29cea29"
   },
   "outputs": [
    {
     "name": "stdout",
     "output_type": "stream",
     "text": [
      "[[ -6.5    1.03   5.16  -2.73   3.34   0.33  -0.63]\n",
      " [-10.86   1.93   4.77  -2.4    2.98   7.84  -4.26]\n",
      " [ -4.34  -6.23   3.17   6.49   2.36   2.42  -3.87]\n",
      " [ -0.68   0.45   2.65  -1.19   3.26  -5.75   1.26]\n",
      " [ -6.4   -1.99   5.82  -0.11   3.5   -0.11  -0.71]]\n"
     ]
    }
   ],
   "source": [
    "decisions = lr.decision_function(test_scaled[:5])  # Z함수 계산\n",
    "print(np.round(decisions, decimals=2))"
   ]
  },
  {
   "attachments": {
    "softmax.JPG": {
     "image/jpeg": "[encoded data removed]"
    }
   },
   "cell_type": "markdown",
   "metadata": {},
   "source": [
    "![softmax.JPG](attachment:softmax.JPG)"
   ]
  },
  {
   "cell_type": "markdown",
   "metadata": {
    "id": "DTWthK4EKfDr"
   },
   "source": [
    "decision_function결과를 이용하여 각각 클라스에 대한 시그모이드함수를 계산. predict_proba()로 도출된 결과와 같은 결과를 보임."
   ]
  },
  {
   "cell_type": "code",
   "execution_count": 29,
   "metadata": {
    "id": "aEU7ocbyEWaA"
   },
   "outputs": [],
   "source": [
    "from scipy.special import softmax"
   ]
  },
  {
   "cell_type": "code",
   "execution_count": 30,
   "metadata": {
    "id": "vNH0nedCLMar"
   },
   "outputs": [],
   "source": [
    "proba = softmax(decisions, axis=1)"
   ]
  },
  {
   "cell_type": "code",
   "execution_count": 31,
   "metadata": {
    "colab": {
     "base_uri": "https://localhost:8080/"
    },
    "id": "pWBT7PVTEWdG",
    "outputId": "208ffa2e-a1be-416d-bc57-71ef63b5a573"
   },
   "outputs": [
    {
     "name": "stdout",
     "output_type": "stream",
     "text": [
      "[[0.    0.014 0.841 0.    0.136 0.007 0.003]\n",
      " [0.    0.003 0.044 0.    0.007 0.946 0.   ]\n",
      " [0.    0.    0.034 0.935 0.015 0.016 0.   ]\n",
      " [0.011 0.034 0.306 0.007 0.567 0.    0.076]\n",
      " [0.    0.    0.904 0.002 0.089 0.002 0.001]]\n"
     ]
    }
   ],
   "source": [
    "print(np.round(proba, decimals=3))"
   ]
  }
 ],
 "metadata": {
  "colab": {
   "collapsed_sections": [],
   "name": "4-1 로지스틱 회귀.ipynb",
   "provenance": []
  },
  "kernelspec": {
   "display_name": "Python 3",
   "language": "python",
   "name": "python3"
  },
  "language_info": {
   "codemirror_mode": {
    "name": "ipython",
    "version": 3
   },
   "file_extension": ".py",
   "mimetype": "text/x-python",
   "name": "python",
   "nbconvert_exporter": "python",
   "pygments_lexer": "ipython3",
   "version": "3.9.1"
  }
 },
 "nbformat": 4,
 "nbformat_minor": 1
}

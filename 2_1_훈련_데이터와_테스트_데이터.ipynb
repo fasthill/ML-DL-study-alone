{
  "cells": [
    {
      "cell_type": "markdown",
      "metadata": {
        "id": "view-in-github",
        "colab_type": "text"
      },
      "source": [
        "<a href=\"https://colab.research.google.com/github/fasthill/ML-DL-study-alone/blob/main/2_1_%ED%9B%88%EB%A0%A8_%EB%8D%B0%EC%9D%B4%ED%84%B0%EC%99%80_%ED%85%8C%EC%8A%A4%ED%8A%B8_%EB%8D%B0%EC%9D%B4%ED%84%B0.ipynb\" target=\"_parent\"><img src=\"https://colab.research.google.com/assets/colab-badge.svg\" alt=\"Open In Colab\"/></a>"
      ]
    },
    {
      "cell_type": "markdown",
      "metadata": {
        "id": "c4ZFGkqiOgnk"
      },
      "source": [
        "# 훈련 세트와 테스트 세트"
      ]
    },
    {
      "cell_type": "markdown",
      "metadata": {
        "id": "YqKYcTOKOgnw"
      },
      "source": [
        "<table align=\"left\">\n",
        "  <td>\n",
        "    <a target=\"_blank\" href=\"https://colab.research.google.com/github/rickiepark/hg-mldl/blob/master/2-1.ipynb\"><img src=\"https://www.tensorflow.org/images/colab_logo_32px.png\" />구글 코랩에서 실행하기</a>\n",
        "  </td>\n",
        "</table>"
      ]
    },
    {
      "cell_type": "markdown",
      "metadata": {
        "id": "cK_-Ne3eOgnz"
      },
      "source": [
        "## 훈련 세트와 테스트 세트"
      ]
    },
    {
      "cell_type": "code",
      "execution_count": 1,
      "metadata": {
        "id": "N1oAXHg2Y6DJ"
      },
      "outputs": [],
      "source": [
        "fish_length = [25.4, 26.3, 26.5, 29.0, 29.0, 29.7, 29.7, 30.0, 30.0, 30.7, 31.0, 31.0, \n",
        "                31.5, 32.0, 32.0, 32.0, 33.0, 33.0, 33.5, 33.5, 34.0, 34.0, 34.5, 35.0, \n",
        "                35.0, 35.0, 35.0, 36.0, 36.0, 37.0, 38.5, 38.5, 39.5, 41.0, 41.0, 9.8, \n",
        "                10.5, 10.6, 11.0, 11.2, 11.3, 11.8, 11.8, 12.0, 12.2, 12.4, 13.0, 14.3, 15.0]\n",
        "fish_weight = [242.0, 290.0, 340.0, 363.0, 430.0, 450.0, 500.0, 390.0, 450.0, 500.0, 475.0, 500.0, \n",
        "                500.0, 340.0, 600.0, 600.0, 700.0, 700.0, 610.0, 650.0, 575.0, 685.0, 620.0, 680.0, \n",
        "                700.0, 725.0, 720.0, 714.0, 850.0, 1000.0, 920.0, 955.0, 925.0, 975.0, 950.0, 6.7, \n",
        "                7.5, 7.0, 9.7, 9.8, 8.7, 10.0, 9.9, 9.8, 12.2, 13.4, 12.2, 19.7, 19.9]"
      ]
    },
    {
      "cell_type": "code",
      "execution_count": 2,
      "metadata": {
        "id": "4mQxk1Vx7dL5"
      },
      "outputs": [],
      "source": [
        "fish_data = [[l, w] for l, w in zip(fish_length, fish_weight)]\n",
        "fish_target = [1]*35 + [0]*14"
      ]
    },
    {
      "cell_type": "code",
      "execution_count": 3,
      "metadata": {
        "id": "URr_0wBTYsZV"
      },
      "outputs": [],
      "source": [
        "from sklearn.neighbors import KNeighborsClassifier\n",
        "\n",
        "kn = KNeighborsClassifier()"
      ]
    },
    {
      "cell_type": "code",
      "execution_count": 4,
      "metadata": {
        "colab": {
          "base_uri": "https://localhost:8080/"
        },
        "id": "H74k3aZQ9hnr",
        "outputId": "c226ba60-75e8-4c8f-c18f-efa417a52f60"
      },
      "outputs": [
        {
          "output_type": "stream",
          "name": "stdout",
          "text": [
            "[29.0, 430.0]\n"
          ]
        }
      ],
      "source": [
        "print(fish_data[4])"
      ]
    },
    {
      "cell_type": "code",
      "execution_count": null,
      "metadata": {
        "colab": {
          "base_uri": "https://localhost:8080/"
        },
        "id": "6tYXuRGA_4mk",
        "outputId": "57688e85-9b57-492d-d112-20097ffd34d1"
      },
      "outputs": [
        {
          "output_type": "stream",
          "name": "stdout",
          "text": [
            "[[25.4, 242.0], [26.3, 290.0], [26.5, 340.0], [29.0, 363.0], [29.0, 430.0]]\n"
          ]
        }
      ],
      "source": [
        "print(fish_data[0:5])"
      ]
    },
    {
      "cell_type": "code",
      "execution_count": null,
      "metadata": {
        "colab": {
          "base_uri": "https://localhost:8080/"
        },
        "id": "IFesPu-oB41B",
        "outputId": "ceee074c-9762-426d-e035-10e41a16b135"
      },
      "outputs": [
        {
          "output_type": "stream",
          "name": "stdout",
          "text": [
            "[[25.4, 242.0], [26.3, 290.0], [26.5, 340.0], [29.0, 363.0], [29.0, 430.0]]\n"
          ]
        }
      ],
      "source": [
        "print(fish_data[:5])"
      ]
    },
    {
      "cell_type": "code",
      "execution_count": null,
      "metadata": {
        "colab": {
          "base_uri": "https://localhost:8080/"
        },
        "id": "GSbt5e9ICUKc",
        "outputId": "cbbe4258-0067-477d-ae14-119dd3ff8a87"
      },
      "outputs": [
        {
          "output_type": "stream",
          "name": "stdout",
          "text": [
            "[[12.2, 12.2], [12.4, 13.4], [13.0, 12.2], [14.3, 19.7], [15.0, 19.9]]\n"
          ]
        }
      ],
      "source": [
        "print(fish_data[44:])"
      ]
    },
    {
      "cell_type": "code",
      "execution_count": null,
      "metadata": {
        "id": "MqSRWFtpDESU"
      },
      "outputs": [],
      "source": [
        "train_input = fish_data[:35]\n",
        "train_target = fish_target[:35]\n",
        "\n",
        "test_input = fish_data[35:]\n",
        "test_target = fish_target[35:]"
      ]
    },
    {
      "cell_type": "code",
      "execution_count": null,
      "metadata": {
        "colab": {
          "base_uri": "https://localhost:8080/"
        },
        "id": "FxiunutA8yMQ",
        "outputId": "d7c44d46-33fa-4ec2-f537-a3e575e18f62"
      },
      "outputs": [
        {
          "output_type": "execute_result",
          "data": {
            "text/plain": [
              "0.0"
            ]
          },
          "metadata": {},
          "execution_count": 9
        }
      ],
      "source": [
        "kn = kn.fit(train_input, train_target)\n",
        "kn.score(test_input, test_target)"
      ]
    },
    {
      "cell_type": "markdown",
      "metadata": {
        "id": "T5LfrGFgOgoH"
      },
      "source": [
        "## 넘파이"
      ]
    },
    {
      "cell_type": "code",
      "execution_count": 5,
      "metadata": {
        "id": "kdoec4RBcrZU"
      },
      "outputs": [],
      "source": [
        "import numpy as np"
      ]
    },
    {
      "cell_type": "code",
      "execution_count": null,
      "metadata": {
        "id": "j_NMsjZweD3b"
      },
      "outputs": [],
      "source": [
        "input_arr = np.array(fish_data)\n",
        "target_arr = np.array(fish_target)"
      ]
    },
    {
      "cell_type": "code",
      "execution_count": null,
      "metadata": {
        "colab": {
          "base_uri": "https://localhost:8080/"
        },
        "id": "H8t38rejifbv",
        "outputId": "7a74ad32-ab0b-4908-ac68-fac04c090317"
      },
      "outputs": [
        {
          "output_type": "stream",
          "name": "stdout",
          "text": [
            "[[  25.4  242. ]\n",
            " [  26.3  290. ]\n",
            " [  26.5  340. ]\n",
            " [  29.   363. ]\n",
            " [  29.   430. ]\n",
            " [  29.7  450. ]\n",
            " [  29.7  500. ]\n",
            " [  30.   390. ]\n",
            " [  30.   450. ]\n",
            " [  30.7  500. ]\n",
            " [  31.   475. ]\n",
            " [  31.   500. ]\n",
            " [  31.5  500. ]\n",
            " [  32.   340. ]\n",
            " [  32.   600. ]\n",
            " [  32.   600. ]\n",
            " [  33.   700. ]\n",
            " [  33.   700. ]\n",
            " [  33.5  610. ]\n",
            " [  33.5  650. ]\n",
            " [  34.   575. ]\n",
            " [  34.   685. ]\n",
            " [  34.5  620. ]\n",
            " [  35.   680. ]\n",
            " [  35.   700. ]\n",
            " [  35.   725. ]\n",
            " [  35.   720. ]\n",
            " [  36.   714. ]\n",
            " [  36.   850. ]\n",
            " [  37.  1000. ]\n",
            " [  38.5  920. ]\n",
            " [  38.5  955. ]\n",
            " [  39.5  925. ]\n",
            " [  41.   975. ]\n",
            " [  41.   950. ]\n",
            " [   9.8    6.7]\n",
            " [  10.5    7.5]\n",
            " [  10.6    7. ]\n",
            " [  11.     9.7]\n",
            " [  11.2    9.8]\n",
            " [  11.3    8.7]\n",
            " [  11.8   10. ]\n",
            " [  11.8    9.9]\n",
            " [  12.     9.8]\n",
            " [  12.2   12.2]\n",
            " [  12.4   13.4]\n",
            " [  13.    12.2]\n",
            " [  14.3   19.7]\n",
            " [  15.    19.9]]\n"
          ]
        }
      ],
      "source": [
        "print(input_arr)"
      ]
    },
    {
      "cell_type": "code",
      "execution_count": null,
      "metadata": {
        "colab": {
          "base_uri": "https://localhost:8080/"
        },
        "id": "cPMqX_1qluYe",
        "outputId": "53678676-f33e-4f15-ea53-b9241985be91"
      },
      "outputs": [
        {
          "output_type": "stream",
          "name": "stdout",
          "text": [
            "(49, 2)\n"
          ]
        }
      ],
      "source": [
        "print(input_arr.shape)"
      ]
    },
    {
      "cell_type": "code",
      "execution_count": null,
      "metadata": {
        "id": "8ZKi6avTeKaB"
      },
      "outputs": [],
      "source": [
        "np.random.seed(42)\n",
        "index = np.arange(49)\n",
        "np.random.shuffle(index)"
      ]
    },
    {
      "cell_type": "code",
      "execution_count": null,
      "metadata": {
        "colab": {
          "base_uri": "https://localhost:8080/"
        },
        "id": "Ndz46Y7aoS9h",
        "outputId": "74bc80b3-6b44-4a62-8e30-1637c6adddaa"
      },
      "outputs": [
        {
          "output_type": "stream",
          "name": "stdout",
          "text": [
            "[13 45 47 44 17 27 26 25 31 19 12  4 34  8  3  6 40 41 46 15  9 16 24 33\n",
            " 30  0 43 32  5 29 11 36  1 21  2 37 35 23 39 10 22 18 48 20  7 42 14 28\n",
            " 38]\n"
          ]
        }
      ],
      "source": [
        "print(index)"
      ]
    },
    {
      "cell_type": "code",
      "source": [
        "index[:5]"
      ],
      "metadata": {
        "colab": {
          "base_uri": "https://localhost:8080/"
        },
        "id": "q8bvFZF97NdH",
        "outputId": "e3f899dc-93d2-4111-fe07-e0d03ca61a4d"
      },
      "execution_count": null,
      "outputs": [
        {
          "output_type": "execute_result",
          "data": {
            "text/plain": [
              "array([13, 45, 47, 44, 17])"
            ]
          },
          "metadata": {},
          "execution_count": 16
        }
      ]
    },
    {
      "cell_type": "code",
      "execution_count": null,
      "metadata": {
        "colab": {
          "base_uri": "https://localhost:8080/"
        },
        "id": "m_OYZlI1yicM",
        "outputId": "e2739b4d-58dc-4774-8e03-453a57b46913"
      },
      "outputs": [
        {
          "output_type": "stream",
          "name": "stdout",
          "text": [
            "[[ 26.3 290. ]\n",
            " [ 29.  363. ]]\n"
          ]
        }
      ],
      "source": [
        "print(input_arr[[1,3]])"
      ]
    },
    {
      "cell_type": "code",
      "execution_count": null,
      "metadata": {
        "id": "o_MTsZW3eg96"
      },
      "outputs": [],
      "source": [
        "train_input = input_arr[index[:35]]\n",
        "train_target = target_arr[index[:35]]"
      ]
    },
    {
      "cell_type": "code",
      "execution_count": null,
      "metadata": {
        "colab": {
          "base_uri": "https://localhost:8080/"
        },
        "id": "hmO5KDSlBhtt",
        "outputId": "e701c319-ea83-42c0-f927-382cc0d436c9"
      },
      "outputs": [
        {
          "output_type": "stream",
          "name": "stdout",
          "text": [
            "[ 32. 340.] [ 32. 340.]\n"
          ]
        }
      ],
      "source": [
        "print(input_arr[13], train_input[0])"
      ]
    },
    {
      "cell_type": "code",
      "execution_count": null,
      "metadata": {
        "id": "NUNTa8G9gqw2"
      },
      "outputs": [],
      "source": [
        "test_input = input_arr[index[35:]]\n",
        "test_target = target_arr[index[35:]]"
      ]
    },
    {
      "cell_type": "code",
      "execution_count": 47,
      "metadata": {
        "colab": {
          "base_uri": "https://localhost:8080/",
          "height": 279
        },
        "id": "gbnl1bpoiR0x",
        "outputId": "3a53c837-6b2d-43a6-d487-62a97d7a913b"
      },
      "outputs": [
        {
          "output_type": "display_data",
          "data": {
            "image/png": "[encoded data removed]",
            "text/plain": [
              "<Figure size 432x288 with 1 Axes>"
            ]
          },
          "metadata": {
            "needs_background": "light"
          }
        }
      ],
      "source": [
        "import matplotlib.pyplot as plt\n",
        "\n",
        "plt.scatter(train_input[:, 0], train_input[:, 1])\n",
        "plt.scatter(test_input[:, 0], test_input[:, 1])\n",
        "plt.xlabel('length')\n",
        "plt.ylabel('weight')\n",
        "plt.show()"
      ]
    },
    {
      "cell_type": "markdown",
      "metadata": {
        "id": "t-R4_SeKOgoU"
      },
      "source": [
        "## 두 번째 머신러닝 프로그램"
      ]
    },
    {
      "cell_type": "code",
      "execution_count": null,
      "metadata": {
        "id": "RpiXncTRfY7i"
      },
      "outputs": [],
      "source": [
        "kn = kn.fit(train_input, train_target)"
      ]
    },
    {
      "cell_type": "code",
      "execution_count": null,
      "metadata": {
        "colab": {
          "base_uri": "https://localhost:8080/"
        },
        "id": "Stdtp3RvhImd",
        "outputId": "d0a47531-cec6-4dcc-d573-dc69e79dca15"
      },
      "outputs": [
        {
          "output_type": "execute_result",
          "data": {
            "text/plain": [
              "1.0"
            ]
          },
          "metadata": {},
          "execution_count": 23
        }
      ],
      "source": [
        "kn.score(test_input, test_target)"
      ]
    },
    {
      "cell_type": "code",
      "execution_count": null,
      "metadata": {
        "colab": {
          "base_uri": "https://localhost:8080/"
        },
        "id": "Od3gLmcJihAe",
        "outputId": "c5bdb504-0810-4988-e18a-ed849ff3e182"
      },
      "outputs": [
        {
          "output_type": "execute_result",
          "data": {
            "text/plain": [
              "array([0, 0, 1, 0, 1, 1, 1, 0, 1, 1, 0, 1, 1, 0])"
            ]
          },
          "metadata": {},
          "execution_count": 24
        }
      ],
      "source": [
        "kn.predict(test_input)"
      ]
    },
    {
      "cell_type": "code",
      "execution_count": null,
      "metadata": {
        "colab": {
          "base_uri": "https://localhost:8080/"
        },
        "id": "Z-iCt9zHilaa",
        "outputId": "d8f83bf6-50eb-489b-c2ec-2f96afb9e2d1",
        "scrolled": true
      },
      "outputs": [
        {
          "output_type": "execute_result",
          "data": {
            "text/plain": [
              "array([0, 0, 1, 0, 1, 1, 1, 0, 1, 1, 0, 1, 1, 0])"
            ]
          },
          "metadata": {},
          "execution_count": 25
        }
      ],
      "source": [
        "test_target"
      ]
    },
    {
      "cell_type": "markdown",
      "source": [
        "배열 스라이싱"
      ],
      "metadata": {
        "id": "CMthxh9s_50l"
      }
    },
    {
      "cell_type": "code",
      "source": [
        "a = np.array([1,2,3,4])\n",
        "b = a[[3, 2, 1,0]]\n",
        "print('a: {} ->  b: {}'.format(a, b))\n",
        "c = [3 ,1, 2, ]\n",
        "b= a[c]\n",
        "print('a: {} ->  b: {}'.format(a, b))\n",
        "d = np.array([2, 2, 3, 0, 0, 3, 1, 1])\n",
        "b= a[d]\n",
        "print('a: {} ->  b: {}'.format(a, b))"
      ],
      "metadata": {
        "colab": {
          "base_uri": "https://localhost:8080/"
        },
        "id": "XQLwYcHs-Y2-",
        "outputId": "defdc5d6-ecca-4254-d18b-d435da585438"
      },
      "execution_count": null,
      "outputs": [
        {
          "output_type": "stream",
          "name": "stdout",
          "text": [
            "a: [1 2 3 4] ->  b: [4 3 2 1]\n",
            "a: [1 2 3 4] ->  b: [4 2 3]\n",
            "a: [1 2 3 4] ->  b: [3 3 4 1 1 4 2 2]\n"
          ]
        }
      ]
    },
    {
      "cell_type": "markdown",
      "source": [
        "### 5강 내용"
      ],
      "metadata": {
        "id": "mVycxdCfsgrv"
      }
    },
    {
      "cell_type": "code",
      "source": [
        "fish_data = np.column_stack((fish_length, fish_weight))"
      ],
      "metadata": {
        "id": "MKyy9zdqh8aF"
      },
      "execution_count": 10,
      "outputs": []
    },
    {
      "cell_type": "code",
      "source": [
        "fish_target = np.concatenate((np.ones(35), np.zeros(14)))"
      ],
      "metadata": {
        "id": "LD4LGGiBiQs9"
      },
      "execution_count": 13,
      "outputs": []
    },
    {
      "cell_type": "code",
      "source": [
        "fish = np.column_stack((fish_data, fish_target))"
      ],
      "metadata": {
        "id": "yvhRhyBUiPYE"
      },
      "execution_count": 14,
      "outputs": []
    },
    {
      "cell_type": "code",
      "source": [
        "fish_data.shape, fish_target.shape"
      ],
      "metadata": {
        "id": "fae1iWXviOW8",
        "outputId": "b1c38e6e-2b10-459f-f10a-9177f5e7edf6",
        "colab": {
          "base_uri": "https://localhost:8080/"
        }
      },
      "execution_count": 16,
      "outputs": [
        {
          "output_type": "execute_result",
          "data": {
            "text/plain": [
              "((49, 2), (49,))"
            ]
          },
          "metadata": {},
          "execution_count": 16
        }
      ]
    },
    {
      "cell_type": "code",
      "source": [
        "from sklearn.neighbors import KNeighborsClassifier\n",
        "from sklearn.model_selection import train_test_split"
      ],
      "metadata": {
        "id": "Mx17gspDiMGd"
      },
      "execution_count": 18,
      "outputs": []
    },
    {
      "cell_type": "code",
      "source": [
        "train_input, test_input, train_target, test_target = train_test_split(fish_data, fish_target, stratify=fish_target, random_state=42)"
      ],
      "metadata": {
        "id": "nOUlfwpNsptw"
      },
      "execution_count": 20,
      "outputs": []
    },
    {
      "cell_type": "code",
      "source": [
        "kn = KNeighborsClassifier()\n",
        "kn.fit(train_input, train_target)\n",
        "kn.score(test_input, test_target)"
      ],
      "metadata": {
        "id": "6LUFWqZktJ6w",
        "outputId": "173dc187-bb1a-4be8-bbca-d42e6bf5449b",
        "colab": {
          "base_uri": "https://localhost:8080/"
        }
      },
      "execution_count": 21,
      "outputs": [
        {
          "output_type": "execute_result",
          "data": {
            "text/plain": [
              "1.0"
            ]
          },
          "metadata": {},
          "execution_count": 21
        }
      ]
    },
    {
      "cell_type": "code",
      "source": [
        "print(kn.predict([[25, 150]]))"
      ],
      "metadata": {
        "id": "miNwjoUhtdIH",
        "outputId": "068d1432-bbf1-47e4-cc78-5936c562c4c7",
        "colab": {
          "base_uri": "https://localhost:8080/"
        }
      },
      "execution_count": 24,
      "outputs": [
        {
          "output_type": "stream",
          "name": "stdout",
          "text": [
            "[0.]\n"
          ]
        }
      ]
    },
    {
      "cell_type": "code",
      "source": [
        "t_data = [25, 150]\n",
        "if kn.predict([t_data])[0] == 1:\n",
        "  print('도미입니다.')\n",
        "else:\n",
        "  print(\"방어입니다\")"
      ],
      "metadata": {
        "id": "q3lhtNgZx66k",
        "outputId": "de53415c-e6e2-45d5-ade1-275b244ef7c6",
        "colab": {
          "base_uri": "https://localhost:8080/"
        }
      },
      "execution_count": 42,
      "outputs": [
        {
          "output_type": "stream",
          "name": "stdout",
          "text": [
            "방어입니다\n"
          ]
        }
      ]
    },
    {
      "cell_type": "markdown",
      "source": [
        "방어라고 나오지만 그래프 위치로 보면 도미가 맞는 것 같은데...<br>\n",
        "그래서 가장 가까운 점들을 확인하기 위하여 .kneighbors method 이용하여 추출"
      ],
      "metadata": {
        "id": "03lkTJaJypyF"
      }
    },
    {
      "cell_type": "code",
      "source": [
        "distance, index = kn.kneighbors([[25, 150]]) # 거리와 index 추출"
      ],
      "metadata": {
        "id": "ryUFjH7ptiZm"
      },
      "execution_count": 43,
      "outputs": []
    },
    {
      "cell_type": "code",
      "source": [
        "plt.scatter(train_input[:,0], train_input[:, 1])\n",
        "plt.scatter(test_input[:,0], test_input[:, 1])\n",
        "plt.scatter(25, 150, marker='*', s=50, c='red')\n",
        "plt.scatter(train_input[index, 0], train_input[index, 1], marker='D', color='black')\n",
        "plt.xlabel('length')\n",
        "plt.ylabel('weight')\n",
        "plt.grid()\n",
        "plt.title('Scatter')"
      ],
      "metadata": {
        "id": "BUD5n76RuVzf",
        "outputId": "710352ea-81bf-4e4f-fe2f-66bc28a3ea74",
        "colab": {
          "base_uri": "https://localhost:8080/",
          "height": 312
        }
      },
      "execution_count": 48,
      "outputs": [
        {
          "output_type": "execute_result",
          "data": {
            "text/plain": [
              "Text(0.5, 1.0, 'Scatter')"
            ]
          },
          "metadata": {},
          "execution_count": 48
        },
        {
          "output_type": "display_data",
          "data": {
            "image/png": "[encoded data removed]",
            "text/plain": [
              "<Figure size 432x288 with 1 Axes>"
            ]
          },
          "metadata": {
            "needs_background": "light"
          }
        }
      ]
    },
    {
      "cell_type": "markdown",
      "source": [
        "점들이 가까운 곳이 아닌데, 가까운 것으로 계산된 이유는? <br>\n",
        "<span style='color:red'> x, y축 스케일이 틀리기 때문 </span> <br>\n",
        "스케일을 동일하게 해서 그려보면,"
      ],
      "metadata": {
        "id": "xn7EMWA-0k_k"
      }
    },
    {
      "cell_type": "code",
      "source": [
        "plt.scatter(train_input[:,0], train_input[:, 1])\n",
        "plt.scatter(25, 150, marker='*', s=50, c='red')\n",
        "plt.scatter(train_input[index, 0], train_input[index, 1], marker='D', color='black')\n",
        "plt.xlim(0-10, 1000+10)\n",
        "plt.ylim(0-10, 1000+10)\n",
        "plt.xlabel('length')\n",
        "plt.ylabel('weight')\n",
        "plt.grid()\n",
        "plt.title('Scatter')"
      ],
      "metadata": {
        "id": "hOWvaoC_z7Nc",
        "outputId": "f1ddc1ed-da70-4a1b-f200-5a5f922b5b63",
        "colab": {
          "base_uri": "https://localhost:8080/",
          "height": 312
        }
      },
      "execution_count": 49,
      "outputs": [
        {
          "output_type": "execute_result",
          "data": {
            "text/plain": [
              "Text(0.5, 1.0, 'Scatter')"
            ]
          },
          "metadata": {},
          "execution_count": 49
        },
        {
          "output_type": "display_data",
          "data": {
            "image/png": "[encoded data removed]",
            "text/plain": [
              "<Figure size 432x288 with 1 Axes>"
            ]
          },
          "metadata": {
            "needs_background": "light"
          }
        }
      ]
    },
    {
      "cell_type": "markdown",
      "source": [
        "스케일의 영향을 많이 받지만, tree기반 의사결정 구조에서는 영향을 받지 않고 성능도 좋아서 많이 선호하고 있음."
      ],
      "metadata": {
        "id": "U1HebMN-2KCj"
      }
    },
    {
      "cell_type": "code",
      "source": [
        "# Standardization  _ Z-scale\n",
        "mean = np.mean(train_input, axis=0)  # axis 지정하지 않으면 전체 행렬을 기준으로 평균 구함.\n",
        "std = np.std(train_input, axis=0)\n",
        "train_scaled = (train_input - mean) / std  # numpy의 브로드캐스팅 기능 "
      ],
      "metadata": {
        "id": "fpbzT4ry3TLD"
      },
      "execution_count": 55,
      "outputs": []
    },
    {
      "cell_type": "code",
      "source": [
        "plt.scatter(train_scaled[:,0], train_scaled[:, 1])\n",
        "plt.scatter(25, 150, marker='*', s=50, c='red')\n",
        "plt.scatter(train_scaled[index, 0], train_scaled[index, 1], marker='D', color='black')\n",
        "plt.xlabel('length')\n",
        "plt.ylabel('weight')\n",
        "plt.grid()\n",
        "plt.title('Scatter')"
      ],
      "metadata": {
        "id": "D7RsDvZj3w8t",
        "outputId": "199412f3-76a8-48b9-ef82-2a052b6087f2",
        "colab": {
          "base_uri": "https://localhost:8080/",
          "height": 312
        }
      },
      "execution_count": 61,
      "outputs": [
        {
          "output_type": "execute_result",
          "data": {
            "text/plain": [
              "Text(0.5, 1.0, 'Scatter')"
            ]
          },
          "metadata": {},
          "execution_count": 61
        },
        {
          "output_type": "display_data",
          "data": {
            "image/png": "[encoded data removed]",
            "text/plain": [
              "<Figure size 432x288 with 1 Axes>"
            ]
          },
          "metadata": {
            "needs_background": "light"
          }
        }
      ]
    },
    {
      "cell_type": "code",
      "source": [
        "t_data_scaled = (t_data - mean) / std  # 스케일 조정"
      ],
      "metadata": {
        "id": "fgvNYq-56ABb"
      },
      "execution_count": 63,
      "outputs": []
    },
    {
      "cell_type": "code",
      "source": [
        "plt.figure(figsize=(6,6))\n",
        "plt.scatter(train_scaled[:,0], train_scaled[:, 1])\n",
        "plt.scatter(t_data_scaled[0], t_data_scaled[1], marker='*', s=50, c='red')\n",
        "plt.scatter(train_scaled[index, 0], train_scaled[index, 1], marker='D', color='black')\n",
        "plt.xlabel('length')\n",
        "plt.ylabel('weight')\n",
        "plt.grid()\n",
        "plt.title('Scatter')"
      ],
      "metadata": {
        "id": "edyKk07c4Xtz",
        "outputId": "e566427d-2323-4fbf-d97f-6601402d9f3d",
        "colab": {
          "base_uri": "https://localhost:8080/",
          "height": 421
        }
      },
      "execution_count": 67,
      "outputs": [
        {
          "output_type": "execute_result",
          "data": {
            "text/plain": [
              "Text(0.5, 1.0, 'Scatter')"
            ]
          },
          "metadata": {},
          "execution_count": 67
        },
        {
          "output_type": "display_data",
          "data": {
            "image/png": "[encoded data removed]",
            "text/plain": [
              "<Figure size 432x432 with 1 Axes>"
            ]
          },
          "metadata": {
            "needs_background": "light"
          }
        }
      ]
    },
    {
      "cell_type": "code",
      "source": [
        "test_scaled = (test_input - mean) / std"
      ],
      "metadata": {
        "id": "-38phtqt6UOi"
      },
      "execution_count": 68,
      "outputs": []
    },
    {
      "cell_type": "code",
      "source": [
        "kn.fit(train_scaled, train_target)\n",
        "kn.score(test_scaled, test_target)"
      ],
      "metadata": {
        "id": "zC45gM9w7rxS",
        "outputId": "4febc932-b579-4384-c998-11c748cc014d",
        "colab": {
          "base_uri": "https://localhost:8080/"
        }
      },
      "execution_count": 69,
      "outputs": [
        {
          "output_type": "execute_result",
          "data": {
            "text/plain": [
              "1.0"
            ]
          },
          "metadata": {},
          "execution_count": 69
        }
      ]
    },
    {
      "cell_type": "code",
      "source": [
        "kn.predict([t_data_scaled])"
      ],
      "metadata": {
        "id": "xA3oYLEW75lS",
        "outputId": "2c09c07e-5861-4c19-9b7f-438d7de276eb",
        "colab": {
          "base_uri": "https://localhost:8080/"
        }
      },
      "execution_count": 70,
      "outputs": [
        {
          "output_type": "execute_result",
          "data": {
            "text/plain": [
              "array([1.])"
            ]
          },
          "metadata": {},
          "execution_count": 70
        }
      ]
    },
    {
      "cell_type": "code",
      "source": [
        "if kn.predict([t_data_scaled])[0] == 1:\n",
        "  print('도미입니다.')\n",
        "else:\n",
        "  print(\"방어입니다\")"
      ],
      "metadata": {
        "id": "KTxpji6i8BOK",
        "outputId": "e561812d-87b9-458e-a511-3f1bf1a8a68e",
        "colab": {
          "base_uri": "https://localhost:8080/"
        }
      },
      "execution_count": 71,
      "outputs": [
        {
          "output_type": "stream",
          "name": "stdout",
          "text": [
            "도미입니다.\n"
          ]
        }
      ]
    },
    {
      "cell_type": "code",
      "source": [
        "distance, index = kn.kneighbors([t_data_scaled], n_neighbors=6) # n_neighbors default = 5"
      ],
      "metadata": {
        "id": "Ij1G_osy8a3J"
      },
      "execution_count": 75,
      "outputs": []
    },
    {
      "cell_type": "code",
      "source": [
        "plt.figure(figsize=(6,6))\n",
        "plt.scatter(train_scaled[:,0], train_scaled[:, 1])\n",
        "plt.scatter(t_data_scaled[0], t_data_scaled[1], marker='*', s=50, c='red')\n",
        "plt.scatter(train_scaled[index, 0], train_scaled[index, 1], marker='D', color='black')\n",
        "plt.xlabel('length')\n",
        "plt.ylabel('weight')\n",
        "plt.grid()\n",
        "plt.title('Scatter')"
      ],
      "metadata": {
        "id": "mWJZEcGK8Sfp",
        "outputId": "7d20be75-3612-4aa4-8fee-851b9474a529",
        "colab": {
          "base_uri": "https://localhost:8080/",
          "height": 421
        }
      },
      "execution_count": 76,
      "outputs": [
        {
          "output_type": "execute_result",
          "data": {
            "text/plain": [
              "Text(0.5, 1.0, 'Scatter')"
            ]
          },
          "metadata": {},
          "execution_count": 76
        },
        {
          "output_type": "display_data",
          "data": {
            "image/png": "[encoded data removed]",
            "text/plain": [
              "<Figure size 432x432 with 1 Axes>"
            ]
          },
          "metadata": {
            "needs_background": "light"
          }
        }
      ]
    },
    {
      "cell_type": "code",
      "source": [
        ""
      ],
      "metadata": {
        "id": "TjInQ9VQ8zGt"
      },
      "execution_count": null,
      "outputs": []
    }
  ],
  "metadata": {
    "colab": {
      "collapsed_sections": [],
      "name": "2-1. 훈련 데이터와 테스트 데이터의 사본",
      "provenance": [],
      "include_colab_link": true
    },
    "kernelspec": {
      "display_name": "Python 3 (ipykernel)",
      "language": "python",
      "name": "python3"
    },
    "language_info": {
      "codemirror_mode": {
        "name": "ipython",
        "version": 3
      },
      "file_extension": ".py",
      "mimetype": "text/x-python",
      "name": "python",
      "nbconvert_exporter": "python",
      "pygments_lexer": "ipython3",
      "version": "3.7.3"
    }
  },
  "nbformat": 4,
  "nbformat_minor": 0
}
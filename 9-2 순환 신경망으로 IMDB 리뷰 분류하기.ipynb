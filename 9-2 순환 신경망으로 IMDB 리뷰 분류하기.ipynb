{
  "cells": [
    {
      "cell_type": "markdown",
      "metadata": {
        "id": "view-in-github",
        "colab_type": "text"
      },
      "source": [
        "<a href=\"https://colab.research.google.com/github/fasthill/ML-DL-study-alone/blob/main/9-2%20%EC%88%9C%ED%99%98%20%EC%8B%A0%EA%B2%BD%EB%A7%9D%EC%9C%BC%EB%A1%9C%20IMDB%20%EB%A6%AC%EB%B7%B0%20%EB%B6%84%EB%A5%98%ED%95%98%EA%B8%B0.ipynb\" target=\"_parent\"><img src=\"https://colab.research.google.com/assets/colab-badge.svg\" alt=\"Open In Colab\"/></a>"
      ]
    },
    {
      "cell_type": "markdown",
      "metadata": {
        "id": "MusV5YYT6kQF"
      },
      "source": [
        "# 순환 신경망으로 IMDB 리뷰 분류하기"
      ]
    },
    {
      "cell_type": "markdown",
      "metadata": {
        "id": "S1A-DDIQ6kQQ"
      },
      "source": [
        "## IMDB 리뷰 데이터셋"
      ]
    },
    {
      "cell_type": "code",
      "source": [
        "import numpy as np\n",
        "import matplotlib.pyplot as plt\n",
        "\n",
        "from sklearn.model_selection import train_test_split\n",
        "from tensorflow.keras.datasets import imdb\n",
        "from tensorflow.keras.preprocessing.sequence import pad_sequences"
      ],
      "metadata": {
        "id": "PMySS24djDRJ"
      },
      "execution_count": 21,
      "outputs": []
    },
    {
      "cell_type": "code",
      "source": [
        "(train_input, train_target), (test_input, test_target) = imdb.load_data(num_words=500)"
      ],
      "metadata": {
        "id": "6UMU5NLhjDUd",
        "outputId": "1a196b4c-1c6d-4894-a531-19efbedd92d5",
        "colab": {
          "base_uri": "https://localhost:8080/"
        }
      },
      "execution_count": 4,
      "outputs": [
        {
          "output_type": "stream",
          "name": "stdout",
          "text": [
            "Downloading data from https://storage.googleapis.com/tensorflow/tf-keras-datasets/imdb.npz\n",
            "17465344/17464789 [==============================] - 0s 0us/step\n",
            "17473536/17464789 [==============================] - 0s 0us/step\n"
          ]
        }
      ]
    },
    {
      "cell_type": "code",
      "source": [
        "print(train_input.shape, test_input.shape)"
      ],
      "metadata": {
        "id": "1abMY7GFlSZy",
        "outputId": "bf25cfe2-3cd5-4768-eb5e-72b7f67fb99f",
        "colab": {
          "base_uri": "https://localhost:8080/"
        }
      },
      "execution_count": 5,
      "outputs": [
        {
          "output_type": "stream",
          "name": "stdout",
          "text": [
            "(25000,) (25000,)\n"
          ]
        }
      ]
    },
    {
      "cell_type": "code",
      "source": [
        "print(train_input[0])"
      ],
      "metadata": {
        "id": "wLHAnHU6lSdT",
        "outputId": "c2cebadc-23d3-4a7b-fbd6-5e0c5f69a2a1",
        "colab": {
          "base_uri": "https://localhost:8080/"
        }
      },
      "execution_count": 6,
      "outputs": [
        {
          "output_type": "stream",
          "name": "stdout",
          "text": [
            "[1, 14, 22, 16, 43, 2, 2, 2, 2, 65, 458, 2, 66, 2, 4, 173, 36, 256, 5, 25, 100, 43, 2, 112, 50, 2, 2, 9, 35, 480, 284, 5, 150, 4, 172, 112, 167, 2, 336, 385, 39, 4, 172, 2, 2, 17, 2, 38, 13, 447, 4, 192, 50, 16, 6, 147, 2, 19, 14, 22, 4, 2, 2, 469, 4, 22, 71, 87, 12, 16, 43, 2, 38, 76, 15, 13, 2, 4, 22, 17, 2, 17, 12, 16, 2, 18, 2, 5, 62, 386, 12, 8, 316, 8, 106, 5, 4, 2, 2, 16, 480, 66, 2, 33, 4, 130, 12, 16, 38, 2, 5, 25, 124, 51, 36, 135, 48, 25, 2, 33, 6, 22, 12, 215, 28, 77, 52, 5, 14, 407, 16, 82, 2, 8, 4, 107, 117, 2, 15, 256, 4, 2, 7, 2, 5, 2, 36, 71, 43, 2, 476, 26, 400, 317, 46, 7, 4, 2, 2, 13, 104, 88, 4, 381, 15, 297, 98, 32, 2, 56, 26, 141, 6, 194, 2, 18, 4, 226, 22, 21, 134, 476, 26, 480, 5, 144, 30, 2, 18, 51, 36, 28, 224, 92, 25, 104, 4, 226, 65, 16, 38, 2, 88, 12, 16, 283, 5, 16, 2, 113, 103, 32, 15, 16, 2, 19, 178, 32]\n"
          ]
        }
      ]
    },
    {
      "cell_type": "markdown",
      "source": [
        "1: 샘플 문장의 시작 부분을 나타낼 때 사용, 2: 선택된 500개 단어에 포함되어 있지 않은 단어"
      ],
      "metadata": {
        "id": "kOClD572mYEO"
      }
    },
    {
      "cell_type": "markdown",
      "source": [
        "train_input: [ [리뷰1], [리뷰2], [리뷰3] ] numpy 배열로 원소는 리스트로 구성됨."
      ],
      "metadata": {
        "id": "rJuBo9LAnH9V"
      }
    },
    {
      "cell_type": "code",
      "source": [
        "print(train_target[:20])  # 긍정일 때 :1, 부정일 때: 0"
      ],
      "metadata": {
        "id": "6qICL4UwlSiS",
        "outputId": "c897b432-c4f7-4ec3-f1ae-dc12e869113d",
        "colab": {
          "base_uri": "https://localhost:8080/"
        }
      },
      "execution_count": 7,
      "outputs": [
        {
          "output_type": "stream",
          "name": "stdout",
          "text": [
            "[1 0 0 1 0 0 1 0 1 0 1 0 0 0 0 0 1 1 0 1]\n"
          ]
        }
      ]
    },
    {
      "cell_type": "markdown",
      "source": [
        "### 훈련 세트 준비"
      ],
      "metadata": {
        "id": "RtzDKg4FobUo"
      }
    },
    {
      "cell_type": "code",
      "source": [
        "train_input, val_input, train_target, val_target = train_test_split(train_input, train_target, test_size=0.2, random_state=42)"
      ],
      "metadata": {
        "id": "X9WpCRA-lSlc"
      },
      "execution_count": 9,
      "outputs": []
    },
    {
      "cell_type": "markdown",
      "source": [
        "train-input의 리스트로 구성된 각 원소의 길이를 리스트로 구하고, array로 구성"
      ],
      "metadata": {
        "id": "HQylzqd0ouy7"
      }
    },
    {
      "cell_type": "code",
      "source": [
        "train_input.shape"
      ],
      "metadata": {
        "id": "t4Zrj_2Zn3Xu",
        "outputId": "b62687f7-3820-4924-e16d-25346105c806",
        "colab": {
          "base_uri": "https://localhost:8080/"
        }
      },
      "execution_count": 11,
      "outputs": [
        {
          "output_type": "execute_result",
          "data": {
            "text/plain": [
              "(20000,)"
            ]
          },
          "metadata": {},
          "execution_count": 11
        }
      ]
    },
    {
      "cell_type": "code",
      "source": [
        "lengths = np.array([len(x) for x in train_input])"
      ],
      "metadata": {
        "id": "8j1ie79eo8_g"
      },
      "execution_count": 12,
      "outputs": []
    },
    {
      "cell_type": "code",
      "source": [
        "lengths.shape, lengths[:20]"
      ],
      "metadata": {
        "id": "Fw081F5En3bM",
        "outputId": "ea7f73a5-d2d2-4d52-bf1f-9d6cfba6a3dc",
        "colab": {
          "base_uri": "https://localhost:8080/"
        }
      },
      "execution_count": 15,
      "outputs": [
        {
          "output_type": "execute_result",
          "data": {
            "text/plain": [
              "((20000,),\n",
              " array([259, 520, 290, 109, 559,  96, 130, 935, 383, 716, 195,  55, 122,\n",
              "        142, 104, 109, 179, 777, 368, 311]))"
            ]
          },
          "metadata": {},
          "execution_count": 15
        }
      ]
    },
    {
      "cell_type": "code",
      "source": [
        "print(np.mean(lengths), np.median(lengths))"
      ],
      "metadata": {
        "id": "SCrDK1dZn3eR",
        "outputId": "f46b3421-ff97-4d84-ca1f-75bad521070c",
        "colab": {
          "base_uri": "https://localhost:8080/"
        }
      },
      "execution_count": 17,
      "outputs": [
        {
          "output_type": "stream",
          "name": "stdout",
          "text": [
            "239.00925 178.0\n"
          ]
        }
      ]
    },
    {
      "cell_type": "code",
      "source": [
        "plt.hist(lengths)\n",
        "plt.xlabel('length')\n",
        "plt.ylabel('frequency')\n",
        "plt.show()"
      ],
      "metadata": {
        "id": "pIcPGwRFqFEK",
        "outputId": "d45a8547-b6e9-46c9-ab74-23c1137fc810",
        "colab": {
          "base_uri": "https://localhost:8080/",
          "height": 278
        }
      },
      "execution_count": 20,
      "outputs": [
        {
          "output_type": "display_data",
          "data": {
            "image/png": "[encoded data removed]",
            "text/plain": [
              "<Figure size 432x288 with 1 Axes>"
            ]
          },
          "metadata": {
            "needs_background": "light"
          }
        }
      ]
    },
    {
      "cell_type": "markdown",
      "source": [
        "### Sequence Padding"
      ],
      "metadata": {
        "id": "_n4yHsEKq_4f"
      }
    },
    {
      "cell_type": "code",
      "source": [
        "train_seq = pad_sequences(train_input, maxlen=100) # 100개의 토큰 크기로 제한, 적으면 0으로 패딩, 크면 잘라내기"
      ],
      "metadata": {
        "id": "cYHdOeZnqFHl"
      },
      "execution_count": 22,
      "outputs": []
    },
    {
      "cell_type": "code",
      "source": [
        "print(train_seq.shape)"
      ],
      "metadata": {
        "id": "20ZWe-Hgq_bd",
        "outputId": "6640669b-2e33-4881-ce28-7c8f7aed7091",
        "colab": {
          "base_uri": "https://localhost:8080/"
        }
      },
      "execution_count": 23,
      "outputs": [
        {
          "output_type": "stream",
          "name": "stdout",
          "text": [
            "(20000, 100)\n"
          ]
        }
      ]
    },
    {
      "cell_type": "code",
      "source": [
        "train_seq"
      ],
      "metadata": {
        "id": "ikuaf4qPq_e5",
        "outputId": "5d3b3f49-c94e-4430-c33e-dd03424e03ab",
        "colab": {
          "base_uri": "https://localhost:8080/"
        }
      },
      "execution_count": 24,
      "outputs": [
        {
          "output_type": "execute_result",
          "data": {
            "text/plain": [
              "array([[ 10,   4,  20, ...,  10, 470, 158],\n",
              "       [206,   2,  26, ...,   6,   2,   2],\n",
              "       [  2,   7,   2, ...,   2,   2,  12],\n",
              "       ...,\n",
              "       [  2,  37, 299, ...,   7,  14,   2],\n",
              "       [  0,   0,   0, ...,  25, 170,   2],\n",
              "       [  0,   0,   0, ...,  25, 194,   2]], dtype=int32)"
            ]
          },
          "metadata": {},
          "execution_count": 24
        }
      ]
    },
    {
      "cell_type": "code",
      "source": [
        ""
      ],
      "metadata": {
        "id": "MoxB4QdqrjxQ"
      },
      "execution_count": null,
      "outputs": []
    },
    {
      "cell_type": "code",
      "source": [
        ""
      ],
      "metadata": {
        "id": "WOYOYFSvrj4E"
      },
      "execution_count": null,
      "outputs": []
    },
    {
      "cell_type": "code",
      "source": [
        ""
      ],
      "metadata": {
        "id": "-jL0qbU2rj7S"
      },
      "execution_count": null,
      "outputs": []
    },
    {
      "cell_type": "code",
      "source": [
        "lengths.median()"
      ],
      "metadata": {
        "id": "xFbo-Ckkn3hi",
        "outputId": "80c8b80e-8a3c-4a63-ba3c-115cbd3f302a",
        "colab": {
          "base_uri": "https://localhost:8080/",
          "height": 174
        }
      },
      "execution_count": 18,
      "outputs": [
        {
          "output_type": "error",
          "ename": "AttributeError",
          "evalue": "ignored",
          "traceback": [
            "\u001b[0;31m---------------------------------------------------------------------------\u001b[0m",
            "\u001b[0;31mAttributeError\u001b[0m                            Traceback (most recent call last)",
            "\u001b[0;32m<ipython-input-18-0d894420378c>\u001b[0m in \u001b[0;36m<module>\u001b[0;34m()\u001b[0m\n\u001b[0;32m----> 1\u001b[0;31m \u001b[0mlengths\u001b[0m\u001b[0;34m.\u001b[0m\u001b[0mmedian\u001b[0m\u001b[0;34m(\u001b[0m\u001b[0;34m)\u001b[0m\u001b[0;34m\u001b[0m\u001b[0;34m\u001b[0m\u001b[0m\n\u001b[0m",
            "\u001b[0;31mAttributeError\u001b[0m: 'numpy.ndarray' object has no attribute 'median'"
          ]
        }
      ]
    },
    {
      "cell_type": "code",
      "source": [
        ""
      ],
      "metadata": {
        "id": "7EubAS7SlSoJ"
      },
      "execution_count": null,
      "outputs": []
    },
    {
      "cell_type": "code",
      "execution_count": null,
      "metadata": {
        "execution": {
          "iopub.execute_input": "2022-01-08T05:20:23.566702Z",
          "iopub.status.busy": "2022-01-08T05:20:23.565530Z",
          "iopub.status.idle": "2022-01-08T05:20:29.491800Z",
          "shell.execute_reply": "2022-01-08T05:20:29.492380Z"
        },
        "id": "sZoZm1ZO6kQR"
      },
      "outputs": [],
      "source": [
        "from tensorflow.keras.datasets import imdb\n",
        "\n",
        "(train_input, train_target), (test_input, test_target) = imdb.load_data(\n",
        "    num_words=500)"
      ]
    },
    {
      "cell_type": "code",
      "execution_count": null,
      "metadata": {
        "colab": {
          "base_uri": "https://localhost:8080/"
        },
        "execution": {
          "iopub.execute_input": "2022-01-08T05:20:29.498778Z",
          "iopub.status.busy": "2022-01-08T05:20:29.497993Z",
          "iopub.status.idle": "2022-01-08T05:20:29.501675Z",
          "shell.execute_reply": "2022-01-08T05:20:29.502173Z"
        },
        "id": "HTFjz6k06kQR",
        "outputId": "1d4929d7-0a93-4bb8-cf03-682ada3d6ac9"
      },
      "outputs": [
        {
          "name": "stdout",
          "output_type": "stream",
          "text": [
            "(25000,) (25000,)\n"
          ]
        }
      ],
      "source": [
        "print(train_input.shape, test_input.shape)"
      ]
    },
    {
      "cell_type": "code",
      "execution_count": null,
      "metadata": {
        "colab": {
          "base_uri": "https://localhost:8080/"
        },
        "execution": {
          "iopub.execute_input": "2022-01-08T05:20:29.507450Z",
          "iopub.status.busy": "2022-01-08T05:20:29.506813Z",
          "iopub.status.idle": "2022-01-08T05:20:29.509552Z",
          "shell.execute_reply": "2022-01-08T05:20:29.508923Z"
        },
        "id": "4jMLURzw6kQS",
        "outputId": "ffb635f3-a3bd-42ed-b6da-fecaa0ede408"
      },
      "outputs": [
        {
          "name": "stdout",
          "output_type": "stream",
          "text": [
            "218\n"
          ]
        }
      ],
      "source": [
        "print(len(train_input[0]))"
      ]
    },
    {
      "cell_type": "code",
      "execution_count": null,
      "metadata": {
        "colab": {
          "base_uri": "https://localhost:8080/"
        },
        "execution": {
          "iopub.execute_input": "2022-01-08T05:20:29.514339Z",
          "iopub.status.busy": "2022-01-08T05:20:29.513627Z",
          "iopub.status.idle": "2022-01-08T05:20:29.516831Z",
          "shell.execute_reply": "2022-01-08T05:20:29.516284Z"
        },
        "id": "xdO834PL6kQT",
        "outputId": "28ba2580-b6b8-49b0-e07e-4df8026a5626"
      },
      "outputs": [
        {
          "name": "stdout",
          "output_type": "stream",
          "text": [
            "189\n"
          ]
        }
      ],
      "source": [
        "print(len(train_input[1]))"
      ]
    },
    {
      "cell_type": "code",
      "execution_count": null,
      "metadata": {
        "colab": {
          "base_uri": "https://localhost:8080/"
        },
        "execution": {
          "iopub.execute_input": "2022-01-08T05:20:29.520851Z",
          "iopub.status.busy": "2022-01-08T05:20:29.519321Z",
          "iopub.status.idle": "2022-01-08T05:20:29.523542Z",
          "shell.execute_reply": "2022-01-08T05:20:29.523955Z"
        },
        "id": "QNuzGQ2c6kQT",
        "outputId": "88f7dd8c-188e-4ad9-edb2-f4b59c498d40"
      },
      "outputs": [
        {
          "name": "stdout",
          "output_type": "stream",
          "text": [
            "[1, 14, 22, 16, 43, 2, 2, 2, 2, 65, 458, 2, 66, 2, 4, 173, 36, 256, 5, 25, 100, 43, 2, 112, 50, 2, 2, 9, 35, 480, 284, 5, 150, 4, 172, 112, 167, 2, 336, 385, 39, 4, 172, 2, 2, 17, 2, 38, 13, 447, 4, 192, 50, 16, 6, 147, 2, 19, 14, 22, 4, 2, 2, 469, 4, 22, 71, 87, 12, 16, 43, 2, 38, 76, 15, 13, 2, 4, 22, 17, 2, 17, 12, 16, 2, 18, 2, 5, 62, 386, 12, 8, 316, 8, 106, 5, 4, 2, 2, 16, 480, 66, 2, 33, 4, 130, 12, 16, 38, 2, 5, 25, 124, 51, 36, 135, 48, 25, 2, 33, 6, 22, 12, 215, 28, 77, 52, 5, 14, 407, 16, 82, 2, 8, 4, 107, 117, 2, 15, 256, 4, 2, 7, 2, 5, 2, 36, 71, 43, 2, 476, 26, 400, 317, 46, 7, 4, 2, 2, 13, 104, 88, 4, 381, 15, 297, 98, 32, 2, 56, 26, 141, 6, 194, 2, 18, 4, 226, 22, 21, 134, 476, 26, 480, 5, 144, 30, 2, 18, 51, 36, 28, 224, 92, 25, 104, 4, 226, 65, 16, 38, 2, 88, 12, 16, 283, 5, 16, 2, 113, 103, 32, 15, 16, 2, 19, 178, 32]\n"
          ]
        }
      ],
      "source": [
        "print(train_input[0])"
      ]
    },
    {
      "cell_type": "code",
      "execution_count": null,
      "metadata": {
        "colab": {
          "base_uri": "https://localhost:8080/"
        },
        "execution": {
          "iopub.execute_input": "2022-01-08T05:20:29.528303Z",
          "iopub.status.busy": "2022-01-08T05:20:29.527701Z",
          "iopub.status.idle": "2022-01-08T05:20:29.530858Z",
          "shell.execute_reply": "2022-01-08T05:20:29.530314Z"
        },
        "id": "In8Qzltz6kQT",
        "outputId": "78b5ddc6-d634-4755-9435-25cc8f2c9462"
      },
      "outputs": [
        {
          "name": "stdout",
          "output_type": "stream",
          "text": [
            "[1 0 0 1 0 0 1 0 1 0 1 0 0 0 0 0 1 1 0 1]\n"
          ]
        }
      ],
      "source": [
        "print(train_target[:20])"
      ]
    },
    {
      "cell_type": "code",
      "execution_count": null,
      "metadata": {
        "execution": {
          "iopub.execute_input": "2022-01-08T05:20:29.535982Z",
          "iopub.status.busy": "2022-01-08T05:20:29.535314Z",
          "iopub.status.idle": "2022-01-08T05:20:30.003976Z",
          "shell.execute_reply": "2022-01-08T05:20:30.003182Z"
        },
        "id": "0-zjNgBw6kQU"
      },
      "outputs": [],
      "source": [
        "from sklearn.model_selection import train_test_split\n",
        "\n",
        "train_input, val_input, train_target, val_target = train_test_split(\n",
        "    train_input, train_target, test_size=0.2, random_state=42)"
      ]
    },
    {
      "cell_type": "code",
      "execution_count": null,
      "metadata": {
        "execution": {
          "iopub.execute_input": "2022-01-08T05:20:30.014693Z",
          "iopub.status.busy": "2022-01-08T05:20:30.013910Z",
          "iopub.status.idle": "2022-01-08T05:20:30.017935Z",
          "shell.execute_reply": "2022-01-08T05:20:30.017351Z"
        },
        "id": "sRVvgntx6kQU"
      },
      "outputs": [],
      "source": [
        "import numpy as np\n",
        "\n",
        "lengths = np.array([len(x) for x in train_input])"
      ]
    },
    {
      "cell_type": "code",
      "execution_count": null,
      "metadata": {
        "colab": {
          "base_uri": "https://localhost:8080/"
        },
        "execution": {
          "iopub.execute_input": "2022-01-08T05:20:30.023039Z",
          "iopub.status.busy": "2022-01-08T05:20:30.022404Z",
          "iopub.status.idle": "2022-01-08T05:20:30.025564Z",
          "shell.execute_reply": "2022-01-08T05:20:30.026023Z"
        },
        "id": "p76m_61w6kQU",
        "outputId": "04b533f6-45ef-4514-d87d-b484a89afde6"
      },
      "outputs": [
        {
          "name": "stdout",
          "output_type": "stream",
          "text": [
            "239.00925 178.0\n"
          ]
        }
      ],
      "source": [
        "print(np.mean(lengths), np.median(lengths))"
      ]
    },
    {
      "cell_type": "code",
      "execution_count": null,
      "metadata": {
        "colab": {
          "base_uri": "https://localhost:8080/",
          "height": 279
        },
        "execution": {
          "iopub.execute_input": "2022-01-08T05:20:30.031474Z",
          "iopub.status.busy": "2022-01-08T05:20:30.030669Z",
          "iopub.status.idle": "2022-01-08T05:20:30.732010Z",
          "shell.execute_reply": "2022-01-08T05:20:30.731361Z"
        },
        "id": "TVDrsRYF6kQV",
        "outputId": "2610932c-ac31-480b-8a6c-fd5ac2793a34"
      },
      "outputs": [
        {
          "data": {
            "image/png": "[encoded data removed]",
            "text/plain": [
              "<Figure size 432x288 with 1 Axes>"
            ]
          },
          "metadata": {
            "needs_background": "light"
          },
          "output_type": "display_data"
        }
      ],
      "source": [
        "import matplotlib.pyplot as plt\n",
        "\n",
        "plt.hist(lengths)\n",
        "plt.xlabel('length')\n",
        "plt.ylabel('frequency')\n",
        "plt.show()"
      ]
    },
    {
      "cell_type": "code",
      "execution_count": null,
      "metadata": {
        "execution": {
          "iopub.execute_input": "2022-01-08T05:20:30.741785Z",
          "iopub.status.busy": "2022-01-08T05:20:30.736613Z",
          "iopub.status.idle": "2022-01-08T05:20:30.889977Z",
          "shell.execute_reply": "2022-01-08T05:20:30.890504Z"
        },
        "id": "fbLSFToP6kQV"
      },
      "outputs": [],
      "source": [
        "from tensorflow.keras.preprocessing.sequence import pad_sequences\n",
        "\n",
        "train_seq = pad_sequences(train_input, maxlen=100)"
      ]
    },
    {
      "cell_type": "code",
      "execution_count": null,
      "metadata": {
        "colab": {
          "base_uri": "https://localhost:8080/"
        },
        "execution": {
          "iopub.execute_input": "2022-01-08T05:20:30.895174Z",
          "iopub.status.busy": "2022-01-08T05:20:30.894526Z",
          "iopub.status.idle": "2022-01-08T05:20:30.897720Z",
          "shell.execute_reply": "2022-01-08T05:20:30.897208Z"
        },
        "id": "3c86x0Yj6kQV",
        "outputId": "52d4ff3a-9aa5-4ebd-e086-d9b2d490a29f"
      },
      "outputs": [
        {
          "name": "stdout",
          "output_type": "stream",
          "text": [
            "(20000, 100)\n"
          ]
        }
      ],
      "source": [
        "print(train_seq.shape)"
      ]
    },
    {
      "cell_type": "code",
      "execution_count": null,
      "metadata": {
        "colab": {
          "base_uri": "https://localhost:8080/"
        },
        "execution": {
          "iopub.execute_input": "2022-01-08T05:20:30.902380Z",
          "iopub.status.busy": "2022-01-08T05:20:30.901721Z",
          "iopub.status.idle": "2022-01-08T05:20:30.904481Z",
          "shell.execute_reply": "2022-01-08T05:20:30.904931Z"
        },
        "id": "JuP0QJaU6kQW",
        "outputId": "95e6521e-b200-4733-f5e8-65320ff2a81f"
      },
      "outputs": [
        {
          "name": "stdout",
          "output_type": "stream",
          "text": [
            "[ 10   4  20   9   2 364 352   5  45   6   2   2  33 269   8   2 142   2\n",
            "   5   2  17  73  17 204   5   2  19  55   2   2  92  66 104  14  20  93\n",
            "  76   2 151  33   4  58  12 188   2 151  12 215  69 224 142  73 237   6\n",
            "   2   7   2   2 188   2 103  14  31  10  10 451   7   2   5   2  80  91\n",
            "   2  30   2  34  14  20 151  50  26 131  49   2  84  46  50  37  80  79\n",
            "   6   2  46   7  14  20  10  10 470 158]\n"
          ]
        }
      ],
      "source": [
        "print(train_seq[0])"
      ]
    },
    {
      "cell_type": "code",
      "execution_count": null,
      "metadata": {
        "colab": {
          "base_uri": "https://localhost:8080/"
        },
        "execution": {
          "iopub.execute_input": "2022-01-08T05:20:30.909820Z",
          "iopub.status.busy": "2022-01-08T05:20:30.909091Z",
          "iopub.status.idle": "2022-01-08T05:20:30.911694Z",
          "shell.execute_reply": "2022-01-08T05:20:30.912135Z"
        },
        "id": "6t8kaDji6kQW",
        "outputId": "a9d5ba15-838d-4cac-c23c-18c2fa4b709f"
      },
      "outputs": [
        {
          "name": "stdout",
          "output_type": "stream",
          "text": [
            "[6, 2, 46, 7, 14, 20, 10, 10, 470, 158]\n"
          ]
        }
      ],
      "source": [
        "print(train_input[0][-10:])"
      ]
    },
    {
      "cell_type": "code",
      "execution_count": null,
      "metadata": {
        "colab": {
          "base_uri": "https://localhost:8080/"
        },
        "execution": {
          "iopub.execute_input": "2022-01-08T05:20:30.916735Z",
          "iopub.status.busy": "2022-01-08T05:20:30.916072Z",
          "iopub.status.idle": "2022-01-08T05:20:30.919117Z",
          "shell.execute_reply": "2022-01-08T05:20:30.918545Z"
        },
        "id": "Emmoztwa6kQX",
        "outputId": "d72b6139-e876-41a1-b331-313d3199548a",
        "scrolled": true
      },
      "outputs": [
        {
          "name": "stdout",
          "output_type": "stream",
          "text": [
            "[  0   0   0   0   1   2 195  19  49   2   2 190   4   2 352   2 183  10\n",
            "  10  13  82  79   4   2  36  71 269   8   2  25  19  49   7   4   2   2\n",
            "   2   2   2  10  10  48  25  40   2  11   2   2  40   2   2   5   4   2\n",
            "   2  95  14 238  56 129   2  10  10  21   2  94 364 352   2   2  11 190\n",
            "  24 484   2   7  94 205 405  10  10  87   2  34  49   2   7   2   2   2\n",
            "   2   2 290   2  46  48  64  18   4   2]\n"
          ]
        }
      ],
      "source": [
        "print(train_seq[5])"
      ]
    },
    {
      "cell_type": "code",
      "execution_count": null,
      "metadata": {
        "execution": {
          "iopub.execute_input": "2022-01-08T05:20:30.924446Z",
          "iopub.status.busy": "2022-01-08T05:20:30.923826Z",
          "iopub.status.idle": "2022-01-08T05:20:30.964050Z",
          "shell.execute_reply": "2022-01-08T05:20:30.964515Z"
        },
        "id": "ZeFmsjOd6kQX"
      },
      "outputs": [],
      "source": [
        "val_seq = pad_sequences(val_input, maxlen=100)"
      ]
    },
    {
      "cell_type": "markdown",
      "metadata": {
        "id": "9xab0nu_6kQX"
      },
      "source": [
        "## 순환 신경망 만들기"
      ]
    },
    {
      "cell_type": "code",
      "execution_count": null,
      "metadata": {
        "execution": {
          "iopub.execute_input": "2022-01-08T05:20:30.971560Z",
          "iopub.status.busy": "2022-01-08T05:20:30.969365Z",
          "iopub.status.idle": "2022-01-08T05:20:31.069269Z",
          "shell.execute_reply": "2022-01-08T05:20:31.069797Z"
        },
        "id": "45BtHGKX6kQX",
        "outputId": "a05a76e6-bdb3-45ff-a132-0fd16ceee60c"
      },
      "outputs": [
        {
          "name": "stderr",
          "output_type": "stream",
          "text": [
            "2022-01-08 05:20:30.972213: I tensorflow/core/platform/cpu_feature_guard.cc:151] This TensorFlow binary is optimized with oneAPI Deep Neural Network Library (oneDNN) to use the following CPU instructions in performance-critical operations:  AVX2 FMA\n",
            "To enable them in other operations, rebuild TensorFlow with the appropriate compiler flags.\n"
          ]
        }
      ],
      "source": [
        "from tensorflow import keras\n",
        "\n",
        "model = keras.Sequential()\n",
        "\n",
        "model.add(keras.layers.SimpleRNN(8, input_shape=(100, 500)))\n",
        "model.add(keras.layers.Dense(1, activation='sigmoid'))"
      ]
    },
    {
      "cell_type": "code",
      "execution_count": null,
      "metadata": {
        "execution": {
          "iopub.execute_input": "2022-01-08T05:20:31.074464Z",
          "iopub.status.busy": "2022-01-08T05:20:31.073755Z",
          "iopub.status.idle": "2022-01-08T05:20:31.801381Z",
          "shell.execute_reply": "2022-01-08T05:20:31.800237Z"
        },
        "id": "oXIWyOuw6kQY"
      },
      "outputs": [],
      "source": [
        "train_oh = keras.utils.to_categorical(train_seq)"
      ]
    },
    {
      "cell_type": "code",
      "execution_count": null,
      "metadata": {
        "colab": {
          "base_uri": "https://localhost:8080/"
        },
        "execution": {
          "iopub.execute_input": "2022-01-08T05:20:31.806214Z",
          "iopub.status.busy": "2022-01-08T05:20:31.805511Z",
          "iopub.status.idle": "2022-01-08T05:20:31.808892Z",
          "shell.execute_reply": "2022-01-08T05:20:31.808347Z"
        },
        "id": "VD94WiRT6kQY",
        "outputId": "d2074cc9-cdb3-4c73-e9ca-1318fdd34034"
      },
      "outputs": [
        {
          "name": "stdout",
          "output_type": "stream",
          "text": [
            "(20000, 100, 500)\n"
          ]
        }
      ],
      "source": [
        "print(train_oh.shape)"
      ]
    },
    {
      "cell_type": "code",
      "execution_count": null,
      "metadata": {
        "colab": {
          "base_uri": "https://localhost:8080/"
        },
        "execution": {
          "iopub.execute_input": "2022-01-08T05:20:31.814272Z",
          "iopub.status.busy": "2022-01-08T05:20:31.813567Z",
          "iopub.status.idle": "2022-01-08T05:20:31.816686Z",
          "shell.execute_reply": "2022-01-08T05:20:31.816011Z"
        },
        "id": "VIVSHwJg6kQY",
        "outputId": "972653fa-6acd-405d-d1ee-2422708f9863"
      },
      "outputs": [
        {
          "name": "stdout",
          "output_type": "stream",
          "text": [
            "[0. 0. 0. 0. 0. 0. 0. 0. 0. 0. 1. 0.]\n"
          ]
        }
      ],
      "source": [
        "print(train_oh[0][0][:12])"
      ]
    },
    {
      "cell_type": "code",
      "execution_count": null,
      "metadata": {
        "colab": {
          "base_uri": "https://localhost:8080/"
        },
        "execution": {
          "iopub.execute_input": "2022-01-08T05:20:31.821685Z",
          "iopub.status.busy": "2022-01-08T05:20:31.821048Z",
          "iopub.status.idle": "2022-01-08T05:20:31.823968Z",
          "shell.execute_reply": "2022-01-08T05:20:31.823398Z"
        },
        "id": "CP3ivii46kQZ",
        "outputId": "6a669f1a-41fe-486a-e0e1-bd812d2b7aeb"
      },
      "outputs": [
        {
          "name": "stdout",
          "output_type": "stream",
          "text": [
            "1.0\n"
          ]
        }
      ],
      "source": [
        "print(np.sum(train_oh[0][0]))"
      ]
    },
    {
      "cell_type": "code",
      "execution_count": null,
      "metadata": {
        "execution": {
          "iopub.execute_input": "2022-01-08T05:20:31.828083Z",
          "iopub.status.busy": "2022-01-08T05:20:31.827427Z",
          "iopub.status.idle": "2022-01-08T05:20:32.012623Z",
          "shell.execute_reply": "2022-01-08T05:20:32.013109Z"
        },
        "id": "vgijH6m26kQZ"
      },
      "outputs": [],
      "source": [
        "val_oh = keras.utils.to_categorical(val_seq)"
      ]
    },
    {
      "cell_type": "code",
      "execution_count": null,
      "metadata": {
        "colab": {
          "base_uri": "https://localhost:8080/"
        },
        "execution": {
          "iopub.execute_input": "2022-01-08T05:20:32.017927Z",
          "iopub.status.busy": "2022-01-08T05:20:32.017215Z",
          "iopub.status.idle": "2022-01-08T05:20:32.029398Z",
          "shell.execute_reply": "2022-01-08T05:20:32.028840Z"
        },
        "id": "0V0Svpuf6kQZ",
        "outputId": "34f0dd62-57da-4907-8032-9bb2655a986e"
      },
      "outputs": [
        {
          "name": "stdout",
          "output_type": "stream",
          "text": [
            "Model: \"sequential\"\n",
            "_________________________________________________________________\n",
            " Layer (type)                Output Shape              Param #   \n",
            "=================================================================\n",
            " simple_rnn (SimpleRNN)      (None, 8)                 4072      \n",
            "                                                                 \n",
            " dense (Dense)               (None, 1)                 9         \n",
            "                                                                 \n",
            "=================================================================\n",
            "Total params: 4,081\n",
            "Trainable params: 4,081\n",
            "Non-trainable params: 0\n",
            "_________________________________________________________________\n"
          ]
        }
      ],
      "source": [
        "model.summary()"
      ]
    },
    {
      "cell_type": "markdown",
      "metadata": {
        "id": "S22Hc-7L6kQZ"
      },
      "source": [
        "## 순환 신경망 훈련하기"
      ]
    },
    {
      "cell_type": "code",
      "execution_count": null,
      "metadata": {
        "colab": {
          "base_uri": "https://localhost:8080/"
        },
        "execution": {
          "iopub.execute_input": "2022-01-08T05:20:32.039845Z",
          "iopub.status.busy": "2022-01-08T05:20:32.036890Z",
          "iopub.status.idle": "2022-01-08T05:27:13.437874Z",
          "shell.execute_reply": "2022-01-08T05:27:13.437279Z"
        },
        "id": "YcwM299t6kQZ",
        "outputId": "257518bf-52ab-49d8-aa91-3c2e606ffd74"
      },
      "outputs": [
        {
          "name": "stdout",
          "output_type": "stream",
          "text": [
            "Epoch 1/100\n"
          ]
        },
        {
          "name": "stderr",
          "output_type": "stream",
          "text": [
            "2022-01-08 05:20:32.043116: W tensorflow/core/framework/cpu_allocator_impl.cc:82] Allocation of 4000000000 exceeds 10% of free system memory.\n"
          ]
        },
        {
          "name": "stdout",
          "output_type": "stream",
          "text": [
            "313/313 [==============================] - 9s 27ms/step - loss: 0.6988 - accuracy: 0.5006 - val_loss: 0.6939 - val_accuracy: 0.5174\n",
            "Epoch 2/100\n",
            "313/313 [==============================] - 8s 25ms/step - loss: 0.6942 - accuracy: 0.5140 - val_loss: 0.6920 - val_accuracy: 0.5196\n",
            "Epoch 3/100\n",
            "313/313 [==============================] - 8s 25ms/step - loss: 0.6919 - accuracy: 0.5252 - val_loss: 0.6908 - val_accuracy: 0.5294\n",
            "Epoch 4/100\n",
            "313/313 [==============================] - 8s 25ms/step - loss: 0.6902 - accuracy: 0.5344 - val_loss: 0.6898 - val_accuracy: 0.5372\n",
            "Epoch 5/100\n",
            "313/313 [==============================] - 8s 25ms/step - loss: 0.6886 - accuracy: 0.5447 - val_loss: 0.6890 - val_accuracy: 0.5410\n",
            "Epoch 6/100\n",
            "313/313 [==============================] - 8s 25ms/step - loss: 0.6870 - accuracy: 0.5526 - val_loss: 0.6879 - val_accuracy: 0.5500\n",
            "Epoch 7/100\n",
            "313/313 [==============================] - 8s 25ms/step - loss: 0.6855 - accuracy: 0.5598 - val_loss: 0.6871 - val_accuracy: 0.5550\n",
            "Epoch 8/100\n",
            "313/313 [==============================] - 8s 25ms/step - loss: 0.6840 - accuracy: 0.5642 - val_loss: 0.6861 - val_accuracy: 0.5558\n",
            "Epoch 9/100\n",
            "313/313 [==============================] - 8s 25ms/step - loss: 0.6824 - accuracy: 0.5697 - val_loss: 0.6854 - val_accuracy: 0.5522\n",
            "Epoch 10/100\n",
            "313/313 [==============================] - 8s 24ms/step - loss: 0.6808 - accuracy: 0.5745 - val_loss: 0.6845 - val_accuracy: 0.5586\n",
            "Epoch 11/100\n",
            "313/313 [==============================] - 8s 25ms/step - loss: 0.6792 - accuracy: 0.5757 - val_loss: 0.6837 - val_accuracy: 0.5618\n",
            "Epoch 12/100\n",
            "313/313 [==============================] - 8s 25ms/step - loss: 0.6776 - accuracy: 0.5807 - val_loss: 0.6832 - val_accuracy: 0.5630\n",
            "Epoch 13/100\n",
            "313/313 [==============================] - 8s 24ms/step - loss: 0.6760 - accuracy: 0.5820 - val_loss: 0.6823 - val_accuracy: 0.5640\n",
            "Epoch 14/100\n",
            "313/313 [==============================] - 8s 24ms/step - loss: 0.6743 - accuracy: 0.5849 - val_loss: 0.6815 - val_accuracy: 0.5630\n",
            "Epoch 15/100\n",
            "313/313 [==============================] - 8s 25ms/step - loss: 0.6727 - accuracy: 0.5908 - val_loss: 0.6810 - val_accuracy: 0.5604\n",
            "Epoch 16/100\n",
            "313/313 [==============================] - 8s 24ms/step - loss: 0.6710 - accuracy: 0.5933 - val_loss: 0.6801 - val_accuracy: 0.5612\n",
            "Epoch 17/100\n",
            "313/313 [==============================] - 8s 25ms/step - loss: 0.6692 - accuracy: 0.5961 - val_loss: 0.6795 - val_accuracy: 0.5602\n",
            "Epoch 18/100\n",
            "313/313 [==============================] - 8s 24ms/step - loss: 0.6674 - accuracy: 0.6005 - val_loss: 0.6788 - val_accuracy: 0.5572\n",
            "Epoch 19/100\n",
            "313/313 [==============================] - 8s 25ms/step - loss: 0.6654 - accuracy: 0.6033 - val_loss: 0.6780 - val_accuracy: 0.5604\n",
            "Epoch 20/100\n",
            "313/313 [==============================] - 8s 25ms/step - loss: 0.6633 - accuracy: 0.6043 - val_loss: 0.6767 - val_accuracy: 0.5620\n",
            "Epoch 21/100\n",
            "313/313 [==============================] - 8s 26ms/step - loss: 0.6595 - accuracy: 0.6113 - val_loss: 0.6706 - val_accuracy: 0.5826\n",
            "Epoch 22/100\n",
            "313/313 [==============================] - 8s 25ms/step - loss: 0.6461 - accuracy: 0.6402 - val_loss: 0.6557 - val_accuracy: 0.6254\n",
            "Epoch 23/100\n",
            "313/313 [==============================] - 8s 25ms/step - loss: 0.6324 - accuracy: 0.6613 - val_loss: 0.6423 - val_accuracy: 0.6480\n",
            "Epoch 24/100\n",
            "313/313 [==============================] - 8s 25ms/step - loss: 0.6177 - accuracy: 0.6801 - val_loss: 0.6270 - val_accuracy: 0.6676\n",
            "Epoch 25/100\n",
            "313/313 [==============================] - 8s 26ms/step - loss: 0.6014 - accuracy: 0.6980 - val_loss: 0.6121 - val_accuracy: 0.6834\n",
            "Epoch 26/100\n",
            "313/313 [==============================] - 8s 25ms/step - loss: 0.5842 - accuracy: 0.7140 - val_loss: 0.5946 - val_accuracy: 0.7018\n",
            "Epoch 27/100\n",
            "313/313 [==============================] - 8s 25ms/step - loss: 0.5673 - accuracy: 0.7301 - val_loss: 0.5791 - val_accuracy: 0.7156\n",
            "Epoch 28/100\n",
            "313/313 [==============================] - 8s 25ms/step - loss: 0.5509 - accuracy: 0.7405 - val_loss: 0.5638 - val_accuracy: 0.7256\n",
            "Epoch 29/100\n",
            "313/313 [==============================] - 8s 25ms/step - loss: 0.5347 - accuracy: 0.7536 - val_loss: 0.5499 - val_accuracy: 0.7400\n",
            "Epoch 30/100\n",
            "313/313 [==============================] - 8s 24ms/step - loss: 0.5199 - accuracy: 0.7635 - val_loss: 0.5393 - val_accuracy: 0.7434\n",
            "Epoch 31/100\n",
            "313/313 [==============================] - 8s 25ms/step - loss: 0.5061 - accuracy: 0.7726 - val_loss: 0.5261 - val_accuracy: 0.7540\n",
            "Epoch 32/100\n",
            "313/313 [==============================] - 8s 25ms/step - loss: 0.4943 - accuracy: 0.7793 - val_loss: 0.5148 - val_accuracy: 0.7594\n",
            "Epoch 33/100\n",
            "313/313 [==============================] - 8s 25ms/step - loss: 0.4838 - accuracy: 0.7854 - val_loss: 0.5076 - val_accuracy: 0.7606\n",
            "Epoch 34/100\n",
            "313/313 [==============================] - 8s 25ms/step - loss: 0.4744 - accuracy: 0.7910 - val_loss: 0.4985 - val_accuracy: 0.7700\n",
            "Epoch 35/100\n",
            "313/313 [==============================] - 8s 25ms/step - loss: 0.4662 - accuracy: 0.7945 - val_loss: 0.4923 - val_accuracy: 0.7730\n",
            "Epoch 36/100\n",
            "313/313 [==============================] - 8s 25ms/step - loss: 0.4595 - accuracy: 0.7964 - val_loss: 0.4872 - val_accuracy: 0.7774\n",
            "Epoch 37/100\n",
            "313/313 [==============================] - 8s 26ms/step - loss: 0.4533 - accuracy: 0.8009 - val_loss: 0.4831 - val_accuracy: 0.7798\n",
            "Epoch 38/100\n",
            "313/313 [==============================] - 8s 25ms/step - loss: 0.4478 - accuracy: 0.8027 - val_loss: 0.4792 - val_accuracy: 0.7782\n",
            "Epoch 39/100\n",
            "313/313 [==============================] - 8s 25ms/step - loss: 0.4424 - accuracy: 0.8065 - val_loss: 0.4765 - val_accuracy: 0.7790\n",
            "Epoch 40/100\n",
            "313/313 [==============================] - 8s 25ms/step - loss: 0.4377 - accuracy: 0.8094 - val_loss: 0.4750 - val_accuracy: 0.7772\n",
            "Epoch 41/100\n",
            "313/313 [==============================] - 8s 25ms/step - loss: 0.4332 - accuracy: 0.8120 - val_loss: 0.4733 - val_accuracy: 0.7800\n",
            "Epoch 42/100\n",
            "313/313 [==============================] - 8s 25ms/step - loss: 0.4293 - accuracy: 0.8120 - val_loss: 0.4782 - val_accuracy: 0.7790\n",
            "Epoch 43/100\n",
            "313/313 [==============================] - 8s 25ms/step - loss: 0.4259 - accuracy: 0.8154 - val_loss: 0.4684 - val_accuracy: 0.7818\n",
            "Epoch 44/100\n",
            "313/313 [==============================] - 8s 25ms/step - loss: 0.4230 - accuracy: 0.8140 - val_loss: 0.4674 - val_accuracy: 0.7812\n",
            "Epoch 45/100\n",
            "313/313 [==============================] - 8s 25ms/step - loss: 0.4201 - accuracy: 0.8167 - val_loss: 0.4701 - val_accuracy: 0.7810\n",
            "Epoch 46/100\n",
            "313/313 [==============================] - 8s 25ms/step - loss: 0.4175 - accuracy: 0.8178 - val_loss: 0.4699 - val_accuracy: 0.7812\n",
            "Epoch 47/100\n",
            "313/313 [==============================] - 8s 25ms/step - loss: 0.4154 - accuracy: 0.8193 - val_loss: 0.4649 - val_accuracy: 0.7826\n",
            "Epoch 48/100\n",
            "313/313 [==============================] - 8s 25ms/step - loss: 0.4135 - accuracy: 0.8208 - val_loss: 0.4641 - val_accuracy: 0.7826\n",
            "Epoch 49/100\n",
            "313/313 [==============================] - 8s 25ms/step - loss: 0.4115 - accuracy: 0.8211 - val_loss: 0.4641 - val_accuracy: 0.7844\n",
            "Epoch 50/100\n",
            "313/313 [==============================] - 8s 25ms/step - loss: 0.4093 - accuracy: 0.8227 - val_loss: 0.4658 - val_accuracy: 0.7818\n",
            "Epoch 51/100\n",
            "313/313 [==============================] - 8s 25ms/step - loss: 0.4083 - accuracy: 0.8218 - val_loss: 0.4658 - val_accuracy: 0.7850\n"
          ]
        }
      ],
      "source": [
        "rmsprop = keras.optimizers.RMSprop(learning_rate=1e-4)\n",
        "model.compile(optimizer=rmsprop, loss='binary_crossentropy', \n",
        "              metrics=['accuracy'])\n",
        "\n",
        "checkpoint_cb = keras.callbacks.ModelCheckpoint('best-simplernn-model.h5', \n",
        "                                                save_best_only=True)\n",
        "early_stopping_cb = keras.callbacks.EarlyStopping(patience=3,\n",
        "                                                  restore_best_weights=True)\n",
        "\n",
        "history = model.fit(train_oh, train_target, epochs=100, batch_size=64,\n",
        "                    validation_data=(val_oh, val_target),\n",
        "                    callbacks=[checkpoint_cb, early_stopping_cb])"
      ]
    },
    {
      "cell_type": "code",
      "execution_count": null,
      "metadata": {
        "colab": {
          "base_uri": "https://localhost:8080/",
          "height": 279
        },
        "execution": {
          "iopub.execute_input": "2022-01-08T05:27:13.450495Z",
          "iopub.status.busy": "2022-01-08T05:27:13.449785Z",
          "iopub.status.idle": "2022-01-08T05:27:13.568727Z",
          "shell.execute_reply": "2022-01-08T05:27:13.569535Z"
        },
        "id": "YS_5tIG26kQa",
        "outputId": "7affeec2-15fb-4217-daa5-2c8ef2f8a74b"
      },
      "outputs": [
        {
          "data": {
            "image/png": "[encoded data removed]",
            "text/plain": [
              "<Figure size 432x288 with 1 Axes>"
            ]
          },
          "metadata": {
            "needs_background": "light"
          },
          "output_type": "display_data"
        }
      ],
      "source": [
        "plt.plot(history.history['loss'])\n",
        "plt.plot(history.history['val_loss'])\n",
        "plt.xlabel('epoch')\n",
        "plt.ylabel('loss')\n",
        "plt.legend(['train', 'val'])\n",
        "plt.show()"
      ]
    },
    {
      "cell_type": "markdown",
      "metadata": {
        "id": "K_U_lVie6kQa"
      },
      "source": [
        "## 단어 임베딩을 사용하기"
      ]
    },
    {
      "cell_type": "code",
      "execution_count": null,
      "metadata": {
        "colab": {
          "base_uri": "https://localhost:8080/"
        },
        "execution": {
          "iopub.execute_input": "2022-01-08T05:27:13.578088Z",
          "iopub.status.busy": "2022-01-08T05:27:13.576979Z",
          "iopub.status.idle": "2022-01-08T05:27:13.920651Z",
          "shell.execute_reply": "2022-01-08T05:27:13.921082Z"
        },
        "id": "Ofl-Ifev6kQa",
        "outputId": "5446f8dd-845c-4fea-eb3a-a8887f010da0"
      },
      "outputs": [
        {
          "name": "stdout",
          "output_type": "stream",
          "text": [
            "Model: \"sequential_1\"\n",
            "_________________________________________________________________\n",
            " Layer (type)                Output Shape              Param #   \n",
            "=================================================================\n",
            " embedding (Embedding)       (None, 100, 16)           8000      \n",
            "                                                                 \n",
            " simple_rnn_1 (SimpleRNN)    (None, 8)                 200       \n",
            "                                                                 \n",
            " dense_1 (Dense)             (None, 1)                 9         \n",
            "                                                                 \n",
            "=================================================================\n",
            "Total params: 8,209\n",
            "Trainable params: 8,209\n",
            "Non-trainable params: 0\n",
            "_________________________________________________________________\n"
          ]
        }
      ],
      "source": [
        "model2 = keras.Sequential()\n",
        "\n",
        "model2.add(keras.layers.Embedding(500, 16, input_length=100))\n",
        "model2.add(keras.layers.SimpleRNN(8))\n",
        "model2.add(keras.layers.Dense(1, activation='sigmoid'))\n",
        "\n",
        "model2.summary()"
      ]
    },
    {
      "cell_type": "code",
      "execution_count": null,
      "metadata": {
        "colab": {
          "base_uri": "https://localhost:8080/"
        },
        "execution": {
          "iopub.execute_input": "2022-01-08T05:27:13.930484Z",
          "iopub.status.busy": "2022-01-08T05:27:13.929775Z",
          "iopub.status.idle": "2022-01-08T05:31:21.300019Z",
          "shell.execute_reply": "2022-01-08T05:31:21.299400Z"
        },
        "id": "78TUrJAs6kQa",
        "outputId": "ee782c94-cf81-4add-e0a9-5290b91bd2bf"
      },
      "outputs": [
        {
          "name": "stdout",
          "output_type": "stream",
          "text": [
            "Epoch 1/100\n",
            "313/313 [==============================] - 9s 25ms/step - loss: 0.6942 - accuracy: 0.5133 - val_loss: 0.6917 - val_accuracy: 0.5270\n",
            "Epoch 2/100\n",
            "313/313 [==============================] - 8s 25ms/step - loss: 0.6821 - accuracy: 0.5755 - val_loss: 0.6761 - val_accuracy: 0.6048\n",
            "Epoch 3/100\n",
            "313/313 [==============================] - 8s 25ms/step - loss: 0.6620 - accuracy: 0.6469 - val_loss: 0.6559 - val_accuracy: 0.6596\n",
            "Epoch 4/100\n",
            "313/313 [==============================] - 8s 25ms/step - loss: 0.6389 - accuracy: 0.6995 - val_loss: 0.6354 - val_accuracy: 0.7026\n",
            "Epoch 5/100\n",
            "313/313 [==============================] - 8s 25ms/step - loss: 0.6178 - accuracy: 0.7278 - val_loss: 0.6194 - val_accuracy: 0.7186\n",
            "Epoch 6/100\n",
            "313/313 [==============================] - 8s 25ms/step - loss: 0.5994 - accuracy: 0.7462 - val_loss: 0.6013 - val_accuracy: 0.7364\n",
            "Epoch 7/100\n",
            "313/313 [==============================] - 8s 25ms/step - loss: 0.5828 - accuracy: 0.7564 - val_loss: 0.5892 - val_accuracy: 0.7454\n",
            "Epoch 8/100\n",
            "313/313 [==============================] - 8s 25ms/step - loss: 0.5676 - accuracy: 0.7667 - val_loss: 0.5790 - val_accuracy: 0.7512\n",
            "Epoch 9/100\n",
            "313/313 [==============================] - 8s 24ms/step - loss: 0.5531 - accuracy: 0.7759 - val_loss: 0.5635 - val_accuracy: 0.7478\n",
            "Epoch 10/100\n",
            "313/313 [==============================] - 8s 24ms/step - loss: 0.5390 - accuracy: 0.7805 - val_loss: 0.5539 - val_accuracy: 0.7554\n",
            "Epoch 11/100\n",
            "313/313 [==============================] - 8s 25ms/step - loss: 0.5266 - accuracy: 0.7855 - val_loss: 0.5466 - val_accuracy: 0.7580\n",
            "Epoch 12/100\n",
            "313/313 [==============================] - 8s 24ms/step - loss: 0.5153 - accuracy: 0.7901 - val_loss: 0.5344 - val_accuracy: 0.7674\n",
            "Epoch 13/100\n",
            "313/313 [==============================] - 8s 25ms/step - loss: 0.5040 - accuracy: 0.7940 - val_loss: 0.5239 - val_accuracy: 0.7722\n",
            "Epoch 14/100\n",
            "313/313 [==============================] - 8s 25ms/step - loss: 0.4934 - accuracy: 0.7992 - val_loss: 0.5233 - val_accuracy: 0.7664\n",
            "Epoch 15/100\n",
            "313/313 [==============================] - 8s 25ms/step - loss: 0.4840 - accuracy: 0.8029 - val_loss: 0.5098 - val_accuracy: 0.7724\n",
            "Epoch 16/100\n",
            "313/313 [==============================] - 8s 24ms/step - loss: 0.4743 - accuracy: 0.8055 - val_loss: 0.5040 - val_accuracy: 0.7748\n",
            "Epoch 17/100\n",
            "313/313 [==============================] - 8s 24ms/step - loss: 0.4654 - accuracy: 0.8080 - val_loss: 0.4988 - val_accuracy: 0.7796\n",
            "Epoch 18/100\n",
            "313/313 [==============================] - 7s 24ms/step - loss: 0.4579 - accuracy: 0.8109 - val_loss: 0.4939 - val_accuracy: 0.7798\n",
            "Epoch 19/100\n",
            "313/313 [==============================] - 8s 24ms/step - loss: 0.4508 - accuracy: 0.8136 - val_loss: 0.4932 - val_accuracy: 0.7734\n",
            "Epoch 20/100\n",
            "313/313 [==============================] - 8s 25ms/step - loss: 0.4441 - accuracy: 0.8148 - val_loss: 0.4896 - val_accuracy: 0.7766\n",
            "Epoch 21/100\n",
            "313/313 [==============================] - 8s 24ms/step - loss: 0.4379 - accuracy: 0.8185 - val_loss: 0.4852 - val_accuracy: 0.7784\n",
            "Epoch 22/100\n",
            "313/313 [==============================] - 8s 25ms/step - loss: 0.4326 - accuracy: 0.8206 - val_loss: 0.4813 - val_accuracy: 0.7818\n",
            "Epoch 23/100\n",
            "313/313 [==============================] - 8s 25ms/step - loss: 0.4276 - accuracy: 0.8213 - val_loss: 0.4811 - val_accuracy: 0.7830\n",
            "Epoch 24/100\n",
            "313/313 [==============================] - 8s 25ms/step - loss: 0.4227 - accuracy: 0.8226 - val_loss: 0.4786 - val_accuracy: 0.7842\n",
            "Epoch 25/100\n",
            "313/313 [==============================] - 8s 25ms/step - loss: 0.4186 - accuracy: 0.8237 - val_loss: 0.4770 - val_accuracy: 0.7810\n",
            "Epoch 26/100\n",
            "313/313 [==============================] - 8s 24ms/step - loss: 0.4147 - accuracy: 0.8268 - val_loss: 0.4750 - val_accuracy: 0.7834\n",
            "Epoch 27/100\n",
            "313/313 [==============================] - 8s 24ms/step - loss: 0.4111 - accuracy: 0.8268 - val_loss: 0.4762 - val_accuracy: 0.7828\n",
            "Epoch 28/100\n",
            "313/313 [==============================] - 8s 24ms/step - loss: 0.4076 - accuracy: 0.8288 - val_loss: 0.4796 - val_accuracy: 0.7804\n",
            "Epoch 29/100\n",
            "313/313 [==============================] - 8s 25ms/step - loss: 0.4043 - accuracy: 0.8300 - val_loss: 0.4746 - val_accuracy: 0.7822\n",
            "Epoch 30/100\n",
            "313/313 [==============================] - 8s 24ms/step - loss: 0.4016 - accuracy: 0.8315 - val_loss: 0.4759 - val_accuracy: 0.7826\n",
            "Epoch 31/100\n",
            "313/313 [==============================] - 8s 24ms/step - loss: 0.3984 - accuracy: 0.8335 - val_loss: 0.4776 - val_accuracy: 0.7810\n",
            "Epoch 32/100\n",
            "313/313 [==============================] - 8s 24ms/step - loss: 0.3960 - accuracy: 0.8341 - val_loss: 0.4764 - val_accuracy: 0.7820\n"
          ]
        }
      ],
      "source": [
        "rmsprop = keras.optimizers.RMSprop(learning_rate=1e-4)\n",
        "model2.compile(optimizer=rmsprop, loss='binary_crossentropy', \n",
        "               metrics=['accuracy'])\n",
        "\n",
        "checkpoint_cb = keras.callbacks.ModelCheckpoint('best-embedding-model.h5', \n",
        "                                                save_best_only=True)\n",
        "early_stopping_cb = keras.callbacks.EarlyStopping(patience=3,\n",
        "                                                  restore_best_weights=True)\n",
        "\n",
        "history = model2.fit(train_seq, train_target, epochs=100, batch_size=64,\n",
        "                     validation_data=(val_seq, val_target),\n",
        "                     callbacks=[checkpoint_cb, early_stopping_cb])"
      ]
    },
    {
      "cell_type": "code",
      "execution_count": null,
      "metadata": {
        "colab": {
          "base_uri": "https://localhost:8080/",
          "height": 282
        },
        "execution": {
          "iopub.execute_input": "2022-01-08T05:31:21.309740Z",
          "iopub.status.busy": "2022-01-08T05:31:21.305105Z",
          "iopub.status.idle": "2022-01-08T05:31:21.449709Z",
          "shell.execute_reply": "2022-01-08T05:31:21.450221Z"
        },
        "id": "brUvKwLt6kQb",
        "outputId": "c9907bb0-000c-4c7f-fe2c-ce8128bac52b"
      },
      "outputs": [
        {
          "data": {
            "image/png": "[encoded data removed]",
            "text/plain": [
              "<Figure size 432x288 with 1 Axes>"
            ]
          },
          "metadata": {
            "needs_background": "light"
          },
          "output_type": "display_data"
        }
      ],
      "source": [
        "plt.plot(history.history['loss'])\n",
        "plt.plot(history.history['val_loss'])\n",
        "plt.xlabel('epoch')\n",
        "plt.ylabel('loss')\n",
        "plt.legend(['train', 'val'])\n",
        "plt.show()"
      ]
    }
  ],
  "metadata": {
    "accelerator": "GPU",
    "colab": {
      "name": "9-2.ipynb",
      "provenance": [],
      "include_colab_link": true
    },
    "kernelspec": {
      "display_name": "Python 3 (ipykernel)",
      "language": "python",
      "name": "python3"
    },
    "language_info": {
      "codemirror_mode": {
        "name": "ipython",
        "version": 3
      },
      "file_extension": ".py",
      "mimetype": "text/x-python",
      "name": "python",
      "nbconvert_exporter": "python",
      "pygments_lexer": "ipython3",
      "version": "3.7.3"
    }
  },
  "nbformat": 4,
  "nbformat_minor": 0
}
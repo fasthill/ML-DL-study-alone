{
  "cells": [
    {
      "cell_type": "markdown",
      "metadata": {
        "id": "view-in-github",
        "colab_type": "text"
      },
      "source": [
        "<a href=\"https://colab.research.google.com/github/fasthill/ML-DL-study-alone/blob/main/9-2%20%EC%88%9C%ED%99%98%20%EC%8B%A0%EA%B2%BD%EB%A7%9D%EC%9C%BC%EB%A1%9C%20IMDB%20%EB%A6%AC%EB%B7%B0%20%EB%B6%84%EB%A5%98%ED%95%98%EA%B8%B0.ipynb\" target=\"_parent\"><img src=\"https://colab.research.google.com/assets/colab-badge.svg\" alt=\"Open In Colab\"/></a>"
      ]
    },
    {
      "cell_type": "markdown",
      "metadata": {
        "id": "MusV5YYT6kQF"
      },
      "source": [
        "# 순환 신경망으로 IMDB 리뷰 분류하기"
      ]
    },
    {
      "cell_type": "markdown",
      "metadata": {
        "id": "S1A-DDIQ6kQQ"
      },
      "source": [
        "## IMDB 리뷰 데이터셋"
      ]
    },
    {
      "cell_type": "code",
      "source": [
        "import numpy as np\n",
        "import pandas as pd\n",
        "import matplotlib.pyplot as plt\n",
        "\n",
        "from sklearn.model_selection import train_test_split\n",
        "from tensorflow.keras.datasets import imdb\n",
        "from tensorflow.keras.preprocessing.sequence import pad_sequences\n",
        "from tensorflow.keras import Sequential\n",
        "from tensorflow.keras.layers import SimpleRNN, Dense, Embedding\n",
        "from tensorflow.keras.utils import to_categorical\n",
        "from tensorflow.keras.optimizers import RMSprop, Adam\n",
        "from tensorflow.keras.callbacks import ModelCheckpoint, EarlyStopping"
      ],
      "metadata": {
        "id": "PMySS24djDRJ"
      },
      "execution_count": 1,
      "outputs": []
    },
    {
      "cell_type": "code",
      "source": [
        "(train_input, train_target), (test_input, test_target) = imdb.load_data(num_words=500)"
      ],
      "metadata": {
        "id": "6UMU5NLhjDUd"
      },
      "execution_count": 2,
      "outputs": []
    },
    {
      "cell_type": "code",
      "source": [
        "print(train_input.shape, test_input.shape)"
      ],
      "metadata": {
        "id": "1abMY7GFlSZy",
        "outputId": "787e7b29-967c-4467-8725-5ae7cbff35bc",
        "colab": {
          "base_uri": "https://localhost:8080/"
        }
      },
      "execution_count": 3,
      "outputs": [
        {
          "output_type": "stream",
          "name": "stdout",
          "text": [
            "(25000,) (25000,)\n"
          ]
        }
      ]
    },
    {
      "cell_type": "code",
      "source": [
        "print(train_input[0])"
      ],
      "metadata": {
        "id": "wLHAnHU6lSdT",
        "outputId": "0bbc99a9-93e0-456d-c1ef-7bc57e3d97d0",
        "colab": {
          "base_uri": "https://localhost:8080/"
        }
      },
      "execution_count": 4,
      "outputs": [
        {
          "output_type": "stream",
          "name": "stdout",
          "text": [
            "[1, 14, 22, 16, 43, 2, 2, 2, 2, 65, 458, 2, 66, 2, 4, 173, 36, 256, 5, 25, 100, 43, 2, 112, 50, 2, 2, 9, 35, 480, 284, 5, 150, 4, 172, 112, 167, 2, 336, 385, 39, 4, 172, 2, 2, 17, 2, 38, 13, 447, 4, 192, 50, 16, 6, 147, 2, 19, 14, 22, 4, 2, 2, 469, 4, 22, 71, 87, 12, 16, 43, 2, 38, 76, 15, 13, 2, 4, 22, 17, 2, 17, 12, 16, 2, 18, 2, 5, 62, 386, 12, 8, 316, 8, 106, 5, 4, 2, 2, 16, 480, 66, 2, 33, 4, 130, 12, 16, 38, 2, 5, 25, 124, 51, 36, 135, 48, 25, 2, 33, 6, 22, 12, 215, 28, 77, 52, 5, 14, 407, 16, 82, 2, 8, 4, 107, 117, 2, 15, 256, 4, 2, 7, 2, 5, 2, 36, 71, 43, 2, 476, 26, 400, 317, 46, 7, 4, 2, 2, 13, 104, 88, 4, 381, 15, 297, 98, 32, 2, 56, 26, 141, 6, 194, 2, 18, 4, 226, 22, 21, 134, 476, 26, 480, 5, 144, 30, 2, 18, 51, 36, 28, 224, 92, 25, 104, 4, 226, 65, 16, 38, 2, 88, 12, 16, 283, 5, 16, 2, 113, 103, 32, 15, 16, 2, 19, 178, 32]\n"
          ]
        }
      ]
    },
    {
      "cell_type": "markdown",
      "source": [
        "1: 샘플 문장의 시작 부분을 나타낼 때 사용, 2: 선택된 500개 단어에 포함되어 있지 않은 단어"
      ],
      "metadata": {
        "id": "kOClD572mYEO"
      }
    },
    {
      "cell_type": "markdown",
      "source": [
        "train_input: [ [리뷰1], [리뷰2], [리뷰3] ] numpy 배열로 원소는 리스트로 구성됨."
      ],
      "metadata": {
        "id": "rJuBo9LAnH9V"
      }
    },
    {
      "cell_type": "code",
      "source": [
        "print(train_target[:20])  # 긍정일 때 :1, 부정일 때: 0"
      ],
      "metadata": {
        "id": "6qICL4UwlSiS",
        "outputId": "4c6b0e94-54c8-47a9-e788-b70396ac5ec2",
        "colab": {
          "base_uri": "https://localhost:8080/"
        }
      },
      "execution_count": 5,
      "outputs": [
        {
          "output_type": "stream",
          "name": "stdout",
          "text": [
            "[1 0 0 1 0 0 1 0 1 0 1 0 0 0 0 0 1 1 0 1]\n"
          ]
        }
      ]
    },
    {
      "cell_type": "markdown",
      "source": [
        "### 훈련 세트 준비"
      ],
      "metadata": {
        "id": "RtzDKg4FobUo"
      }
    },
    {
      "cell_type": "code",
      "source": [
        "train_input, val_input, train_target, val_target = train_test_split(train_input, train_target, test_size=0.2, random_state=42)"
      ],
      "metadata": {
        "id": "X9WpCRA-lSlc"
      },
      "execution_count": 6,
      "outputs": []
    },
    {
      "cell_type": "markdown",
      "source": [
        "train-input의 리스트로 구성된 각 원소의 길이를 리스트로 구하고, array로 구성"
      ],
      "metadata": {
        "id": "HQylzqd0ouy7"
      }
    },
    {
      "cell_type": "code",
      "source": [
        "train_input.shape"
      ],
      "metadata": {
        "id": "t4Zrj_2Zn3Xu",
        "outputId": "e0e9e064-9a2c-425d-f09f-18717f6a22c3",
        "colab": {
          "base_uri": "https://localhost:8080/"
        }
      },
      "execution_count": 7,
      "outputs": [
        {
          "output_type": "execute_result",
          "data": {
            "text/plain": [
              "(20000,)"
            ]
          },
          "metadata": {},
          "execution_count": 7
        }
      ]
    },
    {
      "cell_type": "code",
      "execution_count": 8,
      "metadata": {
        "colab": {
          "base_uri": "https://localhost:8080/"
        },
        "execution": {
          "iopub.execute_input": "2022-01-08T05:20:29.507450Z",
          "iopub.status.busy": "2022-01-08T05:20:29.506813Z",
          "iopub.status.idle": "2022-01-08T05:20:29.509552Z",
          "shell.execute_reply": "2022-01-08T05:20:29.508923Z"
        },
        "outputId": "57ca8e59-14bc-4b13-f5e0-8a2ead782c86",
        "id": "3iqRdYB5OV8J"
      },
      "outputs": [
        {
          "output_type": "stream",
          "name": "stdout",
          "text": [
            "259\n"
          ]
        }
      ],
      "source": [
        "print(len(train_input[0]))  # 각 개의 요소의 길이가 다름 (문장의 길이가 다름, 토큰의 갯수가 다름)"
      ]
    },
    {
      "cell_type": "code",
      "execution_count": 9,
      "metadata": {
        "colab": {
          "base_uri": "https://localhost:8080/"
        },
        "execution": {
          "iopub.execute_input": "2022-01-08T05:20:29.514339Z",
          "iopub.status.busy": "2022-01-08T05:20:29.513627Z",
          "iopub.status.idle": "2022-01-08T05:20:29.516831Z",
          "shell.execute_reply": "2022-01-08T05:20:29.516284Z"
        },
        "outputId": "418636a8-e3ee-40da-c1ef-d68c0557f4a4",
        "id": "GsdWj7rhOV8L"
      },
      "outputs": [
        {
          "output_type": "stream",
          "name": "stdout",
          "text": [
            "520\n"
          ]
        }
      ],
      "source": [
        "print(len(train_input[1])) # 각 개의 요소의 길이가 다름 (문장의 길이가 다름, 토큰의 갯수가 다름)"
      ]
    },
    {
      "cell_type": "markdown",
      "source": [
        "문장 길이의 분포를 확인"
      ],
      "metadata": {
        "id": "bfPTQYaKOptQ"
      }
    },
    {
      "cell_type": "code",
      "source": [
        "lengths = np.array([len(x) for x in train_input])"
      ],
      "metadata": {
        "id": "8j1ie79eo8_g"
      },
      "execution_count": 10,
      "outputs": []
    },
    {
      "cell_type": "code",
      "source": [
        "lengths.shape, lengths[:20]"
      ],
      "metadata": {
        "id": "Fw081F5En3bM",
        "outputId": "38436c14-b2f3-4fc9-8aae-98685b1bd3fe",
        "colab": {
          "base_uri": "https://localhost:8080/"
        }
      },
      "execution_count": 11,
      "outputs": [
        {
          "output_type": "execute_result",
          "data": {
            "text/plain": [
              "((20000,),\n",
              " array([259, 520, 290, 109, 559,  96, 130, 935, 383, 716, 195,  55, 122,\n",
              "        142, 104, 109, 179, 777, 368, 311]))"
            ]
          },
          "metadata": {},
          "execution_count": 11
        }
      ]
    },
    {
      "cell_type": "code",
      "source": [
        "print(np.mean(lengths), np.median(lengths))"
      ],
      "metadata": {
        "id": "SCrDK1dZn3eR",
        "outputId": "6493f743-13bd-48ec-9f8e-707c94fa8605",
        "colab": {
          "base_uri": "https://localhost:8080/"
        }
      },
      "execution_count": 12,
      "outputs": [
        {
          "output_type": "stream",
          "name": "stdout",
          "text": [
            "239.00925 178.0\n"
          ]
        }
      ]
    },
    {
      "cell_type": "code",
      "source": [
        "plt.hist(lengths)\n",
        "plt.xlabel('length')\n",
        "plt.ylabel('frequency')\n",
        "plt.show()"
      ],
      "metadata": {
        "id": "pIcPGwRFqFEK",
        "outputId": "05a0df98-2339-4955-c444-51877b79afd2",
        "colab": {
          "base_uri": "https://localhost:8080/",
          "height": 279
        }
      },
      "execution_count": 13,
      "outputs": [
        {
          "output_type": "display_data",
          "data": {
            "image/png": "[encoded data removed]",
            "text/plain": [
              "<Figure size 432x288 with 1 Axes>"
            ]
          },
          "metadata": {
            "needs_background": "light"
          }
        }
      ]
    },
    {
      "cell_type": "code",
      "source": [
        "max_words = max([max(elem) for elem in train_input])\n",
        "max_length = max([len(elem) for elem in train_input])"
      ],
      "metadata": {
        "id": "ZWibdKV0aZc-"
      },
      "execution_count": 14,
      "outputs": []
    },
    {
      "cell_type": "code",
      "source": [
        "max_words, max_length   # 최대 단어 갯수, 최대 문장 길이"
      ],
      "metadata": {
        "colab": {
          "base_uri": "https://localhost:8080/"
        },
        "id": "-MUC6V1baazL",
        "outputId": "71e41165-236b-41b2-bf88-04a187f94fb6"
      },
      "execution_count": 15,
      "outputs": [
        {
          "output_type": "execute_result",
          "data": {
            "text/plain": [
              "(499, 1854)"
            ]
          },
          "metadata": {},
          "execution_count": 15
        }
      ]
    },
    {
      "cell_type": "markdown",
      "source": [
        "### Sequence Padding"
      ],
      "metadata": {
        "id": "_n4yHsEKq_4f"
      }
    },
    {
      "cell_type": "code",
      "source": [
        "train_seq = pad_sequences(train_input, maxlen=100) # 100개의 토큰 크기로 제한, 적으면 0으로 패딩, 크면 잘라내기"
      ],
      "metadata": {
        "id": "cYHdOeZnqFHl"
      },
      "execution_count": 16,
      "outputs": []
    },
    {
      "cell_type": "markdown",
      "source": [
        "padding='pre', truncate='pre' arg가 default로 뒷쪽에서 부터 100개를 선정하여 취하고(앞쪽을 자르고), 100개에 부족하면, 앞쪽에 0을 삽입함."
      ],
      "metadata": {
        "id": "vRr5Ig0IEcjE"
      }
    },
    {
      "cell_type": "code",
      "source": [
        "print(train_seq.shape)"
      ],
      "metadata": {
        "id": "20ZWe-Hgq_bd",
        "outputId": "3e35f6ca-31bc-41e4-d9ed-1e1fa573f041",
        "colab": {
          "base_uri": "https://localhost:8080/"
        }
      },
      "execution_count": 17,
      "outputs": [
        {
          "output_type": "stream",
          "name": "stdout",
          "text": [
            "(20000, 100)\n"
          ]
        }
      ]
    },
    {
      "cell_type": "code",
      "source": [
        "train_seq"
      ],
      "metadata": {
        "id": "ikuaf4qPq_e5",
        "outputId": "2ddabc82-f2d6-4926-de98-5393d2c85c95",
        "colab": {
          "base_uri": "https://localhost:8080/"
        }
      },
      "execution_count": 18,
      "outputs": [
        {
          "output_type": "execute_result",
          "data": {
            "text/plain": [
              "array([[ 10,   4,  20, ...,  10, 470, 158],\n",
              "       [206,   2,  26, ...,   6,   2,   2],\n",
              "       [  2,   7,   2, ...,   2,   2,  12],\n",
              "       ...,\n",
              "       [  2,  37, 299, ...,   7,  14,   2],\n",
              "       [  0,   0,   0, ...,  25, 170,   2],\n",
              "       [  0,   0,   0, ...,  25, 194,   2]], dtype=int32)"
            ]
          },
          "metadata": {},
          "execution_count": 18
        }
      ]
    },
    {
      "cell_type": "code",
      "source": [
        "print(train_input[0][-10:])\n",
        "print(train_seq[0, -10:])"
      ],
      "metadata": {
        "colab": {
          "base_uri": "https://localhost:8080/"
        },
        "id": "qBqzL01LCXpM",
        "outputId": "60e3dff0-ecce-44a3-e85e-017ff1b2466e"
      },
      "execution_count": 19,
      "outputs": [
        {
          "output_type": "stream",
          "name": "stdout",
          "text": [
            "[6, 2, 46, 7, 14, 20, 10, 10, 470, 158]\n",
            "[  6   2  46   7  14  20  10  10 470 158]\n"
          ]
        }
      ]
    },
    {
      "cell_type": "code",
      "source": [
        "print(train_seq[0]) # 뒤에서부터 100개의 단어(토큰)가 저장됨."
      ],
      "metadata": {
        "colab": {
          "base_uri": "https://localhost:8080/"
        },
        "id": "PwaAoLzGC3Ic",
        "outputId": "b75f51f6-d45f-4778-a5a0-e31e407fbb69"
      },
      "execution_count": 20,
      "outputs": [
        {
          "output_type": "stream",
          "name": "stdout",
          "text": [
            "[ 10   4  20   9   2 364 352   5  45   6   2   2  33 269   8   2 142   2\n",
            "   5   2  17  73  17 204   5   2  19  55   2   2  92  66 104  14  20  93\n",
            "  76   2 151  33   4  58  12 188   2 151  12 215  69 224 142  73 237   6\n",
            "   2   7   2   2 188   2 103  14  31  10  10 451   7   2   5   2  80  91\n",
            "   2  30   2  34  14  20 151  50  26 131  49   2  84  46  50  37  80  79\n",
            "   6   2  46   7  14  20  10  10 470 158]\n"
          ]
        }
      ]
    },
    {
      "cell_type": "code",
      "source": [
        "print(train_seq[5]) # 뒤에서 부터 채워져서 100개에 부족한 부분은 0으로 채워짐."
      ],
      "metadata": {
        "colab": {
          "base_uri": "https://localhost:8080/"
        },
        "id": "6UC29T66NqTA",
        "outputId": "f1b20a8c-8782-45aa-9cf8-d9094cafc0e7"
      },
      "execution_count": 21,
      "outputs": [
        {
          "output_type": "stream",
          "name": "stdout",
          "text": [
            "[  0   0   0   0   1   2 195  19  49   2   2 190   4   2 352   2 183  10\n",
            "  10  13  82  79   4   2  36  71 269   8   2  25  19  49   7   4   2   2\n",
            "   2   2   2  10  10  48  25  40   2  11   2   2  40   2   2   5   4   2\n",
            "   2  95  14 238  56 129   2  10  10  21   2  94 364 352   2   2  11 190\n",
            "  24 484   2   7  94 205 405  10  10  87   2  34  49   2   7   2   2   2\n",
            "   2   2 290   2  46  48  64  18   4   2]\n"
          ]
        }
      ]
    },
    {
      "cell_type": "code",
      "source": [
        "val_seq = pad_sequences(val_input, maxlen=100) # 100개의 토큰 크기로 제한, 적으면 0으로 패딩, 크면 잘라내기"
      ],
      "metadata": {
        "id": "MoxB4QdqrjxQ"
      },
      "execution_count": 22,
      "outputs": []
    },
    {
      "cell_type": "code",
      "source": [
        "val_seq"
      ],
      "metadata": {
        "id": "WOYOYFSvrj4E",
        "colab": {
          "base_uri": "https://localhost:8080/"
        },
        "outputId": "2135ff83-c249-40aa-9b1b-92354559ce75"
      },
      "execution_count": 23,
      "outputs": [
        {
          "output_type": "execute_result",
          "data": {
            "text/plain": [
              "array([[ 32,   2, 225, ...,  14,  58,   2],\n",
              "       [ 53,   2,   8, ...,   7,  32,   2],\n",
              "       [  0,   0,   0, ...,   2,  33,  32],\n",
              "       ...,\n",
              "       [383,   2, 120, ...,  16,  99,  76],\n",
              "       [106, 345,  12, ..., 120,   2, 156],\n",
              "       [  4, 114,  21, ...,   4,   2,   2]], dtype=int32)"
            ]
          },
          "metadata": {},
          "execution_count": 23
        }
      ]
    },
    {
      "cell_type": "markdown",
      "source": [
        "## 순환 신경망 만들기"
      ],
      "metadata": {
        "id": "kA3VnKFENUcD"
      }
    },
    {
      "cell_type": "code",
      "source": [
        "model = Sequential()\n",
        "model.add(SimpleRNN(8, input_shape=(100, 500)))\n",
        "model.add(Dense(1, activation='sigmoid'))"
      ],
      "metadata": {
        "id": "DScxhtBEB-j7"
      },
      "execution_count": 24,
      "outputs": []
    },
    {
      "cell_type": "code",
      "source": [
        "train_oh = to_categorical(train_seq)\n",
        "val_oh = to_categorical(val_seq)"
      ],
      "metadata": {
        "id": "7EubAS7SlSoJ"
      },
      "execution_count": 25,
      "outputs": []
    },
    {
      "cell_type": "code",
      "source": [
        "train_oh.shape, val_oh.shape"
      ],
      "metadata": {
        "colab": {
          "base_uri": "https://localhost:8080/"
        },
        "id": "oeSbKkzRR64R",
        "outputId": "089184d0-7084-4bf4-cbd0-75733aa93dfd"
      },
      "execution_count": 26,
      "outputs": [
        {
          "output_type": "execute_result",
          "data": {
            "text/plain": [
              "((20000, 100, 500), (5000, 100, 500))"
            ]
          },
          "metadata": {},
          "execution_count": 26
        }
      ]
    },
    {
      "cell_type": "code",
      "source": [
        "print(train_oh[0][0][:12]) # == print(train_oh[0, 0][:12])"
      ],
      "metadata": {
        "colab": {
          "base_uri": "https://localhost:8080/"
        },
        "id": "kedCPCEEai5s",
        "outputId": "24f3ed6f-8e90-464c-9e57-3da1e7267eee"
      },
      "execution_count": 27,
      "outputs": [
        {
          "output_type": "stream",
          "name": "stdout",
          "text": [
            "[0. 0. 0. 0. 0. 0. 0. 0. 0. 0. 1. 0.]\n"
          ]
        }
      ]
    },
    {
      "cell_type": "code",
      "source": [
        "print(np.sum(train_oh[0][0]))"
      ],
      "metadata": {
        "colab": {
          "base_uri": "https://localhost:8080/"
        },
        "id": "ERZKcnOwai9C",
        "outputId": "93494791-4e14-4b67-ae9e-a92837c835c6"
      },
      "execution_count": 28,
      "outputs": [
        {
          "output_type": "stream",
          "name": "stdout",
          "text": [
            "1.0\n"
          ]
        }
      ]
    },
    {
      "cell_type": "code",
      "source": [
        "model.summary()"
      ],
      "metadata": {
        "colab": {
          "base_uri": "https://localhost:8080/"
        },
        "id": "yKpKzACiajDk",
        "outputId": "dd4018ef-3796-45a5-9dea-f60e86effbc4"
      },
      "execution_count": 29,
      "outputs": [
        {
          "output_type": "stream",
          "name": "stdout",
          "text": [
            "Model: \"sequential\"\n",
            "_________________________________________________________________\n",
            " Layer (type)                Output Shape              Param #   \n",
            "=================================================================\n",
            " simple_rnn (SimpleRNN)      (None, 8)                 4072      \n",
            "                                                                 \n",
            " dense (Dense)               (None, 1)                 9         \n",
            "                                                                 \n",
            "=================================================================\n",
            "Total params: 4,081\n",
            "Trainable params: 4,081\n",
            "Non-trainable params: 0\n",
            "_________________________________________________________________\n"
          ]
        }
      ]
    },
    {
      "cell_type": "markdown",
      "source": [
        "4072 = 8개 뉴런 × 500개 one hot encoding 배열 + 8개 순환입력 × 8개 노드 + 8개 절편"
      ],
      "metadata": {
        "id": "r3OBGnkLj-1J"
      }
    },
    {
      "cell_type": "markdown",
      "source": [
        "## 순환 신경망 훈련하기"
      ],
      "metadata": {
        "id": "IS5ebcNxlHkH"
      }
    },
    {
      "cell_type": "code",
      "source": [
        "rmsprop = RMSprop(learning_rate=0.0001)\n",
        "model.compile(optimizer=rmsprop, loss='binary_crossentropy', metrics=['accuracy'])"
      ],
      "metadata": {
        "id": "-1ncbC5JbSUl"
      },
      "execution_count": 30,
      "outputs": []
    },
    {
      "cell_type": "code",
      "source": [
        "checkpoint_cb = ModelCheckpoint('best_simplernn_model.h5')\n",
        "early_stopping_cb = EarlyStopping(patience=3, restore_best_weights=True)"
      ],
      "metadata": {
        "id": "wJ8GRwxRlJRI"
      },
      "execution_count": 31,
      "outputs": []
    },
    {
      "cell_type": "code",
      "source": [
        "history = model.fit(train_oh, train_target,\n",
        "          validation_data=[val_oh, val_target],\n",
        "          callbacks=[checkpoint_cb, early_stopping_cb],\n",
        "          epochs=100, batch_size=64)"
      ],
      "metadata": {
        "colab": {
          "base_uri": "https://localhost:8080/"
        },
        "id": "Mk8zUEfLlJUP",
        "outputId": "41b0e5e0-1240-4fb9-bc80-22affeff271c"
      },
      "execution_count": 32,
      "outputs": [
        {
          "output_type": "stream",
          "name": "stdout",
          "text": [
            "Epoch 1/100\n",
            "313/313 [==============================] - 20s 54ms/step - loss: 0.6983 - accuracy: 0.5026 - val_loss: 0.6964 - val_accuracy: 0.5044\n",
            "Epoch 2/100\n",
            "313/313 [==============================] - 13s 40ms/step - loss: 0.6948 - accuracy: 0.5108 - val_loss: 0.6940 - val_accuracy: 0.5160\n",
            "Epoch 3/100\n",
            "313/313 [==============================] - 14s 43ms/step - loss: 0.6918 - accuracy: 0.5203 - val_loss: 0.6919 - val_accuracy: 0.5260\n",
            "Epoch 4/100\n",
            "313/313 [==============================] - 13s 40ms/step - loss: 0.6891 - accuracy: 0.5343 - val_loss: 0.6897 - val_accuracy: 0.5336\n",
            "Epoch 5/100\n",
            "313/313 [==============================] - 13s 41ms/step - loss: 0.6862 - accuracy: 0.5473 - val_loss: 0.6870 - val_accuracy: 0.5508\n",
            "Epoch 6/100\n",
            "313/313 [==============================] - 13s 40ms/step - loss: 0.6826 - accuracy: 0.5594 - val_loss: 0.6833 - val_accuracy: 0.5642\n",
            "Epoch 7/100\n",
            "313/313 [==============================] - 13s 40ms/step - loss: 0.6765 - accuracy: 0.5841 - val_loss: 0.6746 - val_accuracy: 0.5922\n",
            "Epoch 8/100\n",
            "313/313 [==============================] - 13s 41ms/step - loss: 0.6511 - accuracy: 0.6373 - val_loss: 0.6273 - val_accuracy: 0.6686\n",
            "Epoch 9/100\n",
            "313/313 [==============================] - 13s 42ms/step - loss: 0.6175 - accuracy: 0.6794 - val_loss: 0.6155 - val_accuracy: 0.6866\n",
            "Epoch 10/100\n",
            "313/313 [==============================] - 13s 41ms/step - loss: 0.5998 - accuracy: 0.6982 - val_loss: 0.5961 - val_accuracy: 0.6994\n",
            "Epoch 11/100\n",
            "313/313 [==============================] - 13s 41ms/step - loss: 0.5836 - accuracy: 0.7126 - val_loss: 0.5813 - val_accuracy: 0.7152\n",
            "Epoch 12/100\n",
            "313/313 [==============================] - 13s 41ms/step - loss: 0.5692 - accuracy: 0.7261 - val_loss: 0.5700 - val_accuracy: 0.7248\n",
            "Epoch 13/100\n",
            "313/313 [==============================] - 13s 41ms/step - loss: 0.5561 - accuracy: 0.7352 - val_loss: 0.5592 - val_accuracy: 0.7306\n",
            "Epoch 14/100\n",
            "313/313 [==============================] - 13s 40ms/step - loss: 0.5442 - accuracy: 0.7448 - val_loss: 0.5488 - val_accuracy: 0.7374\n",
            "Epoch 15/100\n",
            "313/313 [==============================] - 13s 41ms/step - loss: 0.5336 - accuracy: 0.7514 - val_loss: 0.5389 - val_accuracy: 0.7458\n",
            "Epoch 16/100\n",
            "313/313 [==============================] - 13s 41ms/step - loss: 0.5238 - accuracy: 0.7569 - val_loss: 0.5302 - val_accuracy: 0.7516\n",
            "Epoch 17/100\n",
            "313/313 [==============================] - 13s 41ms/step - loss: 0.5160 - accuracy: 0.7621 - val_loss: 0.5270 - val_accuracy: 0.7518\n",
            "Epoch 18/100\n",
            "313/313 [==============================] - 13s 41ms/step - loss: 0.5085 - accuracy: 0.7659 - val_loss: 0.5160 - val_accuracy: 0.7586\n",
            "Epoch 19/100\n",
            "313/313 [==============================] - 13s 41ms/step - loss: 0.5017 - accuracy: 0.7692 - val_loss: 0.5175 - val_accuracy: 0.7548\n",
            "Epoch 20/100\n",
            "313/313 [==============================] - 13s 41ms/step - loss: 0.4957 - accuracy: 0.7744 - val_loss: 0.5073 - val_accuracy: 0.7652\n",
            "Epoch 21/100\n",
            "313/313 [==============================] - 13s 41ms/step - loss: 0.4894 - accuracy: 0.7780 - val_loss: 0.5028 - val_accuracy: 0.7668\n",
            "Epoch 22/100\n",
            "313/313 [==============================] - 13s 41ms/step - loss: 0.4839 - accuracy: 0.7800 - val_loss: 0.5106 - val_accuracy: 0.7564\n",
            "Epoch 23/100\n",
            "313/313 [==============================] - 13s 41ms/step - loss: 0.4786 - accuracy: 0.7832 - val_loss: 0.4919 - val_accuracy: 0.7738\n",
            "Epoch 24/100\n",
            "313/313 [==============================] - 13s 42ms/step - loss: 0.4723 - accuracy: 0.7873 - val_loss: 0.4893 - val_accuracy: 0.7766\n",
            "Epoch 25/100\n",
            "313/313 [==============================] - 13s 42ms/step - loss: 0.4697 - accuracy: 0.7888 - val_loss: 0.4870 - val_accuracy: 0.7736\n",
            "Epoch 26/100\n",
            "313/313 [==============================] - 13s 41ms/step - loss: 0.4651 - accuracy: 0.7930 - val_loss: 0.4865 - val_accuracy: 0.7738\n",
            "Epoch 27/100\n",
            "313/313 [==============================] - 13s 41ms/step - loss: 0.4607 - accuracy: 0.7944 - val_loss: 0.4822 - val_accuracy: 0.7750\n",
            "Epoch 28/100\n",
            "313/313 [==============================] - 13s 41ms/step - loss: 0.4573 - accuracy: 0.7972 - val_loss: 0.4811 - val_accuracy: 0.7752\n",
            "Epoch 29/100\n",
            "313/313 [==============================] - 13s 41ms/step - loss: 0.4539 - accuracy: 0.7990 - val_loss: 0.4801 - val_accuracy: 0.7770\n",
            "Epoch 30/100\n",
            "313/313 [==============================] - 13s 41ms/step - loss: 0.4512 - accuracy: 0.8011 - val_loss: 0.4808 - val_accuracy: 0.7774\n",
            "Epoch 31/100\n",
            "313/313 [==============================] - 13s 41ms/step - loss: 0.4486 - accuracy: 0.8012 - val_loss: 0.4782 - val_accuracy: 0.7802\n",
            "Epoch 32/100\n",
            "313/313 [==============================] - 13s 42ms/step - loss: 0.4464 - accuracy: 0.8040 - val_loss: 0.4835 - val_accuracy: 0.7728\n",
            "Epoch 33/100\n",
            "313/313 [==============================] - 13s 42ms/step - loss: 0.4443 - accuracy: 0.8048 - val_loss: 0.4757 - val_accuracy: 0.7792\n",
            "Epoch 34/100\n",
            "313/313 [==============================] - 14s 43ms/step - loss: 0.4422 - accuracy: 0.8051 - val_loss: 0.4735 - val_accuracy: 0.7800\n",
            "Epoch 35/100\n",
            "313/313 [==============================] - 13s 43ms/step - loss: 0.4406 - accuracy: 0.8055 - val_loss: 0.4760 - val_accuracy: 0.7774\n",
            "Epoch 36/100\n",
            "313/313 [==============================] - 13s 43ms/step - loss: 0.4396 - accuracy: 0.8084 - val_loss: 0.4729 - val_accuracy: 0.7796\n",
            "Epoch 37/100\n",
            "313/313 [==============================] - 13s 42ms/step - loss: 0.4376 - accuracy: 0.8089 - val_loss: 0.4709 - val_accuracy: 0.7820\n",
            "Epoch 38/100\n",
            "313/313 [==============================] - 14s 44ms/step - loss: 0.4364 - accuracy: 0.8085 - val_loss: 0.4701 - val_accuracy: 0.7806\n",
            "Epoch 39/100\n",
            "313/313 [==============================] - 13s 42ms/step - loss: 0.4352 - accuracy: 0.8089 - val_loss: 0.4712 - val_accuracy: 0.7816\n",
            "Epoch 40/100\n",
            "313/313 [==============================] - 13s 41ms/step - loss: 0.4335 - accuracy: 0.8096 - val_loss: 0.4694 - val_accuracy: 0.7798\n",
            "Epoch 41/100\n",
            "313/313 [==============================] - 13s 43ms/step - loss: 0.4327 - accuracy: 0.8104 - val_loss: 0.4799 - val_accuracy: 0.7730\n",
            "Epoch 42/100\n",
            "313/313 [==============================] - 15s 47ms/step - loss: 0.4310 - accuracy: 0.8115 - val_loss: 0.4682 - val_accuracy: 0.7812\n",
            "Epoch 43/100\n",
            "313/313 [==============================] - 13s 43ms/step - loss: 0.4297 - accuracy: 0.8127 - val_loss: 0.4713 - val_accuracy: 0.7796\n",
            "Epoch 44/100\n",
            "313/313 [==============================] - 13s 43ms/step - loss: 0.4297 - accuracy: 0.8131 - val_loss: 0.4684 - val_accuracy: 0.7794\n",
            "Epoch 45/100\n",
            "313/313 [==============================] - 14s 43ms/step - loss: 0.4284 - accuracy: 0.8137 - val_loss: 0.4731 - val_accuracy: 0.7798\n"
          ]
        }
      ]
    },
    {
      "cell_type": "code",
      "source": [
        "plt.plot(history.history['loss'])\n",
        "plt.plot(history.history['val_loss'])\n",
        "plt.xlabel('epoch')\n",
        "plt.ylabel('loss')\n",
        "plt.legend(['train', 'val'])\n",
        "plt.show()"
      ],
      "metadata": {
        "colab": {
          "base_uri": "https://localhost:8080/",
          "height": 279
        },
        "id": "eAFXL1pulJXW",
        "outputId": "4b5d6de3-d26f-42b2-905c-2db38102a9d0"
      },
      "execution_count": 33,
      "outputs": [
        {
          "output_type": "display_data",
          "data": {
            "image/png": "[encoded data removed]",
            "text/plain": [
              "<Figure size 432x288 with 1 Axes>"
            ]
          },
          "metadata": {
            "needs_background": "light"
          }
        }
      ]
    },
    {
      "cell_type": "markdown",
      "source": [
        "## 단어 임베딩을 사용하기"
      ],
      "metadata": {
        "id": "v3SEFFXGnhGg"
      }
    },
    {
      "cell_type": "code",
      "source": [
        "model2 = Sequential()"
      ],
      "metadata": {
        "id": "4MlURVn1mur3"
      },
      "execution_count": 34,
      "outputs": []
    },
    {
      "cell_type": "code",
      "source": [
        "model2.add(Embedding(500, 16, input_length=100))  # 16개의 실수 벡터로 출력\n",
        "model2.add(SimpleRNN(8))\n",
        "model2.add(Dense(1, activation='sigmoid'))"
      ],
      "metadata": {
        "id": "WEpRoGKSnjBv"
      },
      "execution_count": 35,
      "outputs": []
    },
    {
      "cell_type": "code",
      "source": [
        "model2.summary()"
      ],
      "metadata": {
        "colab": {
          "base_uri": "https://localhost:8080/"
        },
        "id": "oDtFFEDnnjE2",
        "outputId": "c0657e4a-17ab-4836-deab-70d729f09894"
      },
      "execution_count": 36,
      "outputs": [
        {
          "output_type": "stream",
          "name": "stdout",
          "text": [
            "Model: \"sequential_1\"\n",
            "_________________________________________________________________\n",
            " Layer (type)                Output Shape              Param #   \n",
            "=================================================================\n",
            " embedding (Embedding)       (None, 100, 16)           8000      \n",
            "                                                                 \n",
            " simple_rnn_1 (SimpleRNN)    (None, 8)                 200       \n",
            "                                                                 \n",
            " dense_1 (Dense)             (None, 1)                 9         \n",
            "                                                                 \n",
            "=================================================================\n",
            "Total params: 8,209\n",
            "Trainable params: 8,209\n",
            "Non-trainable params: 0\n",
            "_________________________________________________________________\n"
          ]
        }
      ]
    },
    {
      "cell_type": "markdown",
      "source": [
        "8000 = 500 \\* 16, 200 = 16 \\* 8 + 8 \\* 8 (8개노드 순환입력) + 8"
      ],
      "metadata": {
        "id": "wkIYBDuyr6vP"
      }
    },
    {
      "cell_type": "code",
      "source": [
        "rmsprop = RMSprop(learning_rate=1e-4)\n",
        "model2.compile(optimizer=rmsprop, loss='binary_crossentropy', metrics=['accuracy'])\n",
        "\n",
        "checkpoint_cb = ModelCheckpoint('best-embedding-model.h5', save_best_only=True)\n",
        "early_stopping_cb = EarlyStopping(patience=3, restore_best_weights=True)"
      ],
      "metadata": {
        "id": "jr2ieatOmuu2"
      },
      "execution_count": 39,
      "outputs": []
    },
    {
      "cell_type": "code",
      "source": [
        "history = model2.fit(train_seq, train_target, epochs=100, batch_size=64,\n",
        "                     validation_data=(val_seq, val_target),\n",
        "                     callbacks=[checkpoint_cb, early_stopping_cb])"
      ],
      "metadata": {
        "colab": {
          "base_uri": "https://localhost:8080/"
        },
        "id": "K7FcqrPAxCk1",
        "outputId": "cce36f25-60cb-4b51-feb5-efaceaa55868"
      },
      "execution_count": 40,
      "outputs": [
        {
          "output_type": "stream",
          "name": "stdout",
          "text": [
            "Epoch 1/100\n",
            "313/313 [==============================] - 9s 24ms/step - loss: 0.6793 - accuracy: 0.5651 - val_loss: 0.6437 - val_accuracy: 0.6486\n",
            "Epoch 2/100\n",
            "313/313 [==============================] - 7s 23ms/step - loss: 0.6132 - accuracy: 0.6912 - val_loss: 0.5951 - val_accuracy: 0.7092\n",
            "Epoch 3/100\n",
            "313/313 [==============================] - 7s 23ms/step - loss: 0.5778 - accuracy: 0.7314 - val_loss: 0.5758 - val_accuracy: 0.7344\n",
            "Epoch 4/100\n",
            "313/313 [==============================] - 7s 23ms/step - loss: 0.5575 - accuracy: 0.7487 - val_loss: 0.5567 - val_accuracy: 0.7510\n",
            "Epoch 5/100\n",
            "313/313 [==============================] - 7s 23ms/step - loss: 0.5410 - accuracy: 0.7643 - val_loss: 0.5460 - val_accuracy: 0.7558\n",
            "Epoch 6/100\n",
            "313/313 [==============================] - 10s 32ms/step - loss: 0.5283 - accuracy: 0.7716 - val_loss: 0.5378 - val_accuracy: 0.7578\n",
            "Epoch 7/100\n",
            "313/313 [==============================] - 7s 23ms/step - loss: 0.5153 - accuracy: 0.7786 - val_loss: 0.5242 - val_accuracy: 0.7642\n",
            "Epoch 8/100\n",
            "313/313 [==============================] - 7s 24ms/step - loss: 0.5041 - accuracy: 0.7829 - val_loss: 0.5116 - val_accuracy: 0.7678\n",
            "Epoch 9/100\n",
            "313/313 [==============================] - 7s 24ms/step - loss: 0.4920 - accuracy: 0.7878 - val_loss: 0.5073 - val_accuracy: 0.7684\n",
            "Epoch 10/100\n",
            "313/313 [==============================] - 9s 27ms/step - loss: 0.4815 - accuracy: 0.7920 - val_loss: 0.4957 - val_accuracy: 0.7720\n",
            "Epoch 11/100\n",
            "313/313 [==============================] - 8s 25ms/step - loss: 0.4715 - accuracy: 0.7959 - val_loss: 0.4898 - val_accuracy: 0.7726\n",
            "Epoch 12/100\n",
            "313/313 [==============================] - 7s 24ms/step - loss: 0.4632 - accuracy: 0.7976 - val_loss: 0.4860 - val_accuracy: 0.7730\n",
            "Epoch 13/100\n",
            "313/313 [==============================] - 7s 23ms/step - loss: 0.4565 - accuracy: 0.8011 - val_loss: 0.4828 - val_accuracy: 0.7756\n",
            "Epoch 14/100\n",
            "313/313 [==============================] - 7s 24ms/step - loss: 0.4503 - accuracy: 0.8044 - val_loss: 0.4755 - val_accuracy: 0.7800\n",
            "Epoch 15/100\n",
            "313/313 [==============================] - 7s 24ms/step - loss: 0.4442 - accuracy: 0.8069 - val_loss: 0.4715 - val_accuracy: 0.7822\n",
            "Epoch 16/100\n",
            "313/313 [==============================] - 7s 24ms/step - loss: 0.4391 - accuracy: 0.8090 - val_loss: 0.4687 - val_accuracy: 0.7820\n",
            "Epoch 17/100\n",
            "313/313 [==============================] - 7s 23ms/step - loss: 0.4353 - accuracy: 0.8108 - val_loss: 0.4671 - val_accuracy: 0.7834\n",
            "Epoch 18/100\n",
            "313/313 [==============================] - 7s 23ms/step - loss: 0.4303 - accuracy: 0.8136 - val_loss: 0.4664 - val_accuracy: 0.7822\n",
            "Epoch 19/100\n",
            "313/313 [==============================] - 7s 23ms/step - loss: 0.4274 - accuracy: 0.8142 - val_loss: 0.4694 - val_accuracy: 0.7806\n",
            "Epoch 20/100\n",
            "313/313 [==============================] - 7s 23ms/step - loss: 0.4247 - accuracy: 0.8149 - val_loss: 0.4806 - val_accuracy: 0.7756\n",
            "Epoch 21/100\n",
            "313/313 [==============================] - 7s 23ms/step - loss: 0.4208 - accuracy: 0.8174 - val_loss: 0.4599 - val_accuracy: 0.7840\n",
            "Epoch 22/100\n",
            "313/313 [==============================] - 7s 23ms/step - loss: 0.4175 - accuracy: 0.8193 - val_loss: 0.4591 - val_accuracy: 0.7868\n",
            "Epoch 23/100\n",
            "313/313 [==============================] - 8s 25ms/step - loss: 0.4147 - accuracy: 0.8191 - val_loss: 0.4585 - val_accuracy: 0.7902\n",
            "Epoch 24/100\n",
            "313/313 [==============================] - 7s 23ms/step - loss: 0.4119 - accuracy: 0.8202 - val_loss: 0.4604 - val_accuracy: 0.7870\n",
            "Epoch 25/100\n",
            "313/313 [==============================] - 7s 23ms/step - loss: 0.4088 - accuracy: 0.8237 - val_loss: 0.4555 - val_accuracy: 0.7864\n",
            "Epoch 26/100\n",
            "313/313 [==============================] - 7s 23ms/step - loss: 0.4067 - accuracy: 0.8257 - val_loss: 0.4565 - val_accuracy: 0.7876\n",
            "Epoch 27/100\n",
            "313/313 [==============================] - 7s 23ms/step - loss: 0.4042 - accuracy: 0.8248 - val_loss: 0.4594 - val_accuracy: 0.7852\n",
            "Epoch 28/100\n",
            "313/313 [==============================] - 7s 23ms/step - loss: 0.4018 - accuracy: 0.8263 - val_loss: 0.4553 - val_accuracy: 0.7870\n",
            "Epoch 29/100\n",
            "313/313 [==============================] - 7s 23ms/step - loss: 0.3991 - accuracy: 0.8284 - val_loss: 0.4564 - val_accuracy: 0.7904\n",
            "Epoch 30/100\n",
            "313/313 [==============================] - 7s 23ms/step - loss: 0.3974 - accuracy: 0.8288 - val_loss: 0.4540 - val_accuracy: 0.7934\n",
            "Epoch 31/100\n",
            "313/313 [==============================] - 7s 23ms/step - loss: 0.3950 - accuracy: 0.8302 - val_loss: 0.4542 - val_accuracy: 0.7898\n",
            "Epoch 32/100\n",
            "313/313 [==============================] - 7s 23ms/step - loss: 0.3933 - accuracy: 0.8321 - val_loss: 0.4586 - val_accuracy: 0.7862\n",
            "Epoch 33/100\n",
            "313/313 [==============================] - 7s 23ms/step - loss: 0.3921 - accuracy: 0.8321 - val_loss: 0.4559 - val_accuracy: 0.7918\n"
          ]
        }
      ]
    },
    {
      "cell_type": "code",
      "source": [
        "plt.plot(history.history['loss'])\n",
        "plt.plot(history.history['val_loss'])\n",
        "plt.xlabel('epoch')\n",
        "plt.ylabel('loss')\n",
        "plt.legend(['train', 'val'])\n",
        "plt.show()"
      ],
      "metadata": {
        "colab": {
          "base_uri": "https://localhost:8080/",
          "height": 279
        },
        "id": "IcJSW5lcajG2",
        "outputId": "5c082cb3-4e30-4026-d505-0e96105e9635"
      },
      "execution_count": 41,
      "outputs": [
        {
          "output_type": "display_data",
          "data": {
            "image/png": "[encoded data removed]",
            "text/plain": [
              "<Figure size 432x288 with 1 Axes>"
            ]
          },
          "metadata": {
            "needs_background": "light"
          }
        }
      ]
    }
  ],
  "metadata": {
    "accelerator": "GPU",
    "colab": {
      "name": "9-2.ipynb",
      "provenance": [],
      "include_colab_link": true
    },
    "kernelspec": {
      "display_name": "Python 3 (ipykernel)",
      "language": "python",
      "name": "python3"
    },
    "language_info": {
      "codemirror_mode": {
        "name": "ipython",
        "version": 3
      },
      "file_extension": ".py",
      "mimetype": "text/x-python",
      "name": "python",
      "nbconvert_exporter": "python",
      "pygments_lexer": "ipython3",
      "version": "3.7.3"
    }
  },
  "nbformat": 4,
  "nbformat_minor": 0
}
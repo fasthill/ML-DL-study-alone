{
  "cells": [
    {
      "cell_type": "markdown",
      "metadata": {
        "id": "view-in-github",
        "colab_type": "text"
      },
      "source": [
        "<a href=\"https://colab.research.google.com/github/fasthill/ML-DL-study-alone/blob/main/8-3%20%ED%95%A9%EC%84%B1%EA%B3%B1%20%EC%8B%A0%EA%B2%BD%EB%A7%9D%EC%9D%98%20%EC%8B%9C%EA%B0%81%ED%99%94.ipynb\" target=\"_parent\"><img src=\"https://colab.research.google.com/assets/colab-badge.svg\" alt=\"Open In Colab\"/></a>"
      ]
    },
    {
      "cell_type": "markdown",
      "metadata": {
        "id": "Khb4cafb5-It"
      },
      "source": [
        "# 합성곱 신경망의 시각화"
      ]
    },
    {
      "cell_type": "markdown",
      "metadata": {
        "id": "10YURv8s5-I0"
      },
      "source": [
        "## 가중치 시각화"
      ]
    },
    {
      "cell_type": "markdown",
      "source": [
        "#### 저장된 best cnn model.h5 읽어 오기"
      ],
      "metadata": {
        "id": "x_Fk6Jo4H9VJ"
      }
    },
    {
      "cell_type": "code",
      "source": [
        "!wget https://github.com/fasthill/ML-DL-study-alone/raw/main/best_cnn_model.h5  # github 데이터 이용 -- repo이름/raw/main/ branch 이름 삽입"
      ],
      "metadata": {
        "id": "rm3ZFAjB6ndl",
        "colab": {
          "base_uri": "https://localhost:8080/"
        },
        "outputId": "20d6097d-90c5-41b2-f4ab-92292947f46c"
      },
      "execution_count": 1,
      "outputs": [
        {
          "output_type": "stream",
          "name": "stdout",
          "text": [
            "--2022-03-07 06:41:24--  https://github.com/fasthill/ML-DL-study-alone/raw/main/best_cnn_model.h5\n",
            "Resolving github.com (github.com)... 140.82.112.4\n",
            "Connecting to github.com (github.com)|140.82.112.4|:443... connected.\n",
            "HTTP request sent, awaiting response... 302 Found\n",
            "Location: https://raw.githubusercontent.com/fasthill/ML-DL-study-alone/main/best_cnn_model.h5 [following]\n",
            "--2022-03-07 06:41:25--  https://raw.githubusercontent.com/fasthill/ML-DL-study-alone/main/best_cnn_model.h5\n",
            "Resolving raw.githubusercontent.com (raw.githubusercontent.com)... 185.199.110.133, 185.199.109.133, 185.199.111.133, ...\n",
            "Connecting to raw.githubusercontent.com (raw.githubusercontent.com)|185.199.110.133|:443... connected.\n",
            "HTTP request sent, awaiting response... 200 OK\n",
            "Length: 4049416 (3.9M) [application/octet-stream]\n",
            "Saving to: ‘best_cnn_model.h5’\n",
            "\n",
            "best_cnn_model.h5   100%[===================>]   3.86M  --.-KB/s    in 0.09s   \n",
            "\n",
            "2022-03-07 06:41:25 (44.7 MB/s) - ‘best_cnn_model.h5’ saved [4049416/4049416]\n",
            "\n"
          ]
        }
      ]
    },
    {
      "cell_type": "code",
      "source": [
        "import numpy as np\n",
        "import matplotlib.pyplot as plt\n",
        "\n",
        "from sklearn.model_selection import train_test_split\n",
        "from tensorflow import keras\n",
        "from tensorflow.keras.datasets import fashion_mnist\n",
        "from tensorflow.keras.models import load_model\n",
        "from tensorflow.keras.layers import Conv2D, MaxPooling2D, Flatten, Dense, Dropout\n",
        "from tensorflow.keras import Sequential, Input, Model\n",
        "from tensorflow.keras.callbacks import EarlyStopping, ModelCheckpoint"
      ],
      "metadata": {
        "id": "I90zSHibIIqw"
      },
      "execution_count": 2,
      "outputs": []
    },
    {
      "cell_type": "code",
      "source": [
        "model = load_model('best_cnn_model.h5')"
      ],
      "metadata": {
        "id": "mTeyJ3OTIItw"
      },
      "execution_count": 3,
      "outputs": []
    },
    {
      "cell_type": "code",
      "source": [
        "model.summary()"
      ],
      "metadata": {
        "colab": {
          "base_uri": "https://localhost:8080/"
        },
        "id": "uu2qCKMrIIw4",
        "outputId": "460f1241-7d5e-4c16-f79d-9e64a543a920"
      },
      "execution_count": 4,
      "outputs": [
        {
          "output_type": "stream",
          "name": "stdout",
          "text": [
            "Model: \"sequential\"\n",
            "_________________________________________________________________\n",
            " Layer (type)                Output Shape              Param #   \n",
            "=================================================================\n",
            " conv2d (Conv2D)             (None, 28, 28, 32)        320       \n",
            "                                                                 \n",
            " max_pooling2d (MaxPooling2D  (None, 14, 14, 32)       0         \n",
            " )                                                               \n",
            "                                                                 \n",
            " conv2d_1 (Conv2D)           (None, 14, 14, 64)        18496     \n",
            "                                                                 \n",
            " max_pooling2d_1 (MaxPooling  (None, 7, 7, 64)         0         \n",
            " 2D)                                                             \n",
            "                                                                 \n",
            " flatten (Flatten)           (None, 3136)              0         \n",
            "                                                                 \n",
            " dense (Dense)               (None, 100)               313700    \n",
            "                                                                 \n",
            " dropout (Dropout)           (None, 100)               0         \n",
            "                                                                 \n",
            " dense_1 (Dense)             (None, 10)                1010      \n",
            "                                                                 \n",
            "=================================================================\n",
            "Total params: 333,526\n",
            "Trainable params: 333,526\n",
            "Non-trainable params: 0\n",
            "_________________________________________________________________\n"
          ]
        }
      ]
    },
    {
      "cell_type": "code",
      "source": [
        "model.layers"
      ],
      "metadata": {
        "colab": {
          "base_uri": "https://localhost:8080/"
        },
        "id": "xxBjATB1II0g",
        "outputId": "64e47e60-ab89-484e-e290-400a03db70a8"
      },
      "execution_count": 5,
      "outputs": [
        {
          "output_type": "execute_result",
          "data": {
            "text/plain": [
              "[<keras.layers.convolutional.Conv2D at 0x7f80ec735690>,\n",
              " <keras.layers.pooling.MaxPooling2D at 0x7f80e8677290>,\n",
              " <keras.layers.convolutional.Conv2D at 0x7f80f0cc5090>,\n",
              " <keras.layers.pooling.MaxPooling2D at 0x7f80e8584a50>,\n",
              " <keras.layers.core.flatten.Flatten at 0x7f80ed2bc4d0>,\n",
              " <keras.layers.core.dense.Dense at 0x7f80e858ef10>,\n",
              " <keras.layers.core.dropout.Dropout at 0x7f80e8593c90>,\n",
              " <keras.layers.core.dense.Dense at 0x7f80e859df50>]"
            ]
          },
          "metadata": {},
          "execution_count": 5
        }
      ]
    },
    {
      "cell_type": "code",
      "source": [
        "type(model.layers[0])"
      ],
      "metadata": {
        "colab": {
          "base_uri": "https://localhost:8080/"
        },
        "id": "ar6nKqsBI9fZ",
        "outputId": "f218531e-6ce7-41a2-eeaa-ad6c48576374"
      },
      "execution_count": 6,
      "outputs": [
        {
          "output_type": "execute_result",
          "data": {
            "text/plain": [
              "keras.layers.convolutional.Conv2D"
            ]
          },
          "metadata": {},
          "execution_count": 6
        }
      ]
    },
    {
      "cell_type": "code",
      "source": [
        "# dir(model.layers[0])"
      ],
      "metadata": {
        "id": "R-F0HZN-I9iX"
      },
      "execution_count": 7,
      "outputs": []
    },
    {
      "cell_type": "code",
      "source": [
        "model.layers[0].kernel.shape"
      ],
      "metadata": {
        "colab": {
          "base_uri": "https://localhost:8080/"
        },
        "id": "3t3aXdVzI9lO",
        "outputId": "b67d720e-91ae-4831-db51-1b5ba41c7ea1"
      },
      "execution_count": 8,
      "outputs": [
        {
          "output_type": "execute_result",
          "data": {
            "text/plain": [
              "TensorShape([3, 3, 1, 32])"
            ]
          },
          "metadata": {},
          "execution_count": 8
        }
      ]
    },
    {
      "cell_type": "code",
      "source": [
        "conv = model.layers[0]  # 첫번째 layer"
      ],
      "metadata": {
        "id": "DcHfn91KLjdl"
      },
      "execution_count": 9,
      "outputs": []
    },
    {
      "cell_type": "code",
      "source": [
        "print('kernel size : {} \\nbias_size : {}'.format(conv.weights[0].shape, conv.weights[1].shape))\n",
        "# 필터 갯수 32, kernel size; 3 by 3 by 1 channel\n",
        "# 절편은 filter 갯수"
      ],
      "metadata": {
        "colab": {
          "base_uri": "https://localhost:8080/"
        },
        "id": "IRodLdH7I9oH",
        "outputId": "7985f969-9a27-42de-a8ef-d17f82ef1a3d"
      },
      "execution_count": 10,
      "outputs": [
        {
          "output_type": "stream",
          "name": "stdout",
          "text": [
            "kernel size : (3, 3, 1, 32) \n",
            "bias_size : (32,)\n"
          ]
        }
      ]
    },
    {
      "cell_type": "code",
      "source": [
        "conv_weights = conv.weights[0].numpy()"
      ],
      "metadata": {
        "id": "P-9DKD-pL7Af"
      },
      "execution_count": 11,
      "outputs": []
    },
    {
      "cell_type": "code",
      "source": [
        "conv_weights.shape"
      ],
      "metadata": {
        "colab": {
          "base_uri": "https://localhost:8080/"
        },
        "id": "Ewsoh1nYP7wn",
        "outputId": "992051b1-9176-4d73-d42e-138833c9fee7"
      },
      "execution_count": 12,
      "outputs": [
        {
          "output_type": "execute_result",
          "data": {
            "text/plain": [
              "(3, 3, 1, 32)"
            ]
          },
          "metadata": {},
          "execution_count": 12
        }
      ]
    },
    {
      "cell_type": "code",
      "source": [
        "print(conv_weights.mean(), conv_weights.std())"
      ],
      "metadata": {
        "colab": {
          "base_uri": "https://localhost:8080/"
        },
        "id": "y-vIhbDsOOEm",
        "outputId": "4dbe0d8e-df67-48bf-9cbd-83a96268cd36"
      },
      "execution_count": 13,
      "outputs": [
        {
          "output_type": "stream",
          "name": "stdout",
          "text": [
            "-0.008936822 0.21529211\n"
          ]
        }
      ]
    },
    {
      "cell_type": "code",
      "source": [
        "print(conv_weights.max(), conv_weights.min())"
      ],
      "metadata": {
        "colab": {
          "base_uri": "https://localhost:8080/"
        },
        "id": "ZXwKUbo1PIG_",
        "outputId": "8d9c156c-7078-4d0a-8bb9-8f02e62de5f4"
      },
      "execution_count": 14,
      "outputs": [
        {
          "output_type": "stream",
          "name": "stdout",
          "text": [
            "0.37304044 -1.3444066\n"
          ]
        }
      ]
    },
    {
      "cell_type": "code",
      "source": [
        "plt.hist(conv_weights.reshape(-1, 1), bins=15)\n",
        "plt.xlabel('weight')\n",
        "plt.ylabel('count')\n",
        "plt.show()"
      ],
      "metadata": {
        "colab": {
          "base_uri": "https://localhost:8080/",
          "height": 279
        },
        "id": "FzGxMrNGOpXm",
        "outputId": "0d93419e-882c-42bf-c971-0046d93a96ef"
      },
      "execution_count": 15,
      "outputs": [
        {
          "output_type": "display_data",
          "data": {
            "image/png": "[encoded data removed]",
            "text/plain": [
              "<Figure size 432x288 with 1 Axes>"
            ]
          },
          "metadata": {
            "needs_background": "light"
          }
        }
      ]
    },
    {
      "cell_type": "code",
      "source": [
        "figs, axs = plt.subplots(4, 8, figsize=(14,6))\n",
        "for i in range(4):\n",
        "  for j in range(8):\n",
        "    # axs[i,j].imshow(conv_weights[:,:,0,i*4 + j])\n",
        "    axs[i,j].imshow(conv_weights[:,:,0,i*4 + j], vmin=-0.5, vmax=0.5)\n",
        "    axs[i,j].axis('off')"
      ],
      "metadata": {
        "colab": {
          "base_uri": "https://localhost:8080/",
          "height": 357
        },
        "id": "6a0Du3KwQqk3",
        "outputId": "5fccfa3e-7c97-4690-d2e0-57dbe0b66a94"
      },
      "execution_count": 16,
      "outputs": [
        {
          "output_type": "display_data",
          "data": {
            "image/png": "[encoded data removed]",
            "text/plain": [
              "<Figure size 1008x432 with 32 Axes>"
            ]
          },
          "metadata": {
            "needs_background": "light"
          }
        }
      ]
    },
    {
      "cell_type": "code",
      "source": [
        "no_training_model = Sequential()\n",
        "no_training_model.add(Conv2D(32, kernel_size=3, activation='relu', padding='same', input_shape=(28,28,1)))"
      ],
      "metadata": {
        "id": "x14-YwWmbKUE"
      },
      "execution_count": 17,
      "outputs": []
    },
    {
      "cell_type": "code",
      "source": [
        "no_training_model.layers  # 한 개의 layer만 있음."
      ],
      "metadata": {
        "colab": {
          "base_uri": "https://localhost:8080/"
        },
        "id": "xS7YbVDWdjJN",
        "outputId": "2aae0a43-b8b4-435e-997e-5dc3b86f17b1"
      },
      "execution_count": 18,
      "outputs": [
        {
          "output_type": "execute_result",
          "data": {
            "text/plain": [
              "[<keras.layers.convolutional.Conv2D at 0x7f80e8527050>]"
            ]
          },
          "metadata": {},
          "execution_count": 18
        }
      ]
    },
    {
      "cell_type": "code",
      "source": [
        "no_training_conv = no_training_model.layers[0]\n",
        "print('kernel size : {}'.format(no_training_conv.weights[0].shape))\n",
        "# 필터 갯수 32, kernel size; 3 by 3 by 1 channel"
      ],
      "metadata": {
        "colab": {
          "base_uri": "https://localhost:8080/"
        },
        "id": "so5lXqBMbKkx",
        "outputId": "63958c41-2360-4ea2-e514-d3ca1fa8bf40"
      },
      "execution_count": 19,
      "outputs": [
        {
          "output_type": "stream",
          "name": "stdout",
          "text": [
            "kernel size : (3, 3, 1, 32)\n"
          ]
        }
      ]
    },
    {
      "cell_type": "code",
      "source": [
        "no_training_weights = no_training_conv.weights[0].numpy()"
      ],
      "metadata": {
        "id": "HN53kyRGcVGb"
      },
      "execution_count": 20,
      "outputs": []
    },
    {
      "cell_type": "code",
      "source": [
        "print(no_training_weights.mean(), no_training_weights.std())"
      ],
      "metadata": {
        "colab": {
          "base_uri": "https://localhost:8080/"
        },
        "id": "aE4HiQEsenVI",
        "outputId": "4ac9df7b-3edf-4edc-cb42-81ae40d76a79"
      },
      "execution_count": 21,
      "outputs": [
        {
          "output_type": "stream",
          "name": "stdout",
          "text": [
            "0.009820461 0.082429156\n"
          ]
        }
      ]
    },
    {
      "cell_type": "code",
      "source": [
        "no_training_weights.shape"
      ],
      "metadata": {
        "colab": {
          "base_uri": "https://localhost:8080/"
        },
        "id": "9r7JFYmbOOH3",
        "outputId": "f91ffae2-a3a0-43b4-ebd4-e6a8013ac0fa"
      },
      "execution_count": 22,
      "outputs": [
        {
          "output_type": "execute_result",
          "data": {
            "text/plain": [
              "(3, 3, 1, 32)"
            ]
          },
          "metadata": {},
          "execution_count": 22
        }
      ]
    },
    {
      "cell_type": "code",
      "source": [
        "plt.hist(no_training_weights.reshape(-1, 1))\n",
        "plt.xlabel('weight')\n",
        "plt.ylabel('count')\n",
        "plt.show()"
      ],
      "metadata": {
        "colab": {
          "base_uri": "https://localhost:8080/",
          "height": 279
        },
        "id": "snrET4ZSeWXa",
        "outputId": "6bf6c1b0-4002-4f1b-d025-da5acf578625"
      },
      "execution_count": 23,
      "outputs": [
        {
          "output_type": "display_data",
          "data": {
            "image/png": "[encoded data removed]",
            "text/plain": [
              "<Figure size 432x288 with 1 Axes>"
            ]
          },
          "metadata": {
            "needs_background": "light"
          }
        }
      ]
    },
    {
      "cell_type": "code",
      "source": [
        "figs, axs = plt.subplots(4, 8, figsize=(14,6))\n",
        "for i in range(4):\n",
        "  for j in range(8):\n",
        "    # axs[i,j].imshow(conv_weights[:,:,0,i*4 + j])\n",
        "    axs[i,j].imshow(no_training_weights[:,:,0,i*4 + j], vmin=-0.5, vmax=0.5)\n",
        "    axs[i,j].axis('off')\n",
        "plt.show()"
      ],
      "metadata": {
        "colab": {
          "base_uri": "https://localhost:8080/",
          "height": 357
        },
        "id": "zumbrh0LOOLP",
        "outputId": "3c8b5be5-6a8e-4423-8fd2-18aae5f796d1"
      },
      "execution_count": 24,
      "outputs": [
        {
          "output_type": "display_data",
          "data": {
            "image/png": "[encoded data removed]",
            "text/plain": [
              "<Figure size 1008x432 with 32 Axes>"
            ]
          },
          "metadata": {
            "needs_background": "light"
          }
        }
      ]
    },
    {
      "cell_type": "markdown",
      "metadata": {
        "id": "GEc9KyP35-I6"
      },
      "source": [
        "## 함수형 API"
      ]
    },
    {
      "cell_type": "markdown",
      "source": [
        "#### sequential API에서는 model = Sequential() 선언후 model.add() 등으로 진행하나, <br> \n",
        "#### functional API에서는 model =  Model()로 객체 구성을 마지막에 구성함."
      ],
      "metadata": {
        "id": "scai7wu9vZ39"
      }
    },
    {
      "cell_type": "code",
      "source": [
        "print(model.input)"
      ],
      "metadata": {
        "colab": {
          "base_uri": "https://localhost:8080/"
        },
        "id": "ePPOypIMeWaw",
        "outputId": "5ca9e7be-4779-4d2f-ffb3-f6138cdf3019"
      },
      "execution_count": 25,
      "outputs": [
        {
          "output_type": "stream",
          "name": "stdout",
          "text": [
            "KerasTensor(type_spec=TensorSpec(shape=(None, 28, 28, 1), dtype=tf.float32, name='conv2d_input'), name='conv2d_input', description=\"created by layer 'conv2d_input'\")\n"
          ]
        }
      ]
    },
    {
      "cell_type": "code",
      "source": [
        "conv_acti = Model(model.input, model.layers[0].output)"
      ],
      "metadata": {
        "id": "6UmpAaYCeWeE"
      },
      "execution_count": 26,
      "outputs": []
    },
    {
      "cell_type": "code",
      "source": [
        "# conv_one = Conv2D(32, kernel_size=3, activation='relu', padding='same')\n",
        "# conv_two = Conv2D(64, kernel_size=3, activation='relu', padding='same')\n",
        "# maxpooling = MaxPooling2D(2)\n",
        "# flatten = Flatten()\n",
        "# dense_one = Dense(100, activation='relu')\n",
        "# dropout = Dropout(0.4)\n",
        "# dense_two = Dense(10, activation='softmax')\n",
        "\n",
        "# inputs = Input(shape=(28,28,1))\n",
        "# conv1 = conv_one(input)\n",
        "# maxpool1 = maxpooling(conv1)\n",
        "# conv2 = conv_two(maxpool1)\n",
        "# maxpool2 = maxpooling(conv2)\n",
        "# flatten1 = flatten(maxpool2)(maxpool2)\n",
        "# dense1 = dense_one(flatten1)\n",
        "# dropout1 = dropout(dense1)\n",
        "# output = dense_two(dropout1)\n",
        "# model = Model(inputs=inputs, outputs=output)"
      ],
      "metadata": {
        "id": "VNu7nGUwieGY"
      },
      "execution_count": 27,
      "outputs": []
    },
    {
      "cell_type": "markdown",
      "source": [
        "위와 같이 객체를 구성하여 해도 되고, 아래와 같이 직접 구성해도 됨."
      ],
      "metadata": {
        "id": "NQOi_qWizljx"
      }
    },
    {
      "cell_type": "code",
      "source": [
        "inputs = Input(shape=(28,28,1))\n",
        "conv1 = Conv2D(32, kernel_size=3, activation='relu', padding='same')(inputs)\n",
        "maxpool1 = MaxPooling2D(2)(conv1)\n",
        "conv2 = Conv2D(64, kernel_size=3, activation='relu', padding='same')(maxpool1)\n",
        "maxpool2 = MaxPooling2D(2)(conv2)\n",
        "flatten1 = Flatten()(maxpool2)\n",
        "dense1 = Dense(100, activation='relu')(flatten1)\n",
        "dropout1 = Dropout(0.4)(dense1)\n",
        "output = Dense(10, activation='softmax')(dropout1)\n",
        "model_f = Model(inputs=inputs, outputs=output)"
      ],
      "metadata": {
        "id": "uNVPCQN-ieJf"
      },
      "execution_count": 28,
      "outputs": []
    },
    {
      "cell_type": "code",
      "source": [
        "model_f.compile(optimizer='adam', loss='sparse_categorical_crossentropy', metrics='accuracy')"
      ],
      "metadata": {
        "id": "E9YrjwtfieQP"
      },
      "execution_count": 29,
      "outputs": []
    },
    {
      "cell_type": "code",
      "source": [
        "(train_input, train_target), (test_input, test_target) = fashion_mnist.load_data()\n",
        "train_scaled = train_input.reshape(-1, 28,28,1) / 255\n",
        "train_scaled, val_scaled, train_target, val_target = train_test_split(train_scaled, train_target, test_size=0.2, random_state=42)"
      ],
      "metadata": {
        "colab": {
          "base_uri": "https://localhost:8080/"
        },
        "id": "944P-8YP0rP6",
        "outputId": "c7f2d2d4-4e0b-4f14-b064-fa41e4b3d87f"
      },
      "execution_count": 30,
      "outputs": [
        {
          "output_type": "stream",
          "name": "stdout",
          "text": [
            "Downloading data from https://storage.googleapis.com/tensorflow/tf-keras-datasets/train-labels-idx1-ubyte.gz\n",
            "32768/29515 [=================================] - 0s 0us/step\n",
            "40960/29515 [=========================================] - 0s 0us/step\n",
            "Downloading data from https://storage.googleapis.com/tensorflow/tf-keras-datasets/train-images-idx3-ubyte.gz\n",
            "26427392/26421880 [==============================] - 1s 0us/step\n",
            "26435584/26421880 [==============================] - 1s 0us/step\n",
            "Downloading data from https://storage.googleapis.com/tensorflow/tf-keras-datasets/t10k-labels-idx1-ubyte.gz\n",
            "16384/5148 [===============================================================================================] - 0s 0us/step\n",
            "Downloading data from https://storage.googleapis.com/tensorflow/tf-keras-datasets/t10k-images-idx3-ubyte.gz\n",
            "4423680/4422102 [==============================] - 0s 0us/step\n",
            "4431872/4422102 [==============================] - 0s 0us/step\n"
          ]
        }
      ]
    },
    {
      "cell_type": "code",
      "source": [
        "checkpoint_cb = ModelCheckpoint('best_cnn_model_func_API.h5', save_best_only=True)"
      ],
      "metadata": {
        "id": "JWQ2D_Qf1dMO"
      },
      "execution_count": 31,
      "outputs": []
    },
    {
      "cell_type": "code",
      "source": [
        "early_stopping_cb = EarlyStopping(patience=2, restore_best_weights=True)"
      ],
      "metadata": {
        "id": "MXIJXekL1dCW"
      },
      "execution_count": 32,
      "outputs": []
    },
    {
      "cell_type": "code",
      "source": [
        "history = model_f.fit(train_scaled, train_target, epochs=20, verbose=1,\n",
        "          callbacks=[checkpoint_cb, early_stopping_cb], \n",
        "          validation_data = (val_scaled, val_target))"
      ],
      "metadata": {
        "colab": {
          "base_uri": "https://localhost:8080/"
        },
        "id": "2y4dLQ7wzlCK",
        "outputId": "69b90b88-338d-459d-9f10-82d9fcf336d0"
      },
      "execution_count": 33,
      "outputs": [
        {
          "output_type": "stream",
          "name": "stdout",
          "text": [
            "Epoch 1/20\n",
            "1500/1500 [==============================] - 102s 67ms/step - loss: 0.5303 - accuracy: 0.8109 - val_loss: 0.3163 - val_accuracy: 0.8843\n",
            "Epoch 2/20\n",
            "1500/1500 [==============================] - 94s 63ms/step - loss: 0.3513 - accuracy: 0.8749 - val_loss: 0.2823 - val_accuracy: 0.8969\n",
            "Epoch 3/20\n",
            "1500/1500 [==============================] - 89s 59ms/step - loss: 0.3037 - accuracy: 0.8902 - val_loss: 0.2590 - val_accuracy: 0.9034\n",
            "Epoch 4/20\n",
            "1500/1500 [==============================] - 92s 61ms/step - loss: 0.2697 - accuracy: 0.9018 - val_loss: 0.2406 - val_accuracy: 0.9097\n",
            "Epoch 5/20\n",
            "1500/1500 [==============================] - 90s 60ms/step - loss: 0.2441 - accuracy: 0.9100 - val_loss: 0.2333 - val_accuracy: 0.9129\n",
            "Epoch 6/20\n",
            "1500/1500 [==============================] - 90s 60ms/step - loss: 0.2240 - accuracy: 0.9165 - val_loss: 0.2381 - val_accuracy: 0.9140\n",
            "Epoch 7/20\n",
            "1500/1500 [==============================] - 89s 59ms/step - loss: 0.2079 - accuracy: 0.9237 - val_loss: 0.2336 - val_accuracy: 0.9180\n"
          ]
        }
      ]
    },
    {
      "cell_type": "code",
      "source": [
        "plt.plot(history.history['val_loss'])\n",
        "plt.plot(history.history['loss'])\n",
        "plt.legend(['val_loss', 'loss'])\n",
        "plt.show()"
      ],
      "metadata": {
        "colab": {
          "base_uri": "https://localhost:8080/",
          "height": 265
        },
        "id": "EsS3DQmmzlFB",
        "outputId": "da582c78-fef8-456c-dcb3-1377e24a5a25"
      },
      "execution_count": 34,
      "outputs": [
        {
          "output_type": "display_data",
          "data": {
            "image/png": "[encoded data removed]",
            "text/plain": [
              "<Figure size 432x288 with 1 Axes>"
            ]
          },
          "metadata": {
            "needs_background": "light"
          }
        }
      ]
    },
    {
      "cell_type": "code",
      "source": [
        "plt.plot(history.history['val_accuracy'])\n",
        "plt.plot(history.history['accuracy'])\n",
        "plt.legend(['val_accuracy', 'accuracy'])\n",
        "plt.show()"
      ],
      "metadata": {
        "colab": {
          "base_uri": "https://localhost:8080/",
          "height": 265
        },
        "id": "fUYK1GS6eWl4",
        "outputId": "46f66965-963b-4b6e-bf7b-aa41e07ed7ee"
      },
      "execution_count": 35,
      "outputs": [
        {
          "output_type": "display_data",
          "data": {
            "image/png": "[encoded data removed]",
            "text/plain": [
              "<Figure size 432x288 with 1 Axes>"
            ]
          },
          "metadata": {
            "needs_background": "light"
          }
        }
      ]
    },
    {
      "cell_type": "code",
      "source": [
        "print(f'best_epoch: {early_stopping_cb.best_epoch}, stopped_epoch: {early_stopping_cb.stopped_epoch}')"
      ],
      "metadata": {
        "colab": {
          "base_uri": "https://localhost:8080/"
        },
        "id": "y2PoKuaL6R9Q",
        "outputId": "51550904-dab8-4530-81bc-568632e9924b"
      },
      "execution_count": 36,
      "outputs": [
        {
          "output_type": "stream",
          "name": "stdout",
          "text": [
            "best_epoch: 4, stopped_epoch: 6\n"
          ]
        }
      ]
    },
    {
      "cell_type": "code",
      "source": [
        "model.evaluate(val_scaled, val_target)"
      ],
      "metadata": {
        "colab": {
          "base_uri": "https://localhost:8080/"
        },
        "id": "LHCYNGKA7Pkv",
        "outputId": "6c21895b-bd49-4cce-c4c8-062388bb03a0"
      },
      "execution_count": 37,
      "outputs": [
        {
          "output_type": "stream",
          "name": "stdout",
          "text": [
            "375/375 [==============================] - 8s 20ms/step - loss: 0.2599 - accuracy: 0.9062\n"
          ]
        },
        {
          "output_type": "execute_result",
          "data": {
            "text/plain": [
              "[0.25985726714134216, 0.90625]"
            ]
          },
          "metadata": {},
          "execution_count": 37
        }
      ]
    },
    {
      "cell_type": "markdown",
      "metadata": {
        "id": "CF6JzHj-5-I6"
      },
      "source": [
        "## 특성 맵 시각화"
      ]
    },
    {
      "cell_type": "code",
      "source": [
        "plt.imshow(train_input[0], cmap='gray_r')\n",
        "plt.show()"
      ],
      "metadata": {
        "colab": {
          "base_uri": "https://localhost:8080/",
          "height": 265
        },
        "id": "92QRp98D7E0P",
        "outputId": "159d4ee0-c4f5-4d1a-a535-4043312d71e7"
      },
      "execution_count": 38,
      "outputs": [
        {
          "output_type": "display_data",
          "data": {
            "image/png": "[encoded data removed]",
            "text/plain": [
              "<Figure size 432x288 with 1 Axes>"
            ]
          },
          "metadata": {
            "needs_background": "light"
          }
        }
      ]
    },
    {
      "cell_type": "code",
      "source": [
        "train_input.shape"
      ],
      "metadata": {
        "id": "CEz9HUcxE2XE",
        "outputId": "5f3218ea-00d0-4021-f41c-9e43c478ba04",
        "colab": {
          "base_uri": "https://localhost:8080/"
        }
      },
      "execution_count": 39,
      "outputs": [
        {
          "output_type": "execute_result",
          "data": {
            "text/plain": [
              "(60000, 28, 28)"
            ]
          },
          "metadata": {},
          "execution_count": 39
        }
      ]
    },
    {
      "cell_type": "markdown",
      "source": [
        "##### 배열 슬라이싱을 하면 원래의 shape 유지함. train_input[<span style='color:red'> 0:1 </span>].shape  ==> (1, 28, 28)<br> 배열 슬라이싱이 아니면 한개의 차원이 축소됨. train_input[0].shape ==> (28, 28)"
      ],
      "metadata": {
        "id": "TxVjHWTmE_17"
      }
    },
    {
      "cell_type": "code",
      "source": [
        "train_input[0:1].shape"
      ],
      "metadata": {
        "id": "oHJzZgcvEsv0",
        "outputId": "ec074a61-5053-468f-bff9-06c7b9b946bb",
        "colab": {
          "base_uri": "https://localhost:8080/"
        }
      },
      "execution_count": 40,
      "outputs": [
        {
          "output_type": "execute_result",
          "data": {
            "text/plain": [
              "(1, 28, 28)"
            ]
          },
          "metadata": {},
          "execution_count": 40
        }
      ]
    },
    {
      "cell_type": "code",
      "source": [
        "train_input[0].shape"
      ],
      "metadata": {
        "id": "zAj9Ptq-Esyz",
        "outputId": "d4bb37bb-01e9-4c41-f967-abf74be0172f",
        "colab": {
          "base_uri": "https://localhost:8080/"
        }
      },
      "execution_count": 41,
      "outputs": [
        {
          "output_type": "execute_result",
          "data": {
            "text/plain": [
              "(28, 28)"
            ]
          },
          "metadata": {},
          "execution_count": 41
        }
      ]
    },
    {
      "cell_type": "code",
      "source": [
        "inputs = train_input[0:1].reshape(-1, 28, 28, 1)/255.0"
      ],
      "metadata": {
        "id": "pw1QP6HY7E3P"
      },
      "execution_count": 42,
      "outputs": []
    },
    {
      "cell_type": "code",
      "source": [
        "feature_maps = conv_acti.predict(inputs)"
      ],
      "metadata": {
        "id": "wcsMgLcyEnRU"
      },
      "execution_count": 43,
      "outputs": []
    },
    {
      "cell_type": "code",
      "source": [
        "fig, axs = plt.subplots(4, 8, figsize=(15,8))\n",
        "\n",
        "for i in range(4):\n",
        "    for j in range(8):\n",
        "        axs[i, j].imshow(feature_maps[0,:,:,i*8 + j])\n",
        "        axs[i, j].axis('off')\n",
        "\n",
        "plt.show()"
      ],
      "metadata": {
        "id": "_VbiH7FXEnUX",
        "outputId": "8b1f187f-e2be-4e74-e7aa-dab059e0ccb0",
        "colab": {
          "base_uri": "https://localhost:8080/",
          "height": 460
        }
      },
      "execution_count": 44,
      "outputs": [
        {
          "output_type": "display_data",
          "data": {
            "image/png": "[encoded data removed]",
            "text/plain": [
              "<Figure size 1080x576 with 32 Axes>"
            ]
          },
          "metadata": {
            "needs_background": "light"
          }
        }
      ]
    },
    {
      "cell_type": "code",
      "source": [
        "conv2_acti = keras.Model(model.input, model.layers[2].output)"
      ],
      "metadata": {
        "id": "bCYlBYdkEnfj"
      },
      "execution_count": 44,
      "outputs": []
    },
    {
      "cell_type": "code",
      "source": [
        "feature_maps = conv2_acti.predict(train_input[0:1].reshape(-1, 28, 28, 1)/255.0)"
      ],
      "metadata": {
        "id": "yg0iP5_XGrj8"
      },
      "execution_count": 45,
      "outputs": []
    },
    {
      "cell_type": "code",
      "source": [
        "print(feature_maps.shape)"
      ],
      "metadata": {
        "id": "mEi_6FugGrm6",
        "outputId": "a1d0460b-4c45-4981-f659-7cfb310ede1a",
        "colab": {
          "base_uri": "https://localhost:8080/"
        }
      },
      "execution_count": 46,
      "outputs": [
        {
          "output_type": "stream",
          "name": "stdout",
          "text": [
            "(1, 14, 14, 64)\n"
          ]
        }
      ]
    },
    {
      "cell_type": "code",
      "source": [
        "fig, axs = plt.subplots(8, 8, figsize=(12,12))\n",
        "\n",
        "for i in range(8):\n",
        "    for j in range(8):\n",
        "        axs[i, j].imshow(feature_maps[0,:,:,i*8 + j])\n",
        "        axs[i, j].axis('off')\n",
        "\n",
        "plt.show()"
      ],
      "metadata": {
        "id": "yM2ei4YVGrqC",
        "outputId": "c28d3fbe-3ace-45e1-ead7-b777bc9c4b3f",
        "colab": {
          "base_uri": "https://localhost:8080/",
          "height": 683
        }
      },
      "execution_count": 47,
      "outputs": [
        {
          "output_type": "display_data",
          "data": {
            "image/png": "[encoded data removed]",
            "text/plain": [
              "<Figure size 864x864 with 64 Axes>"
            ]
          },
          "metadata": {
            "needs_background": "light"
          }
        }
      ]
    }
  ],
  "metadata": {
    "accelerator": "GPU",
    "colab": {
      "name": "8-3.ipynb",
      "provenance": [],
      "include_colab_link": true
    },
    "kernelspec": {
      "display_name": "Python 3 (ipykernel)",
      "language": "python",
      "name": "python3"
    },
    "language_info": {
      "codemirror_mode": {
        "name": "ipython",
        "version": 3
      },
      "file_extension": ".py",
      "mimetype": "text/x-python",
      "name": "python",
      "nbconvert_exporter": "python",
      "pygments_lexer": "ipython3",
      "version": "3.7.3"
    }
  },
  "nbformat": 4,
  "nbformat_minor": 0
}
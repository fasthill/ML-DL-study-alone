{
  "cells": [
    {
      "cell_type": "markdown",
      "metadata": {
        "id": "view-in-github",
        "colab_type": "text"
      },
      "source": [
        "<a href=\"https://colab.research.google.com/github/fasthill/ML-DL-study-alone/blob/main/8-3%20%ED%95%A9%EC%84%B1%EA%B3%B1%20%EC%8B%A0%EA%B2%BD%EB%A7%9D%EC%9D%98%20%EC%8B%9C%EA%B0%81%ED%99%94.ipynb\" target=\"_parent\"><img src=\"https://colab.research.google.com/assets/colab-badge.svg\" alt=\"Open In Colab\"/></a>"
      ]
    },
    {
      "cell_type": "markdown",
      "metadata": {
        "id": "Khb4cafb5-It"
      },
      "source": [
        "# 합성곱 신경망의 시각화"
      ]
    },
    {
      "cell_type": "markdown",
      "metadata": {
        "id": "10YURv8s5-I0"
      },
      "source": [
        "## 가중치 시각화"
      ]
    },
    {
      "cell_type": "markdown",
      "source": [
        "#### 저장된 best cnn model.h5 읽어 오기"
      ],
      "metadata": {
        "id": "x_Fk6Jo4H9VJ"
      }
    },
    {
      "cell_type": "code",
      "source": [
        "!wget https://github.com/fasthill/ML-DL-study-alone/raw/main/best_cnn_model.h5  # github 데이터 이용 -- repo이름/raw/main/ branch 이름 삽입"
      ],
      "metadata": {
        "id": "rm3ZFAjB6ndl",
        "colab": {
          "base_uri": "https://localhost:8080/"
        },
        "outputId": "a4f93ebc-992f-4f7c-824f-1d1e9852eec2"
      },
      "execution_count": 41,
      "outputs": [
        {
          "output_type": "stream",
          "name": "stdout",
          "text": [
            "--2022-03-07 04:52:46--  https://github.com/fasthill/ML-DL-study-alone/raw/main/best_cnn_model.h5\n",
            "Resolving github.com (github.com)... 140.82.114.3\n",
            "Connecting to github.com (github.com)|140.82.114.3|:443... connected.\n",
            "HTTP request sent, awaiting response... 302 Found\n",
            "Location: https://raw.githubusercontent.com/fasthill/ML-DL-study-alone/main/best_cnn_model.h5 [following]\n",
            "--2022-03-07 04:52:46--  https://raw.githubusercontent.com/fasthill/ML-DL-study-alone/main/best_cnn_model.h5\n",
            "Resolving raw.githubusercontent.com (raw.githubusercontent.com)... 185.199.110.133, 185.199.108.133, 185.199.109.133, ...\n",
            "Connecting to raw.githubusercontent.com (raw.githubusercontent.com)|185.199.110.133|:443... connected.\n",
            "HTTP request sent, awaiting response... 200 OK\n",
            "Length: 4049416 (3.9M) [application/octet-stream]\n",
            "Saving to: ‘best_cnn_model.h5.1’\n",
            "\n",
            "best_cnn_model.h5.1 100%[===================>]   3.86M  --.-KB/s    in 0.07s   \n",
            "\n",
            "2022-03-07 04:52:47 (57.8 MB/s) - ‘best_cnn_model.h5.1’ saved [4049416/4049416]\n",
            "\n"
          ]
        }
      ]
    },
    {
      "cell_type": "code",
      "source": [
        "import numpy as np\n",
        "import matplotlib.pyplot as plt\n",
        "\n",
        "from sklearn.model_selection import train_test_split\n",
        "from tensorflow import keras\n",
        "from tensorflow.keras.datasets import fashion_mnist\n",
        "from tensorflow.keras.models import load_model\n",
        "from tensorflow.keras.layers import Conv2D, MaxPooling2D, Flatten, Dense, Dropout\n",
        "from tensorflow.keras import Sequential, Input, Model\n",
        "from tensorflow.keras.callbacks import EarlyStopping, ModelCheckpoint"
      ],
      "metadata": {
        "id": "I90zSHibIIqw"
      },
      "execution_count": 78,
      "outputs": []
    },
    {
      "cell_type": "code",
      "source": [
        "model = load_model('best_cnn_model.h5')"
      ],
      "metadata": {
        "id": "mTeyJ3OTIItw"
      },
      "execution_count": 43,
      "outputs": []
    },
    {
      "cell_type": "code",
      "source": [
        "model.summary()"
      ],
      "metadata": {
        "colab": {
          "base_uri": "https://localhost:8080/"
        },
        "id": "uu2qCKMrIIw4",
        "outputId": "713aa8cc-ece3-4a39-84a8-acd3c24ce772"
      },
      "execution_count": 44,
      "outputs": [
        {
          "output_type": "stream",
          "name": "stdout",
          "text": [
            "Model: \"sequential\"\n",
            "_________________________________________________________________\n",
            " Layer (type)                Output Shape              Param #   \n",
            "=================================================================\n",
            " conv2d (Conv2D)             (None, 28, 28, 32)        320       \n",
            "                                                                 \n",
            " max_pooling2d (MaxPooling2D  (None, 14, 14, 32)       0         \n",
            " )                                                               \n",
            "                                                                 \n",
            " conv2d_1 (Conv2D)           (None, 14, 14, 64)        18496     \n",
            "                                                                 \n",
            " max_pooling2d_1 (MaxPooling  (None, 7, 7, 64)         0         \n",
            " 2D)                                                             \n",
            "                                                                 \n",
            " flatten (Flatten)           (None, 3136)              0         \n",
            "                                                                 \n",
            " dense (Dense)               (None, 100)               313700    \n",
            "                                                                 \n",
            " dropout (Dropout)           (None, 100)               0         \n",
            "                                                                 \n",
            " dense_1 (Dense)             (None, 10)                1010      \n",
            "                                                                 \n",
            "=================================================================\n",
            "Total params: 333,526\n",
            "Trainable params: 333,526\n",
            "Non-trainable params: 0\n",
            "_________________________________________________________________\n"
          ]
        }
      ]
    },
    {
      "cell_type": "code",
      "source": [
        "model.layers"
      ],
      "metadata": {
        "colab": {
          "base_uri": "https://localhost:8080/"
        },
        "id": "xxBjATB1II0g",
        "outputId": "b042ec9c-af8c-4f22-f858-bae33bf04030"
      },
      "execution_count": 45,
      "outputs": [
        {
          "output_type": "execute_result",
          "data": {
            "text/plain": [
              "[<keras.layers.convolutional.Conv2D at 0x7fa1ca37b1d0>,\n",
              " <keras.layers.pooling.MaxPooling2D at 0x7fa1ca3b2590>,\n",
              " <keras.layers.convolutional.Conv2D at 0x7fa1ca37bf90>,\n",
              " <keras.layers.pooling.MaxPooling2D at 0x7fa1ca3b2190>,\n",
              " <keras.layers.core.flatten.Flatten at 0x7fa1ca395e10>,\n",
              " <keras.layers.core.dense.Dense at 0x7fa1ca39aad0>,\n",
              " <keras.layers.core.dropout.Dropout at 0x7fa1ca3a0790>,\n",
              " <keras.layers.core.dense.Dense at 0x7fa1ca385e50>]"
            ]
          },
          "metadata": {},
          "execution_count": 45
        }
      ]
    },
    {
      "cell_type": "code",
      "source": [
        "type(model.layers[0])"
      ],
      "metadata": {
        "colab": {
          "base_uri": "https://localhost:8080/"
        },
        "id": "ar6nKqsBI9fZ",
        "outputId": "a60dce16-042e-4a90-b340-2591a9423f26"
      },
      "execution_count": 46,
      "outputs": [
        {
          "output_type": "execute_result",
          "data": {
            "text/plain": [
              "keras.layers.convolutional.Conv2D"
            ]
          },
          "metadata": {},
          "execution_count": 46
        }
      ]
    },
    {
      "cell_type": "code",
      "source": [
        "# dir(model.layers[0])"
      ],
      "metadata": {
        "id": "R-F0HZN-I9iX"
      },
      "execution_count": 47,
      "outputs": []
    },
    {
      "cell_type": "code",
      "source": [
        "model.layers[0].kernel.shape"
      ],
      "metadata": {
        "colab": {
          "base_uri": "https://localhost:8080/"
        },
        "id": "3t3aXdVzI9lO",
        "outputId": "3b6bbe21-43b5-4a3a-c505-3b15213fb305"
      },
      "execution_count": 48,
      "outputs": [
        {
          "output_type": "execute_result",
          "data": {
            "text/plain": [
              "TensorShape([3, 3, 1, 32])"
            ]
          },
          "metadata": {},
          "execution_count": 48
        }
      ]
    },
    {
      "cell_type": "code",
      "source": [
        "conv = model.layers[0]  # 첫번째 layer"
      ],
      "metadata": {
        "id": "DcHfn91KLjdl"
      },
      "execution_count": 49,
      "outputs": []
    },
    {
      "cell_type": "code",
      "source": [
        "print('kernel size : {} \\nbias_size : {}'.format(conv.weights[0].shape, conv.weights[1].shape))\n",
        "# 필터 갯수 32, kernel size; 3 by 3 by 1 channel\n",
        "# 절편은 filter 갯수"
      ],
      "metadata": {
        "colab": {
          "base_uri": "https://localhost:8080/"
        },
        "id": "IRodLdH7I9oH",
        "outputId": "ca7505c6-e277-45bf-bb38-793e1f54612e"
      },
      "execution_count": 50,
      "outputs": [
        {
          "output_type": "stream",
          "name": "stdout",
          "text": [
            "kernel size : (3, 3, 1, 32) \n",
            "bias_size : (32,)\n"
          ]
        }
      ]
    },
    {
      "cell_type": "code",
      "source": [
        "conv_weights = conv.weights[0].numpy()"
      ],
      "metadata": {
        "id": "P-9DKD-pL7Af"
      },
      "execution_count": 51,
      "outputs": []
    },
    {
      "cell_type": "code",
      "source": [
        "conv_weights.shape"
      ],
      "metadata": {
        "colab": {
          "base_uri": "https://localhost:8080/"
        },
        "id": "Ewsoh1nYP7wn",
        "outputId": "0865c7af-d522-406d-9251-cd191bd22568"
      },
      "execution_count": 52,
      "outputs": [
        {
          "output_type": "execute_result",
          "data": {
            "text/plain": [
              "(3, 3, 1, 32)"
            ]
          },
          "metadata": {},
          "execution_count": 52
        }
      ]
    },
    {
      "cell_type": "code",
      "source": [
        "print(conv_weights.mean(), conv_weights.std())"
      ],
      "metadata": {
        "colab": {
          "base_uri": "https://localhost:8080/"
        },
        "id": "y-vIhbDsOOEm",
        "outputId": "bc8d837f-f0f4-401d-e1fe-9b326a37f296"
      },
      "execution_count": 53,
      "outputs": [
        {
          "output_type": "stream",
          "name": "stdout",
          "text": [
            "-0.008936822 0.21529211\n"
          ]
        }
      ]
    },
    {
      "cell_type": "code",
      "source": [
        "print(conv_weights.max(), conv_weights.min())"
      ],
      "metadata": {
        "colab": {
          "base_uri": "https://localhost:8080/"
        },
        "id": "ZXwKUbo1PIG_",
        "outputId": "ce43cc39-bb56-4f25-a8da-df3824435a85"
      },
      "execution_count": 54,
      "outputs": [
        {
          "output_type": "stream",
          "name": "stdout",
          "text": [
            "0.37304044 -1.3444066\n"
          ]
        }
      ]
    },
    {
      "cell_type": "code",
      "source": [
        "plt.hist(conv_weights.reshape(-1, 1), bins=15)\n",
        "plt.xlabel('weight')\n",
        "plt.ylabel('count')\n",
        "plt.show()"
      ],
      "metadata": {
        "colab": {
          "base_uri": "https://localhost:8080/",
          "height": 279
        },
        "id": "FzGxMrNGOpXm",
        "outputId": "9f9578d5-bf24-42f4-d6e5-2f2f0a5c040f"
      },
      "execution_count": 55,
      "outputs": [
        {
          "output_type": "display_data",
          "data": {
            "image/png": "[encoded data removed]",
            "text/plain": [
              "<Figure size 432x288 with 1 Axes>"
            ]
          },
          "metadata": {
            "needs_background": "light"
          }
        }
      ]
    },
    {
      "cell_type": "code",
      "source": [
        "figs, axs = plt.subplots(4, 8, figsize=(14,6))\n",
        "for i in range(4):\n",
        "  for j in range(8):\n",
        "    # axs[i,j].imshow(conv_weights[:,:,0,i*4 + j])\n",
        "    axs[i,j].imshow(conv_weights[:,:,0,i*4 + j], vmin=-0.5, vmax=0.5)\n",
        "    axs[i,j].axis('off')"
      ],
      "metadata": {
        "colab": {
          "base_uri": "https://localhost:8080/",
          "height": 357
        },
        "id": "6a0Du3KwQqk3",
        "outputId": "2d0b1005-ef7f-453d-cd9b-cad6809a6394"
      },
      "execution_count": 56,
      "outputs": [
        {
          "output_type": "display_data",
          "data": {
            "image/png": "[encoded data removed]",
            "text/plain": [
              "<Figure size 1008x432 with 32 Axes>"
            ]
          },
          "metadata": {
            "needs_background": "light"
          }
        }
      ]
    },
    {
      "cell_type": "code",
      "source": [
        "no_training_model = Sequential()\n",
        "no_training_model.add(Conv2D(32, kernel_size=3, activation='relu', padding='same', input_shape=(28,28,1)))"
      ],
      "metadata": {
        "id": "x14-YwWmbKUE"
      },
      "execution_count": 57,
      "outputs": []
    },
    {
      "cell_type": "code",
      "source": [
        "no_training_model.layers  # 한 개의 layer만 있음."
      ],
      "metadata": {
        "colab": {
          "base_uri": "https://localhost:8080/"
        },
        "id": "xS7YbVDWdjJN",
        "outputId": "7bcc5ec6-d238-4675-dc96-6a3c1e180286"
      },
      "execution_count": 58,
      "outputs": [
        {
          "output_type": "execute_result",
          "data": {
            "text/plain": [
              "[<keras.layers.convolutional.Conv2D at 0x7fa1ca2b4f50>]"
            ]
          },
          "metadata": {},
          "execution_count": 58
        }
      ]
    },
    {
      "cell_type": "code",
      "source": [
        "no_training_conv = no_training_model.layers[0]\n",
        "print('kernel size : {}'.format(no_training_conv.weights[0].shape))\n",
        "# 필터 갯수 32, kernel size; 3 by 3 by 1 channel"
      ],
      "metadata": {
        "colab": {
          "base_uri": "https://localhost:8080/"
        },
        "id": "so5lXqBMbKkx",
        "outputId": "c526e563-1780-438d-b53c-41450774b35b"
      },
      "execution_count": 59,
      "outputs": [
        {
          "output_type": "stream",
          "name": "stdout",
          "text": [
            "kernel size : (3, 3, 1, 32)\n"
          ]
        }
      ]
    },
    {
      "cell_type": "code",
      "source": [
        "no_training_weights = no_training_conv.weights[0].numpy()"
      ],
      "metadata": {
        "id": "HN53kyRGcVGb"
      },
      "execution_count": 60,
      "outputs": []
    },
    {
      "cell_type": "code",
      "source": [
        "print(no_training_weights.mean(), no_training_weights.std())"
      ],
      "metadata": {
        "colab": {
          "base_uri": "https://localhost:8080/"
        },
        "id": "aE4HiQEsenVI",
        "outputId": "fc0a6cad-48c2-4357-9684-1a681605744a"
      },
      "execution_count": 61,
      "outputs": [
        {
          "output_type": "stream",
          "name": "stdout",
          "text": [
            "-0.001041812 0.08360384\n"
          ]
        }
      ]
    },
    {
      "cell_type": "code",
      "source": [
        "no_training_weights.shape"
      ],
      "metadata": {
        "colab": {
          "base_uri": "https://localhost:8080/"
        },
        "id": "9r7JFYmbOOH3",
        "outputId": "dc5e7e95-f20d-4d60-95da-09fcbe9d04eb"
      },
      "execution_count": 62,
      "outputs": [
        {
          "output_type": "execute_result",
          "data": {
            "text/plain": [
              "(3, 3, 1, 32)"
            ]
          },
          "metadata": {},
          "execution_count": 62
        }
      ]
    },
    {
      "cell_type": "code",
      "source": [
        "plt.hist(no_training_weights.reshape(-1, 1))\n",
        "plt.xlabel('weight')\n",
        "plt.ylabel('count')\n",
        "plt.show()"
      ],
      "metadata": {
        "colab": {
          "base_uri": "https://localhost:8080/",
          "height": 279
        },
        "id": "snrET4ZSeWXa",
        "outputId": "4b2a9b5e-448a-46f4-c551-14309553f816"
      },
      "execution_count": 63,
      "outputs": [
        {
          "output_type": "display_data",
          "data": {
            "image/png": "[encoded data removed]",
            "text/plain": [
              "<Figure size 432x288 with 1 Axes>"
            ]
          },
          "metadata": {
            "needs_background": "light"
          }
        }
      ]
    },
    {
      "cell_type": "code",
      "source": [
        "figs, axs = plt.subplots(4, 8, figsize=(14,6))\n",
        "for i in range(4):\n",
        "  for j in range(8):\n",
        "    # axs[i,j].imshow(conv_weights[:,:,0,i*4 + j])\n",
        "    axs[i,j].imshow(no_training_weights[:,:,0,i*4 + j], vmin=-0.5, vmax=0.5)\n",
        "    axs[i,j].axis('off')\n",
        "plt.show()"
      ],
      "metadata": {
        "colab": {
          "base_uri": "https://localhost:8080/",
          "height": 357
        },
        "id": "zumbrh0LOOLP",
        "outputId": "c326291c-9598-4455-ca67-1bfe05ea2804"
      },
      "execution_count": 64,
      "outputs": [
        {
          "output_type": "display_data",
          "data": {
            "image/png": "[encoded data removed]",
            "text/plain": [
              "<Figure size 1008x432 with 32 Axes>"
            ]
          },
          "metadata": {
            "needs_background": "light"
          }
        }
      ]
    },
    {
      "cell_type": "markdown",
      "metadata": {
        "id": "GEc9KyP35-I6"
      },
      "source": [
        "## 함수형 API"
      ]
    },
    {
      "cell_type": "markdown",
      "source": [
        "#### sequential API에서는 model = Sequential() 선언후 model.add() 등으로 진행하나, <br> \n",
        "#### functional API에서는 model =  Model()로 객체 구성을 마지막에 구성함."
      ],
      "metadata": {
        "id": "scai7wu9vZ39"
      }
    },
    {
      "cell_type": "code",
      "source": [
        "print(model.input)"
      ],
      "metadata": {
        "colab": {
          "base_uri": "https://localhost:8080/"
        },
        "id": "ePPOypIMeWaw",
        "outputId": "c7ff68c0-e316-4b09-e91c-0165e70e354d"
      },
      "execution_count": 65,
      "outputs": [
        {
          "output_type": "stream",
          "name": "stdout",
          "text": [
            "KerasTensor(type_spec=TensorSpec(shape=(None, 28, 28, 1), dtype=tf.float32, name='conv2d_input'), name='conv2d_input', description=\"created by layer 'conv2d_input'\")\n"
          ]
        }
      ]
    },
    {
      "cell_type": "code",
      "source": [
        "conv_acti = Model(model.input, model.layers[0].output)"
      ],
      "metadata": {
        "id": "6UmpAaYCeWeE"
      },
      "execution_count": 66,
      "outputs": []
    },
    {
      "cell_type": "code",
      "source": [
        "# conv_one = Conv2D(32, kernel_size=3, activation='relu', padding='same')\n",
        "# conv_two = Conv2D(64, kernel_size=3, activation='relu', padding='same')\n",
        "# maxpooling = MaxPooling2D(2)\n",
        "# flatten = Flatten()\n",
        "# dense_one = Dense(100, activation='relu')\n",
        "# dropout = Dropout(0.4)\n",
        "# dense_two = Dense(10, activation='softmax')\n",
        "\n",
        "# inputs = Input(shape=(28,28,1))\n",
        "# conv1 = conv_one(input)\n",
        "# maxpool1 = maxpooling(conv1)\n",
        "# conv2 = conv_two(maxpool1)\n",
        "# maxpool2 = maxpooling(conv2)\n",
        "# flatten1 = flatten(maxpool2)(maxpool2)\n",
        "# dense1 = dense_one(flatten1)\n",
        "# dropout1 = dropout(dense1)\n",
        "# output = dense_two(dropout1)\n",
        "# model = Model(inputs=inputs, outputs=output)"
      ],
      "metadata": {
        "id": "VNu7nGUwieGY"
      },
      "execution_count": 67,
      "outputs": []
    },
    {
      "cell_type": "markdown",
      "source": [
        "위와 같이 객체를 구성하여 해도 되고, 아래와 같이 직접 구성해도 됨."
      ],
      "metadata": {
        "id": "NQOi_qWizljx"
      }
    },
    {
      "cell_type": "code",
      "source": [
        "inputs = Input(shape=(28,28,1))\n",
        "conv1 = Conv2D(32, kernel_size=3, activation='relu', padding='same')(inputs)\n",
        "maxpool1 = MaxPooling2D(2)(conv1)\n",
        "conv2 = Conv2D(64, kernel_size=3, activation='relu', padding='same')(maxpool1)\n",
        "maxpool2 = MaxPooling2D(2)(conv2)\n",
        "flatten1 = Flatten()(maxpool2)\n",
        "dense1 = Dense(100, activation='relu')(flatten1)\n",
        "dropout1 = Dropout(0.4)(dense1)\n",
        "output = Dense(10, activation='softmax')(dropout1)\n",
        "model = Model(inputs=inputs, outputs=output)"
      ],
      "metadata": {
        "id": "uNVPCQN-ieJf"
      },
      "execution_count": 90,
      "outputs": []
    },
    {
      "cell_type": "code",
      "source": [
        "model.compile(optimizer='adam', loss='sparse_categorical_crossentropy', metrics='accuracy')"
      ],
      "metadata": {
        "id": "E9YrjwtfieQP"
      },
      "execution_count": 91,
      "outputs": []
    },
    {
      "cell_type": "code",
      "source": [
        "(train_input, train_target), (test_input, test_target) = fashion_mnist.load_data()\n",
        "train_scaled = train_input.reshape(-1, 28,28,1) / 255\n",
        "train_scaled, val_scaled, train_target, val_target = train_test_split(train_scaled, train_target, test_size=0.2, random_state=42)"
      ],
      "metadata": {
        "id": "944P-8YP0rP6"
      },
      "execution_count": 93,
      "outputs": []
    },
    {
      "cell_type": "code",
      "source": [
        "checkpoint_cb = ModelCheckpoint('best_cnn_model_func_API.h5', save_best_only=True)"
      ],
      "metadata": {
        "id": "JWQ2D_Qf1dMO"
      },
      "execution_count": 94,
      "outputs": []
    },
    {
      "cell_type": "code",
      "source": [
        "early_stopping_cb = EarlyStopping(patience=2, restore_best_weights=True)"
      ],
      "metadata": {
        "id": "MXIJXekL1dCW"
      },
      "execution_count": 95,
      "outputs": []
    },
    {
      "cell_type": "code",
      "source": [
        "history = model.fit(train_scaled, train_target, epochs=20, verbose=1,\n",
        "          callbacks=[checkpoint_cb, early_stopping_cb], \n",
        "          validation_data = (val_scaled, val_target))"
      ],
      "metadata": {
        "id": "2y4dLQ7wzlCK",
        "outputId": "ec26ebb6-97c0-403b-9d42-646a353f9580",
        "colab": {
          "base_uri": "https://localhost:8080/"
        }
      },
      "execution_count": 96,
      "outputs": [
        {
          "output_type": "stream",
          "name": "stdout",
          "text": [
            "Epoch 1/20\n",
            "1500/1500 [==============================] - 11s 7ms/step - loss: 0.5175 - accuracy: 0.8141 - val_loss: 0.3221 - val_accuracy: 0.8800\n",
            "Epoch 2/20\n",
            "1500/1500 [==============================] - 11s 7ms/step - loss: 0.3387 - accuracy: 0.8781 - val_loss: 0.2805 - val_accuracy: 0.8961\n",
            "Epoch 3/20\n",
            "1500/1500 [==============================] - 10s 7ms/step - loss: 0.2883 - accuracy: 0.8960 - val_loss: 0.2533 - val_accuracy: 0.9057\n",
            "Epoch 4/20\n",
            "1500/1500 [==============================] - 10s 7ms/step - loss: 0.2579 - accuracy: 0.9057 - val_loss: 0.2459 - val_accuracy: 0.9084\n",
            "Epoch 5/20\n",
            "1500/1500 [==============================] - 11s 7ms/step - loss: 0.2345 - accuracy: 0.9148 - val_loss: 0.2376 - val_accuracy: 0.9106\n",
            "Epoch 6/20\n",
            "1500/1500 [==============================] - 10s 7ms/step - loss: 0.2132 - accuracy: 0.9211 - val_loss: 0.2294 - val_accuracy: 0.9174\n",
            "Epoch 7/20\n",
            "1500/1500 [==============================] - 10s 7ms/step - loss: 0.1977 - accuracy: 0.9275 - val_loss: 0.2199 - val_accuracy: 0.9172\n",
            "Epoch 8/20\n",
            "1500/1500 [==============================] - 10s 7ms/step - loss: 0.1787 - accuracy: 0.9327 - val_loss: 0.2235 - val_accuracy: 0.9218\n",
            "Epoch 9/20\n",
            "1500/1500 [==============================] - 10s 7ms/step - loss: 0.1692 - accuracy: 0.9376 - val_loss: 0.2222 - val_accuracy: 0.9192\n"
          ]
        }
      ]
    },
    {
      "cell_type": "code",
      "source": [
        "plt.plot(history.history['val_loss'])\n",
        "plt.plot(history.history['loss'])\n",
        "plt.legend(['val_loss', 'loss'])\n",
        "plt.show()"
      ],
      "metadata": {
        "id": "EsS3DQmmzlFB",
        "outputId": "5f872d2d-1a52-48f5-aeab-831554417a33",
        "colab": {
          "base_uri": "https://localhost:8080/",
          "height": 265
        }
      },
      "execution_count": 101,
      "outputs": [
        {
          "output_type": "display_data",
          "data": {
            "image/png": "[encoded data removed]",
            "text/plain": [
              "<Figure size 432x288 with 1 Axes>"
            ]
          },
          "metadata": {
            "needs_background": "light"
          }
        }
      ]
    },
    {
      "cell_type": "code",
      "source": [
        "plt.plot(history.history['val_accuracy'])\n",
        "plt.plot(history.history['accuracy'])\n",
        "plt.legend(['val_accuracy', 'accuracy'])\n",
        "plt.show()"
      ],
      "metadata": {
        "colab": {
          "base_uri": "https://localhost:8080/",
          "height": 265
        },
        "id": "fUYK1GS6eWl4",
        "outputId": "6557618f-17ca-44ec-d4d6-baaa93270a5a"
      },
      "execution_count": 102,
      "outputs": [
        {
          "output_type": "display_data",
          "data": {
            "image/png": "[encoded data removed]",
            "text/plain": [
              "<Figure size 432x288 with 1 Axes>"
            ]
          },
          "metadata": {
            "needs_background": "light"
          }
        }
      ]
    },
    {
      "cell_type": "code",
      "source": [
        "print(f'best_epoch: {early_stopping_cb.best_epoch}, stopped_epoch: {early_stopping_cb.stopped_epoch}')"
      ],
      "metadata": {
        "id": "y2PoKuaL6R9Q",
        "outputId": "d2063a28-58b0-469a-e4be-a58a0cba1262",
        "colab": {
          "base_uri": "https://localhost:8080/"
        }
      },
      "execution_count": 107,
      "outputs": [
        {
          "output_type": "stream",
          "name": "stdout",
          "text": [
            "best_epoch: 6, stopped_epoch: 8\n"
          ]
        }
      ]
    },
    {
      "cell_type": "code",
      "source": [
        "model.evaluate(val_scaled, val_target)"
      ],
      "metadata": {
        "id": "LHCYNGKA7Pkv",
        "outputId": "a29e4298-0742-49b6-cecf-b8705a049f7f",
        "colab": {
          "base_uri": "https://localhost:8080/"
        }
      },
      "execution_count": 108,
      "outputs": [
        {
          "output_type": "stream",
          "name": "stdout",
          "text": [
            "375/375 [==============================] - 1s 3ms/step - loss: 0.2199 - accuracy: 0.9172\n"
          ]
        },
        {
          "output_type": "execute_result",
          "data": {
            "text/plain": [
              "[0.2198706865310669, 0.9172499775886536]"
            ]
          },
          "metadata": {},
          "execution_count": 108
        }
      ]
    },
    {
      "cell_type": "markdown",
      "metadata": {
        "id": "CF6JzHj-5-I6"
      },
      "source": [
        "## 특성 맵 시각화"
      ]
    },
    {
      "cell_type": "code",
      "source": [
        ""
      ],
      "metadata": {
        "id": "92QRp98D7E0P"
      },
      "execution_count": null,
      "outputs": []
    },
    {
      "cell_type": "code",
      "source": [
        ""
      ],
      "metadata": {
        "id": "pw1QP6HY7E3P"
      },
      "execution_count": null,
      "outputs": []
    },
    {
      "cell_type": "code",
      "execution_count": null,
      "metadata": {
        "colab": {
          "base_uri": "https://localhost:8080/"
        },
        "id": "TU5ENBPB5-I7",
        "outputId": "0b183b22-1afc-42c7-d7e2-6e240b1777df"
      },
      "outputs": [
        {
          "output_type": "stream",
          "name": "stdout",
          "text": [
            "Downloading data from https://storage.googleapis.com/tensorflow/tf-keras-datasets/train-labels-idx1-ubyte.gz\n",
            "32768/29515 [=================================] - 0s 0us/step\n",
            "40960/29515 [=========================================] - 0s 0us/step\n",
            "Downloading data from https://storage.googleapis.com/tensorflow/tf-keras-datasets/train-images-idx3-ubyte.gz\n",
            "26427392/26421880 [==============================] - 0s 0us/step\n",
            "26435584/26421880 [==============================] - 0s 0us/step\n",
            "Downloading data from https://storage.googleapis.com/tensorflow/tf-keras-datasets/t10k-labels-idx1-ubyte.gz\n",
            "16384/5148 [===============================================================================================] - 0s 0us/step\n",
            "Downloading data from https://storage.googleapis.com/tensorflow/tf-keras-datasets/t10k-images-idx3-ubyte.gz\n",
            "4423680/4422102 [==============================] - 0s 0us/step\n",
            "4431872/4422102 [==============================] - 0s 0us/step\n"
          ]
        }
      ],
      "source": [
        "(train_input, train_target), (test_input, test_target) = keras.datasets.fashion_mnist.load_data()"
      ]
    },
    {
      "cell_type": "code",
      "execution_count": null,
      "metadata": {
        "colab": {
          "base_uri": "https://localhost:8080/",
          "height": 264
        },
        "id": "8-GBYsqm5-I7",
        "outputId": "313b9f1d-1242-4234-8dbf-b2c88c9008ae"
      },
      "outputs": [
        {
          "output_type": "display_data",
          "data": {
            "image/png": "[encoded data removed]",
            "text/plain": [
              "<Figure size 432x288 with 1 Axes>"
            ]
          },
          "metadata": {
            "needs_background": "light"
          }
        }
      ],
      "source": [
        "plt.imshow(train_input[0], cmap='gray_r')\n",
        "plt.show()"
      ]
    },
    {
      "cell_type": "code",
      "execution_count": null,
      "metadata": {
        "id": "aJDrgyzo5-I7"
      },
      "outputs": [],
      "source": [
        "inputs = train_input[0:1].reshape(-1, 28, 28, 1)/255.0\n",
        "\n",
        "feature_maps = conv_acti.predict(inputs)"
      ]
    },
    {
      "cell_type": "code",
      "execution_count": null,
      "metadata": {
        "colab": {
          "base_uri": "https://localhost:8080/"
        },
        "id": "wYMHCQ0C5-I7",
        "outputId": "de6f5eed-e760-40cc-ddd2-8496bf04b94d"
      },
      "outputs": [
        {
          "output_type": "stream",
          "name": "stdout",
          "text": [
            "(1, 28, 28, 32)\n"
          ]
        }
      ],
      "source": [
        "print(feature_maps.shape)"
      ]
    },
    {
      "cell_type": "code",
      "execution_count": null,
      "metadata": {
        "colab": {
          "base_uri": "https://localhost:8080/",
          "height": 460
        },
        "id": "n9hhqasw5-I7",
        "outputId": "3245be08-84f3-4af6-f857-43c8a72b35a8"
      },
      "outputs": [
        {
          "output_type": "display_data",
          "data": {
            "image/png": "[encoded data removed]",
            "text/plain": [
              "<Figure size 1080x576 with 32 Axes>"
            ]
          },
          "metadata": {
            "needs_background": "light"
          }
        }
      ],
      "source": [
        "fig, axs = plt.subplots(4, 8, figsize=(15,8))\n",
        "\n",
        "for i in range(4):\n",
        "    for j in range(8):\n",
        "        axs[i, j].imshow(feature_maps[0,:,:,i*8 + j])\n",
        "        axs[i, j].axis('off')\n",
        "\n",
        "plt.show()"
      ]
    },
    {
      "cell_type": "code",
      "execution_count": null,
      "metadata": {
        "id": "RBCPiHm_5-I8"
      },
      "outputs": [],
      "source": [
        "conv2_acti = keras.Model(model.input, model.layers[2].output)"
      ]
    },
    {
      "cell_type": "code",
      "execution_count": null,
      "metadata": {
        "id": "n5U3pxZc5-I8"
      },
      "outputs": [],
      "source": [
        "feature_maps = conv2_acti.predict(train_input[0:1].reshape(-1, 28, 28, 1)/255.0)"
      ]
    },
    {
      "cell_type": "code",
      "execution_count": null,
      "metadata": {
        "colab": {
          "base_uri": "https://localhost:8080/"
        },
        "id": "9QcCxjOf5-I8",
        "outputId": "3233e975-44f2-4bd5-8c08-3965998cf250"
      },
      "outputs": [
        {
          "output_type": "stream",
          "name": "stdout",
          "text": [
            "(1, 14, 14, 64)\n"
          ]
        }
      ],
      "source": [
        "print(feature_maps.shape)"
      ]
    },
    {
      "cell_type": "code",
      "execution_count": null,
      "metadata": {
        "colab": {
          "base_uri": "https://localhost:8080/",
          "height": 683
        },
        "id": "6xc2oG6D5-I8",
        "outputId": "5ce199aa-7f02-4925-bbe7-d107fc2a96cb"
      },
      "outputs": [
        {
          "output_type": "display_data",
          "data": {
            "image/png": "[encoded data removed]",
            "text/plain": [
              "<Figure size 864x864 with 64 Axes>"
            ]
          },
          "metadata": {
            "needs_background": "light"
          }
        }
      ],
      "source": [
        "fig, axs = plt.subplots(8, 8, figsize=(12,12))\n",
        "\n",
        "for i in range(8):\n",
        "    for j in range(8):\n",
        "        axs[i, j].imshow(feature_maps[0,:,:,i*8 + j])\n",
        "        axs[i, j].axis('off')\n",
        "\n",
        "plt.show()"
      ]
    }
  ],
  "metadata": {
    "accelerator": "GPU",
    "colab": {
      "name": "8-3.ipynb",
      "provenance": [],
      "include_colab_link": true
    },
    "kernelspec": {
      "display_name": "Python 3 (ipykernel)",
      "language": "python",
      "name": "python3"
    },
    "language_info": {
      "codemirror_mode": {
        "name": "ipython",
        "version": 3
      },
      "file_extension": ".py",
      "mimetype": "text/x-python",
      "name": "python",
      "nbconvert_exporter": "python",
      "pygments_lexer": "ipython3",
      "version": "3.7.3"
    }
  },
  "nbformat": 4,
  "nbformat_minor": 0
}